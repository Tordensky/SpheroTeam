{
 "cells": [
  {
   "cell_type": "markdown",
   "metadata": {},
   "source": [
    "This notebook deals with exploring the viability of basic PID control.\n",
    "\n",
    "The library may throw error messages when the robots turn off, but the underlying code is usually still OK.\n"
   ]
  },
  {
   "cell_type": "code",
   "execution_count": 1,
   "metadata": {
    "collapsed": true
   },
   "outputs": [],
   "source": [
    "# Import to make the sphero team library accessible from other folders\n",
    "import sys\n",
    "sys.path.append('../')\n",
    "\n",
    "# import SpheroTeam\n",
    "# use reload(SpheroTeam) to refresh lib as it gets updated"
   ]
  },
  {
   "cell_type": "code",
   "execution_count": 1,
   "metadata": {
    "collapsed": true
   },
   "outputs": [],
   "source": [
    "# NEW SPHEROS\n",
    "import sphero\n",
    "import time"
   ]
  },
  {
   "cell_type": "code",
   "execution_count": 2,
   "metadata": {
    "collapsed": true
   },
   "outputs": [],
   "source": [
    "manager = sphero.SpheroManager()"
   ]
  },
  {
   "cell_type": "code",
   "execution_count": 3,
   "metadata": {
    "collapsed": true
   },
   "outputs": [],
   "source": [
    "# Initialize Sphero manager with addresses of local spheros\n",
    "manager._name_cache = {\"68:86:E7:05:0C:4B\": \"Sphero-YYP\", # these are the original 3 # seems to be disabled\n",
    "                       \"68:86:E7:05:19:AD\": \"Sphero-RYR\", # seems to be disabled\n",
    "                       \"68:86:E7:05:12:26\": \"Sphero-RPB\",   \n",
    "                       \"68:86:E7:09:A6:FE\" : \"Sphero-ORG\", # start the newer four\n",
    "                       \"68:86:E7:09:A2:FE\" : \"Sphero-RWR\",\n",
    "                       \"68:86:E7:09:4E:74\":  \"Sphero-YPR\",  # Last one is GRY                     \n",
    "                       \"68:86:E7:09:A9:28\" : \"Sphero-GRY\"        \n",
    "                      }\n",
    "\n",
    "\n",
    "NBOTS = 7   # Number of spheros "
   ]
  },
  {
   "cell_type": "code",
   "execution_count": 4,
   "metadata": {},
   "outputs": [
    {
     "name": "stdout",
     "output_type": "stream",
     "text": [
      "Starts auto search\n",
      "Found Sphero-ORG\n",
      "Found Sphero-RYR\n",
      "Found Sphero-RPB\n",
      "Found Sphero-YYP\n",
      "Found Sphero-RWR\n",
      "Found Sphero-YPR\n",
      "Found Sphero-GRY\n",
      "Found all 7 spheros\n"
     ]
    }
   ],
   "source": [
    "# use this code snippet when working with new spheros that you have not encountered before.\n",
    "def on_new_sphero(device, NBOTS=NBOTS):\n",
    "    \"\"\"\n",
    "        NBOTS = number of robots in the flock\n",
    "        Note that this presently refers to a global \"manager\" object. This method should be moved inside the native\n",
    "        library later.\n",
    "    \"\"\"\n",
    "    print \"Found \" + device.bt_name\n",
    "    # Terminate search when all expected bots are found\n",
    "    if len(manager._spheros.keys()) == NBOTS:\n",
    "        print \"Found all {} spheros\".format(NBOTS)\n",
    "        manager.stop_auto_search()\n",
    "        \n",
    "                      \n",
    "# Callback\n",
    "manager.set_sphero_found_cb(on_new_sphero)\n",
    "\n",
    "# Construct list of devices in system bluetooth collection\n",
    "# Your bluetooth network cannot contain anything with name of \"Sphero-\" prefix\n",
    "devices = []\n",
    "\n",
    "manager.start_auto_search()"
   ]
  },
  {
   "cell_type": "code",
   "execution_count": 5,
   "metadata": {},
   "outputs": [
    {
     "name": "stdout",
     "output_type": "stream",
     "text": [
      "Sphero-RPB: 68:86:E7:05:12:26\n",
      "Sphero-YPR: 68:86:E7:09:4E:74\n",
      "Sphero-GRY: 68:86:E7:09:A9:28\n",
      "Sphero-YYP: 68:86:E7:05:0C:4B\n",
      "Sphero-RWR: 68:86:E7:09:A2:FE\n",
      "Sphero-ORG: 68:86:E7:09:A6:FE\n",
      "Sphero-RYR: 68:86:E7:05:19:AD\n"
     ]
    },
    {
     "data": {
      "text/plain": [
       "[<sphero.core.SpheroAPI at 0x4dd6898>,\n",
       " <sphero.core.SpheroAPI at 0x4dd6780>,\n",
       " <sphero.core.SpheroAPI at 0x4dd6a20>,\n",
       " <sphero.core.SpheroAPI at 0x4dd6940>,\n",
       " <sphero.core.SpheroAPI at 0x4dd6668>,\n",
       " <sphero.core.SpheroAPI at 0x4dd66d8>,\n",
       " <sphero.core.SpheroAPI at 0x4dd63c8>]"
      ]
     },
     "execution_count": 5,
     "metadata": {},
     "output_type": "execute_result"
    }
   ],
   "source": [
    "devices = []\n",
    "\n",
    "# Verify that these are the robots we are looking for\n",
    "for name, device in manager._spheros.iteritems():\n",
    "    print \"{}: {}\".format(name, device.bt_addr)\n",
    "    devices.append(device)\n",
    "devices"
   ]
  },
  {
   "cell_type": "code",
   "execution_count": 7,
   "metadata": {},
   "outputs": [
    {
     "name": "stdout",
     "output_type": "stream",
     "text": [
      "Sphero-GRY try 0\n",
      "Connected!\n"
     ]
    },
    {
     "data": {
      "text/plain": [
       "True"
      ]
     },
     "execution_count": 7,
     "metadata": {},
     "output_type": "execute_result"
    }
   ],
   "source": [
    "devices[2].connect()\n"
   ]
  },
  {
   "cell_type": "code",
   "execution_count": 12,
   "metadata": {},
   "outputs": [
    {
     "name": "stdout",
     "output_type": "stream",
     "text": [
      " RecVer: v.1 \n",
      " PowerState: Battery OK \n",
      " Voltage: 7.47 \n",
      " NumCharges 8 \n",
      " Last charge: 294 sec\n",
      "\n",
      "Received unknown async msg! Header:  (255, 254, 5, 1)\n"
     ]
    },
    {
     "name": "stderr",
     "output_type": "stream",
     "text": [
      "Exception in thread SpheroReceiverThread:\n",
      "Traceback (most recent call last):\n",
      "  File \"C:\\Users\\cyick\\Anaconda2\\lib\\threading.py\", line 801, in __bootstrap_inner\n",
      "    self.run()\n",
      "  File \"C:\\Users\\cyick\\Anaconda2\\lib\\threading.py\", line 754, in run\n",
      "    self.__target(*self.__args, **self.__kwargs)\n",
      "  File \"C:\\Users\\cyick\\AppData\\Roaming\\Python\\Python27\\site-packages\\sphero\\core.py\", line 415, in _receiver\n",
      "    header = self._receive_header()\n",
      "  File \"C:\\Users\\cyick\\AppData\\Roaming\\Python\\Python27\\site-packages\\sphero\\core.py\", line 299, in _receive_header\n",
      "    first_byte = struct.unpack('B', raw_data)[0]\n",
      "error: unpack requires a string argument of length 1\n",
      "\n"
     ]
    }
   ],
   "source": [
    "print bot.get_power_state()"
   ]
  },
  {
   "cell_type": "code",
   "execution_count": 8,
   "metadata": {
    "collapsed": true
   },
   "outputs": [],
   "source": [
    "bot = devices[2]"
   ]
  },
  {
   "cell_type": "code",
   "execution_count": 10,
   "metadata": {},
   "outputs": [
    {
     "data": {
      "text/plain": [
       "<sphero.response.Response at 0x4e2f9e8>"
      ]
     },
     "execution_count": 10,
     "metadata": {},
     "output_type": "execute_result"
    }
   ],
   "source": [
    "bot.set_rgb(200, 200, 0)"
   ]
  },
  {
   "cell_type": "code",
   "execution_count": null,
   "metadata": {
    "collapsed": true,
    "scrolled": true
   },
   "outputs": [],
   "source": [
    "\n",
    "for device in devices[1:]:\n",
    "#     print \"{}: {}\".format(device.bt_addr)\n",
    "    device.connect()\n",
    "    time.sleep(1)\n",
    "   "
   ]
  },
  {
   "cell_type": "code",
   "execution_count": null,
   "metadata": {},
   "outputs": [],
   "source": [
    "# If batter y is low, probably need to charge.\n",
    "for device in devices[1:]:\n",
    "#     print device.get_power_state()   \n",
    "    device.roll(50,0)"
   ]
  },
  {
   "cell_type": "code",
   "execution_count": 7,
   "metadata": {
    "scrolled": true
   },
   "outputs": [
    {
     "name": "stdout",
     "output_type": "stream",
     "text": [
      "('Sphero-RPB', <sphero.core.SpheroAPI object at 0x0000000004ED0F28>)\n",
      "('Sphero-YPR', <sphero.core.SpheroAPI object at 0x0000000004ED0FD0>)\n",
      "(u'Sphero-GRY', <sphero.core.SpheroAPI object at 0x0000000004F34080>)\n",
      "('Sphero-YYP', <sphero.core.SpheroAPI object at 0x0000000004ED0DA0>)\n",
      "('Sphero-RWR', <sphero.core.SpheroAPI object at 0x0000000004F34160>)\n",
      "('Sphero-ORG', <sphero.core.SpheroAPI object at 0x0000000004ED0E48>)\n",
      "('Sphero-RYR', <sphero.core.SpheroAPI object at 0x0000000004F34240>)\n"
     ]
    }
   ],
   "source": [
    "for m in manager._spheros.iteritems():\n",
    "    print m"
   ]
  },
  {
   "cell_type": "code",
   "execution_count": 9,
   "metadata": {},
   "outputs": [
    {
     "data": {
      "text/plain": [
       "'68:86:E7:09:4E:74'"
      ]
     },
     "execution_count": 9,
     "metadata": {},
     "output_type": "execute_result"
    },
    {
     "name": "stdout",
     "output_type": "stream",
     "text": [
      "Found Sphero-GRY\n",
      "Found all 7 spheros\n"
     ]
    }
   ],
   "source": [
    "list(manager._spheros.iteritems())[1][1].bt_addr"
   ]
  },
  {
   "cell_type": "code",
   "execution_count": 25,
   "metadata": {},
   "outputs": [
    {
     "name": "stdout",
     "output_type": "stream",
     "text": [
      "Sphero-RPB\n",
      "Sphero-YPR\n",
      "Sphero-GRY\n",
      "Sphero-YYP\n",
      "Sphero-RWR\n",
      "Sphero-ORG\n",
      "Sphero-RYR\n"
     ]
    }
   ],
   "source": [
    "for device in devices:\n",
    "    print device.bt_name"
   ]
  },
  {
   "cell_type": "markdown",
   "metadata": {},
   "source": [
    "These are experiments on 4/15\n"
   ]
  },
  {
   "cell_type": "code",
   "execution_count": 186,
   "metadata": {},
   "outputs": [
    {
     "name": "stdout",
     "output_type": "stream",
     "text": [
      "try 0\n",
      "An exception of type IOError occurred. Arguments:\n",
      "('A connection attempt failed because the connected party did not properly respond after a period of time, or established connection failed because connected host has failed to respond.\\r\\n',)\n",
      "try 1\n",
      "Connected!\n"
     ]
    },
    {
     "data": {
      "text/plain": [
       "True"
      ]
     },
     "execution_count": 186,
     "metadata": {},
     "output_type": "execute_result"
    }
   ],
   "source": [
    "devices[2].connect()"
   ]
  },
  {
   "cell_type": "code",
   "execution_count": 246,
   "metadata": {},
   "outputs": [
    {
     "name": "stdout",
     "output_type": "stream",
     "text": [
      "try 0\n",
      "An exception of type IOError occurred. Arguments:\n",
      "('A connection attempt failed because the connected party did not properly respond after a period of time, or established connection failed because connected host has failed to respond.\\r\\n',)\n",
      "try 1\n",
      "An exception of type IOError occurred. Arguments:\n",
      "('A connection attempt failed because the connected party did not properly respond after a period of time, or established connection failed because connected host has failed to respond.\\r\\n',)\n",
      "try 2\n",
      "An exception of type IOError occurred. Arguments:\n",
      "('A connection attempt failed because the connected party did not properly respond after a period of time, or established connection failed because connected host has failed to respond.\\r\\n',)\n",
      "try 3\n",
      "An exception of type IOError occurred. Arguments:\n",
      "('A connection attempt failed because the connected party did not properly respond after a period of time, or established connection failed because connected host has failed to respond.\\r\\n',)\n",
      "try 4\n",
      "An exception of type IOError occurred. Arguments:\n",
      "('A connection attempt failed because the connected party did not properly respond after a period of time, or established connection failed because connected host has failed to respond.\\r\\n',)\n",
      "try 5\n",
      "An exception of type IOError occurred. Arguments:\n",
      "('A connection attempt failed because the connected party did not properly respond after a period of time, or established connection failed because connected host has failed to respond.\\r\\n',)\n",
      "try 6\n",
      "Connected!\n"
     ]
    },
    {
     "data": {
      "text/plain": [
       "True"
      ]
     },
     "execution_count": 246,
     "metadata": {},
     "output_type": "execute_result"
    }
   ],
   "source": [
    "devices[0].connect()"
   ]
  },
  {
   "cell_type": "code",
   "execution_count": null,
   "metadata": {
    "collapsed": true
   },
   "outputs": [],
   "source": [
    "print_team_status(bots)"
   ]
  },
  {
   "cell_type": "code",
   "execution_count": 247,
   "metadata": {
    "collapsed": true
   },
   "outputs": [],
   "source": [
    "# Test notes 4/15\n",
    "#select active robots\n",
    "# bots = [ devices[0], devices[4], devices[5]]\n",
    "bots = [ devices[2]]"
   ]
  },
  {
   "cell_type": "code",
   "execution_count": null,
   "metadata": {},
   "outputs": [],
   "source": [
    "# Manage sphero colors consistently\n",
    "colors = [\n",
    "    [255, 0 , 0],\n",
    "    [0, 255 , 0],\n",
    "    [0, 0 , 255],\n",
    "    [255, 0, 255]\n",
    "]\n",
    "\n",
    "# Initialization for any team\n",
    "set_team_back_led(bots, True)\n",
    "\n",
    "set_team_colors(bots, colors)\n",
    "print_team_status(bots)"
   ]
  },
  {
   "cell_type": "code",
   "execution_count": null,
   "metadata": {
    "collapsed": true
   },
   "outputs": [],
   "source": [
    "# Math Functions\n",
    "def normalize_angle(angle):\n",
    "    if angle < 0:\n",
    "        return 360 + angle\n",
    "    elif angle > 359:\n",
    "        return angle - 360\n",
    "    else:\n",
    "        return angle"
   ]
  },
  {
   "cell_type": "code",
   "execution_count": 224,
   "metadata": {
    "collapsed": true
   },
   "outputs": [],
   "source": [
    "# Team control library\n",
    "\n",
    "def set_team_back_led(bots, status):\n",
    "    # Bright if true, dim if false\n",
    "    status = 0xff if status else 0x00\n",
    "    \n",
    "    for bot in bots:  \n",
    "        bot.set_back_led_output(status)\n",
    "        \n",
    "\n",
    "        \n",
    "def set_team_colors(bots, colors):\n",
    "    for i, bot in enumerate(bots):  \n",
    "        colorTriple = colors[i]\n",
    "        bot.set_rgb(colorTriple[0], colorTriple[1], colorTriple[2])\n",
    "        \n",
    "def print_team_status(bots):\n",
    "    for bot in bots:\n",
    "        response = bot.get_power_state()\n",
    "        print \"{} {} | {}\".format(bot.bt_name, response.power_state, response.bat_voltage)\n",
    "        \n",
    "def roll_sphero(bot, speed, heading, offset):\n",
    "    \"\"\"\n",
    "        Roll robot in in proper direction at a given speed\n",
    "    \"\"\"\n",
    "    bot.roll(speed, normalize_angle(heading + offset))\n",
    "    \n",
    "def roll_sphero_team_synchronized(bots, speed, heading, offsets,motionTimeout=2000):\n",
    "    \"\"\"\n",
    "        Move all robots in same direction at shared speed\n",
    "    \"\"\"\n",
    "#     for bot in bots:\n",
    "#         bot.set_motion_timeout(motionTimeout)\n",
    "    assert(len(bots) == len(offsets))\n",
    "    tStart = time.time()\n",
    "    \n",
    "    for i, bot in enumerate(bots):\n",
    "        roll_sphero(bot, speed, heading, offsets[i])\n",
    "        \n",
    "        \n",
    "    tEnd = time.time()\n",
    "    \n",
    "    print(\"Dispatch Time {}\".format(tEnd - tStart) )\n",
    "    time.sleep(motionTimeout / 1000)  # wait for bots to finish rolling\n",
    "    \n"
   ]
  },
  {
   "cell_type": "code",
   "execution_count": 240,
   "metadata": {
    "run_control": {
     "marked": true
    }
   },
   "outputs": [
    {
     "name": "stdout",
     "output_type": "stream",
     "text": [
      "Dispatch Time 0.357000112534\n",
      "Dispatch Time 0.218999862671\n",
      "Dispatch Time 0.266999959946\n"
     ]
    },
    {
     "name": "stderr",
     "output_type": "stream",
     "text": [
      "Exception in thread SpheroReceiverThread:\n",
      "Traceback (most recent call last):\n",
      "  File \"C:\\Users\\cyick\\Anaconda2\\lib\\threading.py\", line 801, in __bootstrap_inner\n",
      "    self.run()\n",
      "  File \"C:\\Users\\cyick\\Anaconda2\\lib\\threading.py\", line 754, in run\n",
      "    self.__target(*self.__args, **self.__kwargs)\n",
      "  File \"C:\\Users\\cyick\\AppData\\Roaming\\Python\\Python27\\site-packages\\sphero\\core.py\", line 415, in _receiver\n",
      "    header = self._receive_header()\n",
      "  File \"C:\\Users\\cyick\\AppData\\Roaming\\Python\\Python27\\site-packages\\sphero\\core.py\", line 299, in _receive_header\n",
      "    first_byte = struct.unpack('B', raw_data)[0]\n",
      "error: unpack requires a string argument of length 1\n",
      "\n"
     ]
    }
   ],
   "source": [
    "# angles = [0, 120, 240]\n",
    "# Demo Reel: show basic \n",
    "\n",
    "botAngleOffsets = [\n",
    "    15, 120, 90, 230         \n",
    "    \n",
    "]\n",
    "\n",
    "corners = 3\n",
    "angles = [ i * (360 / corners) for i in range(corners)]\n",
    "\n",
    "\n",
    "for angle in angles:\n",
    "    roll_sphero_team_synchronized(bots, 80, angle, botAngleOffsets)\n",
    "    \n",
    "    \n",
    "# roll_sphero_team_synchronized(bots, 100, 30, botAngleOffsets)"
   ]
  },
  {
   "cell_type": "code",
   "execution_count": 181,
   "metadata": {
    "collapsed": true
   },
   "outputs": [],
   "source": [
    "# code in offsets manually for r,g,b\n",
    "\n",
    "# direction = 50\n",
    "\n",
    "direction = 40\n",
    "\n",
    "speed = 70\n",
    "\n",
    "\n",
    "\n",
    "    \n",
    "    \n",
    "time.sleep(3)\n",
    "\n",
    "direction2 = direction + 180\n",
    "    \n",
    "for i, bot in enumerate(bots):\n",
    "    roll_sphero(bot, speed, direction2, botAngleOffsets[i])\n",
    "    "
   ]
  },
  {
   "cell_type": "code",
   "execution_count": 10,
   "metadata": {
    "collapsed": true
   },
   "outputs": [],
   "source": [
    "bot = bot[1]"
   ]
  },
  {
   "cell_type": "code",
   "execution_count": 11,
   "metadata": {},
   "outputs": [
    {
     "data": {
      "text/plain": [
       "<sphero.response.Response at 0x4f34518>"
      ]
     },
     "execution_count": 11,
     "metadata": {},
     "output_type": "execute_result"
    }
   ],
   "source": [
    "bot.set_rgb(0, 255,0 )\n",
    "\n"
   ]
  },
  {
   "cell_type": "code",
   "execution_count": 13,
   "metadata": {
    "collapsed": true
   },
   "outputs": [],
   "source": [
    "import time\n",
    "import math\n",
    "\n",
    "# PID controller for sphero\n",
    "\n",
    "class pidController():\n",
    "\n",
    "    def __init__(self):\n",
    "        self.isRunning = False\n",
    "        \n",
    "        self.epsilon   = 0.1 # some small bound? \n",
    "    def reset(self):\n",
    "        self.isRunning = False\n",
    "\n",
    "    # later may find that P controller is sufficient\n",
    "    # Documentation is here: \n",
    "    \n",
    "    # headingCMD = desiredHeading + (headingKp*currErrorHeading)\n",
    "    \n",
    "    # velocityCMD = velocityKp*distance\n",
    "    # http://ctms.engin.umich.edu/CTMS/index.php?example=Introduction&section=ControlPID\n",
    "    def getPIDSpeed(self, distance, speed, Kp, Ki, Kd, stopRadius=3, \n",
    "                   maxSpeed=70, minSpeed=30, resumeSpeed=50):\n",
    "        \n",
    "        \n",
    "        \n",
    "        \"\"\"\n",
    "            Other variables self explanatory?\n",
    "            Kp: Proportional controller gain\n",
    "            Ki: Intergral controller gain\n",
    "            Kd: Derivative controller gain\n",
    "            stopRadius: If robot is within this distance of object, try to stop.\n",
    "            distance: Distance in centimeters between robot and desired point\n",
    "            resumeSpeed: If robot comes to standstill, this overcomes inertia\n",
    "        \"\"\"\n",
    "\n",
    "        if not self.isRunning:\n",
    "            self.isRunning = True\n",
    "            self.prevU = 0\n",
    "            self.prev2E = 0\n",
    "            self.prevE = 0\n",
    "            self.prev2T = time.time()\n",
    "            self.prevT = time.time()\n",
    "\n",
    "\n",
    "        currentT = time.time()\n",
    "        deltaT   = currentT - self.prevT\n",
    "        deltaT2  = self.prevT - self.prev2T\n",
    "\n",
    "        # u is the speed that you return\n",
    "        # breaking behavior may be different from just turning motor off\n",
    "        # maybe may need matlab to tune the controller constants\n",
    "        \n",
    "        if distance < stopRadius:\n",
    "            u = 0\n",
    "        else:  # Robot too far away, must keep moving!\n",
    "\n",
    "            # PID equation\n",
    "            # Make select mode using PID switch\n",
    "            if (deltaT < self.epsilon) or (deltaT2 < self.epsilon):\n",
    "                u = self.prevU + Kp * (distance - self.prevE) + Ki*deltaT*distance\n",
    "            else:\n",
    "                u = self.prevU + Kp * (distance - self.prevE) + Ki*deltaT*distance + Kd * \\\n",
    "                                         (((distance - self.prevE) / deltaT) - \\\n",
    "                                         ((self.prevE - self.prev2E) / deltaT2))\n",
    "                            \n",
    "            # If robot has stopped moving, reset it\n",
    "            if (speed < 2) and (u < resumeSpeed):\n",
    "                u = resumeSpeed\n",
    "\n",
    "        # Update internal vars\n",
    "        self.prevU = u\n",
    "\n",
    "        self.prev2E = self.prevE\n",
    "        self.prevE = distance\n",
    "        self.prev2T = self.prevT\n",
    "        self.prevT = currentT\n",
    "\n",
    "        print \"candidate u: {}\".format(u)\n",
    "        # Handle saturation\n",
    "        if (u > maxSpeed):\n",
    "            return maxSpeed\n",
    "        elif (u < minSpeed):\n",
    "            \n",
    "            return minSpeed\n",
    "        else:\n",
    "            return u"
   ]
  },
  {
   "cell_type": "code",
   "execution_count": 14,
   "metadata": {
    "collapsed": true
   },
   "outputs": [],
   "source": [
    "resp = bot.roll(90, 180)"
   ]
  },
  {
   "cell_type": "code",
   "execution_count": 4,
   "metadata": {},
   "outputs": [
    {
     "data": {
      "text/plain": [
       "300"
      ]
     },
     "execution_count": 4,
     "metadata": {},
     "output_type": "execute_result"
    }
   ],
   "source": [
    "normalize_angle(-60)"
   ]
  },
  {
   "cell_type": "code",
   "execution_count": 5,
   "metadata": {
    "collapsed": true
   },
   "outputs": [],
   "source": [
    "def normalize_angle(angle):\n",
    "    \"\"\"\n",
    "        Convert angle to angle in degrees from 0 to 360\n",
    "        \n",
    "    \"\"\"\n",
    "    if angle < 0:\n",
    "        return normalize_angle(360 + angle)\n",
    "    elif angle > 360:\n",
    "        return angle % 360\n",
    "    else:\n",
    "        return angle"
   ]
  },
  {
   "cell_type": "code",
   "execution_count": 42,
   "metadata": {},
   "outputs": [
    {
     "name": "stdout",
     "output_type": "stream",
     "text": [
      "candidate u: 50\n",
      "Dist 58.412327466 outSpeed 50 at 308.047042532 degrees: 46,-36\n",
      "candidate u: 51.3950055252\n",
      "Dist 57.2013985843 outSpeed 51.3950055252 at 306.46923439 degrees: 46,-34\n",
      "candidate u: 50.717521239\n",
      "Dist 52.2015325446 outSpeed 50.717521239 at 306.43085812 degrees: 42,-31\n",
      "candidate u: 48.6793474734\n",
      "Dist 43.0116263352 outSpeed 48.6793474734 at 305.537677792 degrees: 35,-25\n",
      "candidate u: 46.4832845068\n",
      "Dist 32.2024843762 outSpeed 46.4832845068 at 306.15818544 degrees: 26,-19\n",
      "candidate u: 43.6883830805\n",
      "Dist 20.0 outSpeed 43.6883830805 at 306.869897646 degrees: 16,-12\n",
      "candidate u: 40.8880967192\n",
      "Dist 7.81024967591 outSpeed 40.8880967192 at 309.805571092 degrees: 6,-5\n",
      "candidate u: 41.5081926068\n",
      "Dist 3.16227766017 outSpeed 41.5081926068 at 108.434948823 degrees: -3,1\n",
      "candidate u: 47.5349357644\n",
      "Dist 12.8062484749 outSpeed 47.5349357644 at 141.340191746 degrees: -8,10\n",
      "candidate u: 44.994599571\n",
      "Dist 11.401754251 outSpeed 44.994599571 at 164.744881297 degrees: -3,11\n",
      "candidate u: 41.4675297582\n",
      "Dist 3.16227766017 outSpeed 41.4675297582 at 161.565051177 degrees: -1,3\n",
      "candidate u: 44.4151157781\n",
      "Dist 5.09901951359 outSpeed 44.4151157781 at 348.690067526 degrees: 1,-5\n",
      "candidate u: 49.5631433812\n",
      "Dist 15.6524758425 outSpeed 49.5631433812 at 333.434948823 degrees: 7,-14\n",
      "candidate u: 46.9416841873\n",
      "Dist 11.313708499 outSpeed 46.9416841873 at 315.0 degrees: 8,-8\n",
      "candidate u: 54.0012930233\n",
      "Dist 24.1660919472 outSpeed 54.0012930233 at 155.55604522 degrees: -10,22\n",
      "candidate u: 55.6806620001\n",
      "Dist 31.8904374382 outSpeed 55.6806620001 at 138.814074834 degrees: -21,24\n",
      "candidate u: 53.1409138196\n",
      "Dist 28.6006992922 outSpeed 53.1409138196 at 126.46923439 degrees: -23,17\n",
      "candidate u: 48.567412523\n",
      "Dist 16.2788205961 outSpeed 48.567412523 at 137.489552922 degrees: -11,12\n",
      "candidate u: 45.1292089688\n",
      "Dist 3.16227766017 outSpeed 45.1292089688 at 161.565051177 degrees: -1,3\n",
      "candidate u: 52.9273452537\n",
      "Dist 12.5299640861 outSpeed 52.9273452537 at 331.389540334 degrees: 6,-11\n",
      "candidate u: 57.0923976365\n",
      "Dist 24.3310501212 outSpeed 57.0923976365 at 350.537677792 degrees: 4,-24\n",
      "candidate u: 55.6012110852\n",
      "Dist 25.3179778023 outSpeed 55.6012110852 at 9.09027692082 degrees: -4,-25\n",
      "candidate u: 50.3581154994\n",
      "Dist 14.0356688476 outSpeed 50.3581154994 at 4.08561677997 degrees: -1,-14\n",
      " xpos: 0 \n",
      " ypos: -2 \n",
      " xvel: -7 cm/sec\n",
      " yvel: 372 cm/sec\n",
      " sog: 372 cm/sec\n",
      "\n",
      "Final Distance 2.0 (0,-2)\n"
     ]
    },
    {
     "data": {
      "text/plain": [
       "<sphero.response.Response at 0x761c470>"
      ]
     },
     "execution_count": 42,
     "metadata": {},
     "output_type": "execute_result"
    }
   ],
   "source": [
    "\n",
    "    \n",
    "Kp = 0.25\n",
    "Ki = 0.08\n",
    "Kd = 0.08\n",
    "\n",
    "# replace with calls to the locator\n",
    "response = bot.read_locator()  # refactor with call to webcam\n",
    "currentX = response.x_pos\n",
    "currentY = response.y_pos\n",
    " \n",
    "currentSpeed = response.sog / 10  # mm/s to cm/s\n",
    "controller = pidController()\n",
    "stopRadius = 3\n",
    "\n",
    "\n",
    "# Basic closed loop controller\n",
    "startTime = time.time()\n",
    "\n",
    "# run for 30 seconds\n",
    "while ((time.time() - startTime ) < 2):\n",
    "    \n",
    "    \n",
    "    targetX = 0 \n",
    "    targetY = 0\n",
    "    \n",
    "    # Angle to distance\n",
    "    deltaX = targetX - currentX\n",
    "    deltaY = targetY - currentY\n",
    "    angle = normalize_angle(math.degrees(math.atan2(deltaX, deltaY)))\n",
    "    \n",
    "    distance = math.sqrt(deltaX * deltaX + deltaY * deltaY)\n",
    "    \n",
    "    while distance > stopRadius and (((time.time() - startTime ) < 20)):\n",
    "        outSpeed = controller.getPIDSpeed(distance, currentSpeed, Kp, Ki, Kd)\n",
    "        \n",
    "        # roll the sphero, make use of the request object\n",
    "        print(\"Dist {} outSpeed {} at {} degrees: {},{}\".format(distance, outSpeed, angle, response.x_pos, response.y_pos))\n",
    "        \n",
    "        bot.roll(outSpeed, angle)\n",
    "\n",
    "        # get current speed\n",
    "        # this can probably be refactored each time \n",
    "        time.sleep(.3)\n",
    "        response = bot.read_locator()  # refactor with call to webcam\n",
    "        currentX = response.x_pos\n",
    "        currentY = response.y_pos\n",
    "        \n",
    "        \n",
    "        currentSpeed = response.sog / 10 # lookup this param\n",
    "        \n",
    "        # Repeat waypointing calculation\n",
    "        deltaX = targetX - currentX\n",
    "        deltaY = targetY - currentY\n",
    "        \n",
    "        angle = normalize_angle(math.degrees(math.atan2(deltaX, deltaY)))\n",
    "        distance = math.sqrt(deltaX * deltaX + deltaY * deltaY)\n",
    "         \n",
    "print response        \n",
    "print \"Final Distance {} ({},{})\".format(distance, currentX, currentY)\n",
    "\n",
    "\n",
    "# at very end, stop the robot!!\n",
    "bot.roll(0,0)"
   ]
  },
  {
   "cell_type": "code",
   "execution_count": 48,
   "metadata": {},
   "outputs": [
    {
     "data": {
      "text/plain": [
       "<sphero.response.Response at 0x4da45f8>"
      ]
     },
     "execution_count": 48,
     "metadata": {},
     "output_type": "execute_result"
    }
   ],
   "source": [
    "bot.set_motion_timeout(2000) # units are in milliseconds?\n",
    "\n",
    "\n"
   ]
  },
  {
   "cell_type": "code",
   "execution_count": 50,
   "metadata": {},
   "outputs": [
    {
     "data": {
      "text/plain": [
       "<sphero.response.Response at 0x4da4978>"
      ]
     },
     "execution_count": 50,
     "metadata": {},
     "output_type": "execute_result"
    },
    {
     "name": "stderr",
     "output_type": "stream",
     "text": [
      "Exception in thread SpheroReceiverThread:\n",
      "Traceback (most recent call last):\n",
      "  File \"C:\\Users\\cyick\\Anaconda2\\lib\\threading.py\", line 801, in __bootstrap_inner\n",
      "    self.run()\n",
      "  File \"C:\\Users\\cyick\\Anaconda2\\lib\\threading.py\", line 754, in run\n",
      "    self.__target(*self.__args, **self.__kwargs)\n",
      "  File \"C:\\Users\\cyick\\AppData\\Roaming\\Python\\Python27\\site-packages\\sphero\\core.py\", line 415, in _receiver\n",
      "    header = self._receive_header()\n",
      "  File \"C:\\Users\\cyick\\AppData\\Roaming\\Python\\Python27\\site-packages\\sphero\\core.py\", line 299, in _receive_header\n",
      "    first_byte = struct.unpack('B', raw_data)[0]\n",
      "error: unpack requires a string argument of length 1\n",
      "\n"
     ]
    }
   ],
   "source": [
    "bot.roll(80,180)"
   ]
  },
  {
   "cell_type": "code",
   "execution_count": 26,
   "metadata": {},
   "outputs": [
    {
     "data": {
      "text/plain": [
       "'Sphero-YPR'"
      ]
     },
     "execution_count": 26,
     "metadata": {},
     "output_type": "execute_result"
    }
   ],
   "source": [
    "bot.bt_name\n"
   ]
  },
  {
   "cell_type": "code",
   "execution_count": 33,
   "metadata": {},
   "outputs": [
    {
     "data": {
      "text/plain": [
       "<sphero.response.Response at 0x4f34f60>"
      ]
     },
     "execution_count": 33,
     "metadata": {},
     "output_type": "execute_result"
    }
   ],
   "source": [
    "bot.set_heading(180)\n",
    "\n",
    "\n",
    "\n"
   ]
  },
  {
   "cell_type": "code",
   "execution_count": 37,
   "metadata": {},
   "outputs": [
    {
     "data": {
      "text/plain": [
       "<sphero.response.Response at 0x4f46160>"
      ]
     },
     "execution_count": 37,
     "metadata": {},
     "output_type": "execute_result"
    }
   ],
   "source": [
    "bot.configure_locator(0,0)\n",
    "\n"
   ]
  },
  {
   "cell_type": "code",
   "execution_count": 36,
   "metadata": {},
   "outputs": [
    {
     "data": {
      "text/plain": [
       "<sphero.response.Response at 0x4ed0390>"
      ]
     },
     "execution_count": 36,
     "metadata": {},
     "output_type": "execute_result"
    }
   ],
   "source": [
    "bot.roll(90, 180)\n"
   ]
  },
  {
   "cell_type": "code",
   "execution_count": 124,
   "metadata": {},
   "outputs": [
    {
     "name": "stdout",
     "output_type": "stream",
     "text": [
      " xpos: 11 \n",
      " ypos: 0 \n",
      " xvel: 0 cm/sec\n",
      " yvel: 0 cm/sec\n",
      " sog: 0 cm/sec\n",
      "\n"
     ]
    }
   ],
   "source": [
    "print bot.read_locator()"
   ]
  },
  {
   "cell_type": "code",
   "execution_count": 175,
   "metadata": {},
   "outputs": [
    {
     "data": {
      "text/plain": [
       "<sphero.response.Response at 0x4b74be0>"
      ]
     },
     "execution_count": 175,
     "metadata": {},
     "output_type": "execute_result"
    }
   ],
   "source": [
    "# figure out which way is backwards\n",
    "bot.set_back_led_output(0xff)"
   ]
  },
  {
   "cell_type": "code",
   "execution_count": 176,
   "metadata": {},
   "outputs": [
    {
     "name": "stdout",
     "output_type": "stream",
     "text": [
      " RecVer: v.1 \n",
      " PowerState: Battery low \n",
      " Voltage: 6.6 \n",
      " NumCharges 4 \n",
      " Last charge: 3764 sec\n",
      "\n"
     ]
    }
   ],
   "source": [
    "print bot.get_power_state()"
   ]
  },
  {
   "cell_type": "code",
   "execution_count": 170,
   "metadata": {},
   "outputs": [
    {
     "data": {
      "text/plain": [
       "<sphero.response.Response at 0x4b74d30>"
      ]
     },
     "execution_count": 170,
     "metadata": {},
     "output_type": "execute_result"
    }
   ],
   "source": [
    "bot2.set_heading(90)"
   ]
  },
  {
   "cell_type": "code",
   "execution_count": null,
   "metadata": {
    "collapsed": true
   },
   "outputs": [],
   "source": [
    "bot.configure_locator(0,0)"
   ]
  },
  {
   "cell_type": "code",
   "execution_count": null,
   "metadata": {
    "collapsed": true
   },
   "outputs": [],
   "source": [
    "bot.roll(speed=20, heading=270)\n",
    "\n"
   ]
  },
  {
   "cell_type": "code",
   "execution_count": null,
   "metadata": {
    "collapsed": true
   },
   "outputs": [],
   "source": [
    "resp = bot.read_locator()\n",
    "print(resp)\n",
    "\n"
   ]
  },
  {
   "cell_type": "code",
   "execution_count": null,
   "metadata": {
    "collapsed": true
   },
   "outputs": [],
   "source": [
    "for d in devices:\n",
    "#     d.set_rgb(0, 255,128 )\n",
    "#     print d.get_rgb( )\n",
    "#     d.set_back_led_output(0xFF)\n",
    "    d.set_stabilization(True) # when stabliized, won't roll\n",
    "    \n",
    "    print d.read_locator()    \n",
    "#     print d.get_power_state()\n",
    "    "
   ]
  },
  {
   "cell_type": "code",
   "execution_count": null,
   "metadata": {
    "collapsed": true
   },
   "outputs": [],
   "source": [
    "SPEED = 0x22\n",
    "\n",
    "for i in range(2):\n",
    "    for d in devices:\n",
    "        d.roll(speed=SPEED, heading=0)\n",
    "                \n",
    "    time.sleep(2)\n",
    "\n",
    "    \n",
    "\n",
    "    for d in devices:\n",
    "        d.roll(speed=SPEED, heading=90)\n",
    "    \n",
    "    time.sleep(2)\n",
    "    \n",
    "    for d in devices:\n",
    "        d.roll(speed=SPEED, heading=180)\n",
    "    \n",
    "        \n",
    "    time.sleep(2)\n",
    "    for d in devices:\n",
    "        d.roll(speed=SPEED, heading=270)\n",
    "        \n",
    "    time.sleep(2)\n",
    "    "
   ]
  },
  {
   "cell_type": "markdown",
   "metadata": {},
   "source": [
    "Observations\n",
    "\n",
    "- May need windows binaries to use bluetooth properly: http://www.lfd.uci.edu/~gohlke/pythonlibs/#pybluez\n",
    "- 2 spheros is fine, haven't gotten 3 spheros to work yet (a different one fails each time)\n",
    "\n",
    "Python Lib Route\n",
    "- Consider trying Kulka too, more recently updated: https://github.com/zdanowiczkonrad/PythonSphero/tree/master/Tutorials\n",
    "- These are the available methods: https://github.com/orbotix/DeveloperResources/blob/master/docs/Sphero_API_1.50.pdf\n",
    "- Also look at python ROS driver: https://github.com/mmwise/sphero_ros/commits/groovy-devel/sphero_driver/src/sphero_driver/sphero_driver.py"
   ]
  }
 ],
 "metadata": {
  "anaconda-cloud": {},
  "kernelspec": {
   "display_name": "Python [default]",
   "language": "python",
   "name": "python2"
  },
  "language_info": {
   "codemirror_mode": {
    "name": "ipython",
    "version": 2
   },
   "file_extension": ".py",
   "mimetype": "text/x-python",
   "name": "python",
   "nbconvert_exporter": "python",
   "pygments_lexer": "ipython2",
   "version": "2.7.12"
  }
 },
 "nbformat": 4,
 "nbformat_minor": 1
}
