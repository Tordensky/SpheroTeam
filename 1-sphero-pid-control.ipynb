{
 "cells": [
  {
   "cell_type": "code",
   "execution_count": 1,
   "metadata": {
    "collapsed": false
   },
   "outputs": [],
   "source": [
    "# NEW SPHEROS\n",
    "import sphero\n",
    "import time"
   ]
  },
  {
   "cell_type": "code",
   "execution_count": 2,
   "metadata": {
    "collapsed": true
   },
   "outputs": [],
   "source": [
    "# Widgets\n",
    "# from __future__ import print_function\n",
    "\n",
    "# from ipywidgets import interact, interactive, fixed, interact_manual\n",
    "# import ipywidgets as widgets"
   ]
  },
  {
   "cell_type": "code",
   "execution_count": 163,
   "metadata": {
    "collapsed": true
   },
   "outputs": [],
   "source": [
    "# Initialize Sphero manager with addresses of local spheros\n",
    "manager = sphero.SpheroManager()\n",
    "manager._name_cache = {\"68:86:E7:05:0C:4B\": \"Sphero-YYP\",\n",
    "                       \"68:86:E7:05:19:AD\": \"Sphero-RYR\",\n",
    "                       \"68:86:E7:05:12:26\": \"Sphero-RPB\"\n",
    "                      \n",
    "                      \n",
    "                      }\n",
    "\n",
    "NBOTS = 4   # Number of spheros \n",
    "\n"
   ]
  },
  {
   "cell_type": "code",
   "execution_count": 164,
   "metadata": {
    "collapsed": false
   },
   "outputs": [
    {
     "name": "stdout",
     "output_type": "stream",
     "text": [
      "Starts auto search\n"
     ]
    }
   ],
   "source": [
    "# use this code snippet when working with new spheros that you have not encountered before.\n",
    "def on_new_sphero(device, NBOTS=NBOTS):\n",
    "    \"\"\"\n",
    "        NBOTS = number of robots in the flock\n",
    "        Note that this presently refers to a global \"manager\" object. This method should be moved inside the native\n",
    "        library later.\n",
    "    \"\"\"\n",
    "    print \"Found \" + device.bt_name\n",
    "    \n",
    "    # Terminate search when all expected bots are found\n",
    "    if len(manager._spheros.keys()) == NBOTS:\n",
    "        print \"Found all {} spheros\".format(NBOTS)\n",
    "        manager.stop_auto_search()\n",
    "        \n",
    "        \n",
    "        \n",
    "# Callback\n",
    "manager.set_sphero_found_cb(on_new_sphero)\n",
    "\n",
    "# Construct list of devices in system bluetooth collection\n",
    "# Your bluetooth network cannot contain anything with name of \"Sphero-\" prefix\n",
    "devices = []\n",
    "\n",
    "manager.start_auto_search()"
   ]
  },
  {
   "cell_type": "code",
   "execution_count": 160,
   "metadata": {
    "collapsed": false
   },
   "outputs": [],
   "source": [
    "# Verify that these are the robots we are looking for\n",
    "for name, device in manager._spheros.iteritems():\n",
    "    print \"{}: {}\".format(name, device.bt_addr)\n",
    "    devices.append(device)\n",
    "    "
   ]
  },
  {
   "cell_type": "code",
   "execution_count": 166,
   "metadata": {
    "collapsed": false,
    "scrolled": true
   },
   "outputs": [
    {
     "name": "stdout",
     "output_type": "stream",
     "text": [
      "('Sphero-RPB', <sphero.core.SpheroAPI object at 0x0000000004C9EE10>)\n",
      "('Sphero-YYP', <sphero.core.SpheroAPI object at 0x0000000004AE9358>)\n",
      "('Sphero-RYR', <sphero.core.SpheroAPI object at 0x0000000004C9E4E0>)\n"
     ]
    }
   ],
   "source": [
    "for m in manager._spheros.iteritems():\n",
    "    print m\n"
   ]
  },
  {
   "cell_type": "code",
   "execution_count": 177,
   "metadata": {
    "collapsed": true
   },
   "outputs": [],
   "source": [
    "bot2 = [b for b in manager._spheros.iteritems()][1][1]\n",
    "\n"
   ]
  },
  {
   "cell_type": "code",
   "execution_count": 7,
   "metadata": {
    "collapsed": false
   },
   "outputs": [],
   "source": [
    "bot = [b for b in manager._spheros.iteritems()][2]"
   ]
  },
  {
   "cell_type": "code",
   "execution_count": 8,
   "metadata": {
    "collapsed": false
   },
   "outputs": [],
   "source": [
    "bot = bot[1]"
   ]
  },
  {
   "cell_type": "code",
   "execution_count": 178,
   "metadata": {
    "collapsed": false
   },
   "outputs": [
    {
     "name": "stdout",
     "output_type": "stream",
     "text": [
      "try 0\n",
      "An exception of type IOError occurred. Arguments:\n",
      "('A connection attempt failed because the connected party did not properly respond after a period of time, or established connection failed because connected host has failed to respond.\\r\\n',)\n",
      "try 1\n",
      "An exception of type IOError occurred. Arguments:\n",
      "('A connection attempt failed because the connected party did not properly respond after a period of time, or established connection failed because connected host has failed to respond.\\r\\n',)\n",
      "try 2\n",
      "Connected!\n"
     ]
    },
    {
     "data": {
      "text/plain": [
       "True"
      ]
     },
     "execution_count": 178,
     "metadata": {},
     "output_type": "execute_result"
    },
    {
     "name": "stderr",
     "output_type": "stream",
     "text": [
      "Exception in thread SpheroReceiverThread:\n",
      "Traceback (most recent call last):\n",
      "  File \"C:\\Users\\cyick\\Anaconda2\\lib\\threading.py\", line 801, in __bootstrap_inner\n",
      "    self.run()\n",
      "  File \"C:\\Users\\cyick\\Anaconda2\\lib\\threading.py\", line 754, in run\n",
      "    self.__target(*self.__args, **self.__kwargs)\n",
      "  File \"C:\\Users\\cyick\\AppData\\Roaming\\Python\\Python27\\site-packages\\sphero\\core.py\", line 415, in _receiver\n",
      "    header = self._receive_header()\n",
      "  File \"C:\\Users\\cyick\\AppData\\Roaming\\Python\\Python27\\site-packages\\sphero\\core.py\", line 299, in _receive_header\n",
      "    first_byte = struct.unpack('B', raw_data)[0]\n",
      "error: unpack requires a string argument of length 1\n",
      "\n",
      "Exception in thread SpheroReceiverThread:\n",
      "Traceback (most recent call last):\n",
      "  File \"C:\\Users\\cyick\\Anaconda2\\lib\\threading.py\", line 801, in __bootstrap_inner\n",
      "    self.run()\n",
      "  File \"C:\\Users\\cyick\\Anaconda2\\lib\\threading.py\", line 754, in run\n",
      "    self.__target(*self.__args, **self.__kwargs)\n",
      "  File \"C:\\Users\\cyick\\AppData\\Roaming\\Python\\Python27\\site-packages\\sphero\\core.py\", line 415, in _receiver\n",
      "    header = self._receive_header()\n",
      "  File \"C:\\Users\\cyick\\AppData\\Roaming\\Python\\Python27\\site-packages\\sphero\\core.py\", line 299, in _receive_header\n",
      "    first_byte = struct.unpack('B', raw_data)[0]\n",
      "error: unpack requires a string argument of length 1\n",
      "\n"
     ]
    }
   ],
   "source": [
    "bot2.connect()\n",
    "\n"
   ]
  },
  {
   "cell_type": "code",
   "execution_count": 9,
   "metadata": {
    "collapsed": false
   },
   "outputs": [
    {
     "name": "stdout",
     "output_type": "stream",
     "text": [
      "try 0\n",
      "Connected!\n"
     ]
    },
    {
     "data": {
      "text/plain": [
       "True"
      ]
     },
     "execution_count": 9,
     "metadata": {},
     "output_type": "execute_result"
    }
   ],
   "source": [
    "bot.connect()"
   ]
  },
  {
   "cell_type": "code",
   "execution_count": 130,
   "metadata": {
    "collapsed": false
   },
   "outputs": [
    {
     "data": {
      "text/plain": [
       "<sphero.response.Response at 0x4c9e6a0>"
      ]
     },
     "execution_count": 130,
     "metadata": {},
     "output_type": "execute_result"
    }
   ],
   "source": [
    "bot.set_rgb(0, 255,0 )\n"
   ]
  },
  {
   "cell_type": "code",
   "execution_count": 91,
   "metadata": {
    "collapsed": false
   },
   "outputs": [],
   "source": [
    "import time\n",
    "import math\n",
    "\n",
    "# PID controller for sphero\n",
    "\n",
    "class pidController():\n",
    "\n",
    "    def __init__(self):\n",
    "        self.isRunning = False\n",
    "        self.epsilon   = 0.1 # some small bound? \n",
    "    def reset(self):\n",
    "        self.isRunning = False\n",
    "\n",
    "    # later may find that P controller is sufficient\n",
    "    # Documentation is here: \n",
    "    \n",
    "    # headingCMD = desiredHeading + (headingKp*currErrorHeading)\n",
    "    # velocityCMD = velocityKp*distance\n",
    "    # http://ctms.engin.umich.edu/CTMS/index.php?example=Introduction&section=ControlPID\n",
    "    def getPIDSpeed(self, distance, speed, Kp, Ki, Kd, stopRadius=3, \n",
    "                   maxSpeed=70, minSpeed=30, resumeSpeed=50):\n",
    "        \n",
    "        \n",
    "        \n",
    "        \"\"\"\n",
    "            Other variables self explanatory?\n",
    "            Kp: Proportional controller gain\n",
    "            Ki: Intergral controller gain\n",
    "            Kd: Derivative controller gain\n",
    "            stopRadius: If robot is within this distance of object, try to stop.\n",
    "            distance: Distance in centimeters between robot and desired point\n",
    "            resumeSpeed: If robot comes to standstill, this overcomes inertia\n",
    "        \"\"\"\n",
    "\n",
    "        if not self.isRunning:\n",
    "            self.isRunning = True\n",
    "            self.prevU = 0\n",
    "            self.prev2E = 0\n",
    "            self.prevE = 0\n",
    "            self.prev2T = time.time()\n",
    "            self.prevT = time.time()\n",
    "\n",
    "\n",
    "        currentT = time.time()\n",
    "        deltaT   = currentT - self.prevT\n",
    "        deltaT2  = self.prevT - self.prev2T\n",
    "\n",
    "        # u is the speed that you return\n",
    "        # breaking behavior may be different from just turning motor off\n",
    "        # maybe may need matlab to tune the controller constants\n",
    "        \n",
    "        if distance < stopRadius:\n",
    "            u = 0\n",
    "        else:  # Robot too far away, must keep moving!\n",
    "\n",
    "            # PID equation\n",
    "            # Make select mode using PID switch\n",
    "            if (deltaT < self.epsilon) or (deltaT2 < self.epsilon):\n",
    "                u = self.prevU + Kp * (distance - self.prevE) + Ki*deltaT*distance\n",
    "            else:\n",
    "                u = self.prevU + Kp * (distance - self.prevE) + Ki*deltaT*distance + Kd * \\\n",
    "                                         (((distance - self.prevE) / deltaT) - \\\n",
    "                                         ((self.prevE - self.prev2E) / deltaT2))\n",
    "                            \n",
    "            # If robot has stopped moving, reset it\n",
    "            if (speed < 2) and (u < resumeSpeed):\n",
    "                u = resumeSpeed\n",
    "\n",
    "        # Update internal vars\n",
    "        self.prevU = u\n",
    "\n",
    "        self.prev2E = self.prevE\n",
    "        self.prevE = distance\n",
    "        self.prev2T = self.prevT\n",
    "        self.prevT = currentT\n",
    "\n",
    "        print \"candidate u: {}\".format(u)\n",
    "        # Handle saturation\n",
    "        if (u > maxSpeed):\n",
    "            return maxSpeed\n",
    "        elif (u < minSpeed):\n",
    "            \n",
    "            return minSpeed\n",
    "        else:\n",
    "            return u"
   ]
  },
  {
   "cell_type": "code",
   "execution_count": 57,
   "metadata": {
    "collapsed": false
   },
   "outputs": [],
   "source": [
    "resp = bot.roll(90, 180)"
   ]
  },
  {
   "cell_type": "code",
   "execution_count": 14,
   "metadata": {
    "collapsed": true
   },
   "outputs": [],
   "source": []
  },
  {
   "cell_type": "code",
   "execution_count": 129,
   "metadata": {
    "collapsed": false
   },
   "outputs": [
    {
     "name": "stdout",
     "output_type": "stream",
     "text": [
      "candidate u 50\n",
      "Dist 26.2488094968 outSpeed 50 at 319.635463427 degrees: 17,-20\n",
      "candidate u 50.3227346324\n",
      "Dist 24.7588368063 outSpeed 50.3227346324 at 316.636577042 degrees: 17,-18\n",
      "candidate u 48.9088386884\n",
      "Dist 19.7989898732 outSpeed 48.9088386884 at 315.0 degrees: 14,-14\n",
      "candidate u 45.4396889254\n",
      "Dist 9.21954445729 outSpeed 45.4396889254 at 310.601294645 degrees: 7,-6\n",
      "candidate u 45.1056663041\n",
      "Dist 3.60555127546 outSpeed 45.1056663041 at 123.690067526 degrees: -3,2\n",
      "candidate u 52.569345738\n",
      "Dist 15.5563491861 outSpeed 52.569345738 at 135.0 degrees: -11,11\n",
      "candidate u 49.1031094079\n",
      "Dist 13.416407865 outSpeed 49.1031094079 at 153.434948823 degrees: -6,12\n",
      "candidate u 45.0681090687\n",
      "Dist 3.60555127546 outSpeed 45.0681090687 at 146.309932474 degrees: -2,3\n",
      "candidate u 50.2361719162\n",
      "Dist 9.43398113206 outSpeed 50.2361719162 at 327.994616792 degrees: 5,-8\n",
      "candidate u 54.8754908987\n",
      "Dist 20.5182845287 outSpeed 54.8754908987 at 316.974934011 degrees: 14,-15\n",
      "candidate u 51.3786842175\n",
      "Dist 17.4928556845 outSpeed 51.3786842175 at 300.963756532 degrees: 15,-9\n",
      "candidate u 47.5958001999\n",
      "Dist 7.81024967591 outSpeed 47.5958001999 at 309.805571092 degrees: 6,-5\n",
      " xpos: -2 \n",
      " ypos: 0 \n",
      " xvel: -232 cm/sec\n",
      " yvel: 238 cm/sec\n",
      " sog: 332 cm/sec\n",
      "\n",
      "Final Distance 2.0 (-2,0)\n"
     ]
    },
    {
     "data": {
      "text/plain": [
       "<sphero.response.Response at 0x4b748d0>"
      ]
     },
     "execution_count": 129,
     "metadata": {},
     "output_type": "execute_result"
    }
   ],
   "source": [
    "def normalizeAngle(angle):\n",
    "    if angle < 0:\n",
    "        return 360 + angle\n",
    "    \n",
    "    else:\n",
    "        \n",
    "        return angle\n",
    "    \n",
    "Kp = 0.25\n",
    "Ki = 0.08\n",
    "Kd = 0.08\n",
    "\n",
    "\n",
    "# replace with calls to the locator\n",
    "response = bot.read_locator()  # refactor with call to webcam\n",
    "currentX = response.x_pos\n",
    "currentY = response.y_pos\n",
    "\n",
    "currentSpeed = response.sog  # lookup this param\n",
    "\n",
    "controller = pidController()\n",
    "stopRadius = 3\n",
    "\n",
    "\n",
    "# Basic closed loop controller\n",
    "startTime = time.time()\n",
    "\n",
    "# run for 30 seconds\n",
    "while ((time.time() - startTime ) < 2):\n",
    "    targetX = 0\n",
    "    targetY = 0\n",
    "    \n",
    "    \n",
    "    # Angle to distance\n",
    "    deltaX = targetX - currentX\n",
    "    deltaY = targetY - currentY\n",
    "    angle = normalizeAngle(math.degrees(math.atan2(deltaX, deltaY)))\n",
    "    distance = math.sqrt(deltaX * deltaX + deltaY * deltaY)\n",
    "    \n",
    "    while distance > stopRadius and (((time.time() - startTime ) < 20)):\n",
    "        outSpeed = controller.getPIDSpeed(distance, currentSpeed, Kp, Ki, Kd)\n",
    "        \n",
    "        # roll the sphero, make use of the request object\n",
    "        print(\"Dist {} outSpeed {} at {} degrees: {},{}\".format(distance, outSpeed, angle, response.x_pos, response.y_pos))\n",
    "        \n",
    "        bot.roll(outSpeed, angle)\n",
    "\n",
    "        # get current speed\n",
    "        # this can probably be refactored each time \n",
    "        time.sleep(.3)\n",
    "        response = bot.read_locator()  # refactor with call to webcam\n",
    "        currentX = response.x_pos\n",
    "        currentY = response.y_pos\n",
    "        currentSpeed = response.sog  # lookup this param\n",
    "        \n",
    "        \n",
    "        # Repeat waypointing calculation\n",
    "        deltaX = targetX - currentX\n",
    "        deltaY = targetY - currentY\n",
    "        \n",
    "        angle = normalizeAngle(math.degrees(math.atan2(deltaX, deltaY)))\n",
    "        distance = math.sqrt(deltaX * deltaX + deltaY * deltaY)\n",
    "         \n",
    "print response        \n",
    "print \"Final Distance {} ({},{})\".format(distance, currentX, currentY)\n",
    "\n",
    "\n",
    "# at very end, stop the robot!!\n",
    "bot.roll(0,0)"
   ]
  },
  {
   "cell_type": "code",
   "execution_count": 131,
   "metadata": {
    "collapsed": false
   },
   "outputs": [
    {
     "data": {
      "text/plain": [
       "<sphero.response.Response at 0x4c9e080>"
      ]
     },
     "execution_count": 131,
     "metadata": {},
     "output_type": "execute_result"
    }
   ],
   "source": [
    "bot.set_heading(180)\n",
    "\n"
   ]
  },
  {
   "cell_type": "code",
   "execution_count": 132,
   "metadata": {
    "collapsed": false
   },
   "outputs": [
    {
     "data": {
      "text/plain": [
       "<sphero.response.Response at 0x4c9e588>"
      ]
     },
     "execution_count": 132,
     "metadata": {},
     "output_type": "execute_result"
    }
   ],
   "source": [
    "bot.configure_locator(0,0)\n",
    "\n",
    "\n"
   ]
  },
  {
   "cell_type": "code",
   "execution_count": 157,
   "metadata": {
    "collapsed": false
   },
   "outputs": [
    {
     "data": {
      "text/plain": [
       "<sphero.response.Response at 0x4d20e10>"
      ]
     },
     "execution_count": 157,
     "metadata": {},
     "output_type": "execute_result"
    }
   ],
   "source": [
    "bot.roll(90, 250)\n"
   ]
  },
  {
   "cell_type": "code",
   "execution_count": 124,
   "metadata": {
    "collapsed": false
   },
   "outputs": [
    {
     "name": "stdout",
     "output_type": "stream",
     "text": [
      " xpos: 11 \n",
      " ypos: 0 \n",
      " xvel: 0 cm/sec\n",
      " yvel: 0 cm/sec\n",
      " sog: 0 cm/sec\n",
      "\n"
     ]
    }
   ],
   "source": [
    "print bot.read_locator()"
   ]
  },
  {
   "cell_type": "code",
   "execution_count": 175,
   "metadata": {
    "collapsed": false
   },
   "outputs": [
    {
     "data": {
      "text/plain": [
       "<sphero.response.Response at 0x4b74be0>"
      ]
     },
     "execution_count": 175,
     "metadata": {},
     "output_type": "execute_result"
    }
   ],
   "source": [
    "# figure out which way is backwards\n",
    "bot.set_back_led_output(0xff)\n",
    "\n"
   ]
  },
  {
   "cell_type": "code",
   "execution_count": 176,
   "metadata": {
    "collapsed": false
   },
   "outputs": [
    {
     "name": "stdout",
     "output_type": "stream",
     "text": [
      " RecVer: v.1 \n",
      " PowerState: Battery low \n",
      " Voltage: 6.6 \n",
      " NumCharges 4 \n",
      " Last charge: 3764 sec\n",
      "\n"
     ]
    }
   ],
   "source": [
    "print bot.get_power_state()\n",
    "\n",
    "\n"
   ]
  },
  {
   "cell_type": "code",
   "execution_count": 170,
   "metadata": {
    "collapsed": false
   },
   "outputs": [
    {
     "data": {
      "text/plain": [
       "<sphero.response.Response at 0x4b74d30>"
      ]
     },
     "execution_count": 170,
     "metadata": {},
     "output_type": "execute_result"
    }
   ],
   "source": [
    "bot2.set_heading(90)\n"
   ]
  },
  {
   "cell_type": "code",
   "execution_count": 76,
   "metadata": {
    "collapsed": false
   },
   "outputs": [
    {
     "data": {
      "text/plain": [
       "<sphero.response.Response at 0x4c9be48>"
      ]
     },
     "execution_count": 76,
     "metadata": {},
     "output_type": "execute_result"
    }
   ],
   "source": [
    "bot.configure_locator(0,0)\n",
    "\n",
    "\n",
    "\n",
    "\n"
   ]
  },
  {
   "cell_type": "code",
   "execution_count": 172,
   "metadata": {
    "collapsed": false
   },
   "outputs": [
    {
     "name": "stderr",
     "output_type": "stream",
     "text": [
      "Exception in thread SpheroReceiverThread:\n",
      "Traceback (most recent call last):\n",
      "  File \"C:\\Users\\cyick\\Anaconda2\\lib\\threading.py\", line 801, in __bootstrap_inner\n",
      "    self.run()\n",
      "  File \"C:\\Users\\cyick\\Anaconda2\\lib\\threading.py\", line 754, in run\n",
      "    self.__target(*self.__args, **self.__kwargs)\n",
      "  File \"C:\\Users\\cyick\\AppData\\Roaming\\Python\\Python27\\site-packages\\sphero\\core.py\", line 415, in _receiver\n",
      "    header = self._receive_header()\n",
      "  File \"C:\\Users\\cyick\\AppData\\Roaming\\Python\\Python27\\site-packages\\sphero\\core.py\", line 299, in _receive_header\n",
      "    first_byte = struct.unpack('B', raw_data)[0]\n",
      "error: unpack requires a string argument of length 1\n",
      "\n"
     ]
    },
    {
     "ename": "SpheroRequestError",
     "evalue": "No response received from device before timeout",
     "output_type": "error",
     "traceback": [
      "\u001b[0;31m---------------------------------------------------------------------------\u001b[0m",
      "\u001b[0;31mSpheroRequestError\u001b[0m                        Traceback (most recent call last)",
      "\u001b[0;32m<ipython-input-172-e5db194efb61>\u001b[0m in \u001b[0;36m<module>\u001b[0;34m()\u001b[0m\n\u001b[0;32m----> 1\u001b[0;31m \u001b[0mbot2\u001b[0m\u001b[1;33m.\u001b[0m\u001b[0mroll\u001b[0m\u001b[1;33m(\u001b[0m\u001b[1;36m40\u001b[0m\u001b[1;33m,\u001b[0m\u001b[1;36m0\u001b[0m\u001b[1;33m)\u001b[0m\u001b[1;33m\u001b[0m\u001b[0m\n\u001b[0m\u001b[1;32m      2\u001b[0m \u001b[1;33m\u001b[0m\u001b[0m\n\u001b[1;32m      3\u001b[0m \u001b[1;33m\u001b[0m\u001b[0m\n\u001b[1;32m      4\u001b[0m \u001b[1;33m\u001b[0m\u001b[0m\n\u001b[1;32m      5\u001b[0m \u001b[1;33m\u001b[0m\u001b[0m\n",
      "\u001b[0;32mC:\\Users\\cyick\\AppData\\Roaming\\Python\\Python27\\site-packages\\sphero\\core.pyc\u001b[0m in \u001b[0;36mroll\u001b[0;34m(self, speed, heading, state)\u001b[0m\n\u001b[1;32m    601\u001b[0m         \u001b[1;33m:\u001b[0m\u001b[0mrtype\u001b[0m\u001b[1;33m:\u001b[0m \u001b[0mresponse\u001b[0m\u001b[1;33m.\u001b[0m\u001b[0mResponse\u001b[0m\u001b[1;33m\u001b[0m\u001b[0m\n\u001b[1;32m    602\u001b[0m         \"\"\"\n\u001b[0;32m--> 603\u001b[0;31m         \u001b[1;32mreturn\u001b[0m \u001b[0mself\u001b[0m\u001b[1;33m.\u001b[0m\u001b[0m_write\u001b[0m\u001b[1;33m(\u001b[0m\u001b[0mrequest\u001b[0m\u001b[1;33m.\u001b[0m\u001b[0mRoll\u001b[0m\u001b[1;33m(\u001b[0m\u001b[0mself\u001b[0m\u001b[1;33m.\u001b[0m\u001b[0mseq\u001b[0m\u001b[1;33m,\u001b[0m \u001b[0mspeed\u001b[0m\u001b[1;33m,\u001b[0m \u001b[0mheading\u001b[0m\u001b[1;33m,\u001b[0m \u001b[0mstate\u001b[0m\u001b[1;33m)\u001b[0m\u001b[1;33m)\u001b[0m\u001b[1;33m\u001b[0m\u001b[0m\n\u001b[0m\u001b[1;32m    604\u001b[0m \u001b[1;33m\u001b[0m\u001b[0m\n\u001b[1;32m    605\u001b[0m     \u001b[1;32mdef\u001b[0m \u001b[0mset_boost_with_time\u001b[0m\u001b[1;33m(\u001b[0m\u001b[0mself\u001b[0m\u001b[1;33m,\u001b[0m \u001b[0mactivate\u001b[0m\u001b[1;33m=\u001b[0m\u001b[0mTrue\u001b[0m\u001b[1;33m)\u001b[0m\u001b[1;33m:\u001b[0m\u001b[1;33m\u001b[0m\u001b[0m\n",
      "\u001b[0;32mC:\\Users\\cyick\\AppData\\Roaming\\Python\\Python27\\site-packages\\sphero\\core.pyc\u001b[0m in \u001b[0;36m_write\u001b[0;34m(self, packet)\u001b[0m\n\u001b[1;32m    273\u001b[0m                 \u001b[0mself\u001b[0m\u001b[1;33m.\u001b[0m\u001b[0mdisconnect\u001b[0m\u001b[1;33m(\u001b[0m\u001b[1;33m)\u001b[0m\u001b[1;33m\u001b[0m\u001b[0m\n\u001b[1;32m    274\u001b[0m                 \u001b[1;32mraise\u001b[0m \u001b[0mSpheroFatalError\u001b[0m\u001b[1;33m(\u001b[0m\u001b[1;34m'FATAL Error, could not receive data from sphero. (receiver crashed)'\u001b[0m\u001b[1;33m)\u001b[0m\u001b[1;33m\u001b[0m\u001b[0m\n\u001b[0;32m--> 275\u001b[0;31m             \u001b[1;32mraise\u001b[0m \u001b[0mSpheroRequestError\u001b[0m\u001b[1;33m(\u001b[0m\u001b[1;34m'No response received from device before timeout'\u001b[0m\u001b[1;33m)\u001b[0m\u001b[1;33m\u001b[0m\u001b[0m\n\u001b[0m\u001b[1;32m    276\u001b[0m \u001b[1;33m\u001b[0m\u001b[0m\n\u001b[1;32m    277\u001b[0m     \u001b[1;32mdef\u001b[0m \u001b[0m_something_to_receive\u001b[0m\u001b[1;33m(\u001b[0m\u001b[0mself\u001b[0m\u001b[1;33m)\u001b[0m\u001b[1;33m:\u001b[0m\u001b[1;33m\u001b[0m\u001b[0m\n",
      "\u001b[0;31mSpheroRequestError\u001b[0m: No response received from device before timeout"
     ]
    }
   ],
   "source": [
    "bot2.roll(40,0)\n",
    "\n",
    "\n",
    "\n",
    "\n"
   ]
  },
  {
   "cell_type": "code",
   "execution_count": null,
   "metadata": {
    "collapsed": false
   },
   "outputs": [],
   "source": [
    "bot2.disconnect()\n",
    "\n",
    "\n"
   ]
  },
  {
   "cell_type": "code",
   "execution_count": null,
   "metadata": {
    "collapsed": true
   },
   "outputs": [],
   "source": [
    "bot2.connect()"
   ]
  },
  {
   "cell_type": "code",
   "execution_count": null,
   "metadata": {
    "collapsed": false
   },
   "outputs": [],
   "source": [
    "bot.configure_locator(0,0)"
   ]
  },
  {
   "cell_type": "code",
   "execution_count": null,
   "metadata": {
    "collapsed": false
   },
   "outputs": [],
   "source": [
    "resp = bot.read_locator()\n",
    "print(resp)\n",
    "\n"
   ]
  },
  {
   "cell_type": "code",
   "execution_count": null,
   "metadata": {
    "collapsed": false
   },
   "outputs": [],
   "source": [
    "bot.roll(speed=20, heading=270)\n",
    "\n"
   ]
  },
  {
   "cell_type": "code",
   "execution_count": null,
   "metadata": {
    "collapsed": false
   },
   "outputs": [],
   "source": [
    "resp = bot.read_locator()\n",
    "print(resp)\n",
    "\n"
   ]
  },
  {
   "cell_type": "code",
   "execution_count": null,
   "metadata": {
    "collapsed": true
   },
   "outputs": [],
   "source": []
  },
  {
   "cell_type": "code",
   "execution_count": null,
   "metadata": {
    "collapsed": false
   },
   "outputs": [],
   "source": [
    "# Use a widget to control the direction of the sphero\n",
    "def setHeadingSlider(x):\n",
    "    \n",
    "    return x\n",
    "\n",
    "interact(setHeadingSlider, x=widgets.IntSlider(min=0,max=359,step=1,value=0, continuous_update=False))"
   ]
  },
  {
   "cell_type": "code",
   "execution_count": null,
   "metadata": {
    "collapsed": false
   },
   "outputs": [],
   "source": [
    "# dir(devices[0].get_option_flags())\n",
    "\n",
    "\n",
    "\n"
   ]
  },
  {
   "cell_type": "code",
   "execution_count": null,
   "metadata": {
    "collapsed": false
   },
   "outputs": [],
   "source": [
    "devices[0].connect()\n",
    "\n"
   ]
  },
  {
   "cell_type": "code",
   "execution_count": null,
   "metadata": {
    "collapsed": false
   },
   "outputs": [],
   "source": [
    "for d in devices:\n",
    "#     d.set_rgb(0, 255,128 )\n",
    "#     print d.get_rgb( )\n",
    "#     d.set_back_led_output(0xFF)\n",
    "    d.set_stabilization(True) # when stabliized, won't roll\n",
    "    \n",
    "\n",
    "    print d.read_locator()    \n",
    "#     print d.get_power_state()\n",
    "    "
   ]
  },
  {
   "cell_type": "code",
   "execution_count": null,
   "metadata": {
    "collapsed": false
   },
   "outputs": [],
   "source": [
    "SPEED = 0x22\n",
    "\n",
    "for i in range(2):\n",
    "    for d in devices:\n",
    "        d.roll(speed=SPEED, heading=0)\n",
    "                \n",
    "    time.sleep(2)\n",
    "\n",
    "    \n",
    "\n",
    "    for d in devices:\n",
    "        d.roll(speed=SPEED, heading=90)\n",
    "    \n",
    "    time.sleep(2)\n",
    "    \n",
    "    for d in devices:\n",
    "        d.roll(speed=SPEED, heading=180)\n",
    "    \n",
    "        \n",
    "    time.sleep(2)\n",
    "    for d in devices:\n",
    "        d.roll(speed=SPEED, heading=270)\n",
    "        \n",
    "    time.sleep(2)\n",
    "    "
   ]
  },
  {
   "cell_type": "markdown",
   "metadata": {},
   "source": [
    "Observations\n",
    "\n",
    "- May need windows binaries to use bluetooth properly: http://www.lfd.uci.edu/~gohlke/pythonlibs/#pybluez\n",
    "- 2 spheros is fine, haven't gotten 3 spheros to work yet (a different one fails each time)\n",
    "\n",
    "Python Lib Route\n",
    "- Consider trying Kulka too, more recently updated: https://github.com/zdanowiczkonrad/PythonSphero/tree/master/Tutorials\n",
    "- These are the available methods: https://github.com/orbotix/DeveloperResources/blob/master/docs/Sphero_API_1.50.pdf\n",
    "- Also look at python ROS driver: https://github.com/mmwise/sphero_ros/commits/groovy-devel/sphero_driver/src/sphero_driver/sphero_driver.py"
   ]
  }
 ],
 "metadata": {
  "anaconda-cloud": {},
  "kernelspec": {
   "display_name": "Python [default]",
   "language": "python",
   "name": "python2"
  },
  "language_info": {
   "codemirror_mode": {
    "name": "ipython",
    "version": 2
   },
   "file_extension": ".py",
   "mimetype": "text/x-python",
   "name": "python",
   "nbconvert_exporter": "python",
   "pygments_lexer": "ipython2",
   "version": "2.7.12"
  }
 },
 "nbformat": 4,
 "nbformat_minor": 1
}
