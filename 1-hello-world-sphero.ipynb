{
 "cells": [
  {
   "cell_type": "code",
   "execution_count": 1,
   "metadata": {
    "collapsed": false
   },
   "outputs": [],
   "source": [
    "# NEW SPHEROS\n",
    "import sphero\n",
    "import time\n",
    "\n"
   ]
  },
  {
   "cell_type": "code",
   "execution_count": 2,
   "metadata": {
    "collapsed": true
   },
   "outputs": [],
   "source": [
    "# Initialize Sphero manager with addresses of local spheros\n",
    "manager = sphero.SpheroManager()\n",
    "manager._name_cache = {\"68:86:E7:05:0C:4B\": \"Sphero-YYP\",\n",
    "                       \"68:86:E7:05:19:AD\": \"Sphero-RYR\",\n",
    "                       \"68:86:E7:05:12:26\": \"Sphero-RPB\"}\n",
    "\n",
    "NBOTS = 3   # Number of spheros \n"
   ]
  },
  {
   "cell_type": "code",
   "execution_count": 51,
   "metadata": {
    "collapsed": false
   },
   "outputs": [
    {
     "name": "stdout",
     "output_type": "stream",
     "text": [
      "Starts auto search\n"
     ]
    }
   ],
   "source": [
    "# use this code snippet when working with new spheros that you have not encountered before.\n",
    "\n",
    "def on_new_sphero(device, NBOTS=NBOTS):\n",
    "    \"\"\"\n",
    "        NBOTS = number of robots in the flock\n",
    "        Note that this presently refers to a global \"manager\" object. This method should be moved inside the native\n",
    "        library later.\n",
    "    \"\"\"\n",
    "    print \"Found \" + device.bt_name\n",
    "    \n",
    "    # Terminate search when all expected bots are found\n",
    "    if len(manager._spheros.keys()) == NBOTS:\n",
    "        print \"Found all {} spheros\".format(NBOTS)\n",
    "        manager.stop_auto_search()\n",
    "        \n",
    "# Callback\n",
    "manager.set_sphero_found_cb(on_new_sphero)\n",
    "\n",
    "# Construct list of devices in system bluetooth collection\n",
    "# Your bluetooth network cannot contain anything with name of \"Sphero-\" prefix\n",
    "devices = []\n",
    "manager.start_auto_search()"
   ]
  },
  {
   "cell_type": "code",
   "execution_count": 62,
   "metadata": {
    "collapsed": false
   },
   "outputs": [
    {
     "name": "stdout",
     "output_type": "stream",
     "text": [
      "Sphero-RPB: 68:86:E7:05:12:26\n",
      "Sphero-YYP: 68:86:E7:05:0C:4B\n",
      "Sphero-RYR: 68:86:E7:05:19:AD\n"
     ]
    }
   ],
   "source": [
    "# Verify that these are the robots we are looking for\n",
    "for name, device in manager._spheros.iteritems():\n",
    "    print \"{}: {}\".format(name, device.bt_addr)\n",
    "    \n",
    "    \n",
    "    \n",
    "    \n",
    "    devices.append(device)\n",
    "    "
   ]
  },
  {
   "cell_type": "code",
   "execution_count": 64,
   "metadata": {
    "collapsed": false
   },
   "outputs": [
    {
     "name": "stdout",
     "output_type": "stream",
     "text": [
      "try 0\n",
      "Connected!\n",
      "try 0\n",
      "some other error\n",
      "try 1\n",
      "some other error\n",
      "try 2\n",
      "some other error\n",
      "try 3\n",
      "some other error\n",
      "try 4\n",
      "some other error\n",
      "try 5\n",
      "some other error\n",
      "try 6\n",
      "some other error\n",
      "try 7\n",
      "some other error\n",
      "try 8\n",
      "some other error\n",
      "try 9\n",
      "some other error\n"
     ]
    },
    {
     "ename": "KeyboardInterrupt",
     "evalue": "",
     "output_type": "error",
     "traceback": [
      "\u001b[0;31m---------------------------------------------------------------------------\u001b[0m",
      "\u001b[0;31mKeyboardInterrupt\u001b[0m                         Traceback (most recent call last)",
      "\u001b[0;32m<ipython-input-64-7a3c8c565dfb>\u001b[0m in \u001b[0;36m<module>\u001b[0;34m()\u001b[0m\n\u001b[1;32m      1\u001b[0m \u001b[1;32mfor\u001b[0m \u001b[0md\u001b[0m \u001b[1;32min\u001b[0m \u001b[0mdevices\u001b[0m\u001b[1;33m:\u001b[0m\u001b[1;33m\u001b[0m\u001b[0m\n\u001b[1;32m      2\u001b[0m     \u001b[1;32mif\u001b[0m \u001b[1;32mnot\u001b[0m \u001b[0md\u001b[0m\u001b[1;33m.\u001b[0m\u001b[0mconnected\u001b[0m\u001b[1;33m(\u001b[0m\u001b[1;33m)\u001b[0m\u001b[1;33m:\u001b[0m\u001b[1;33m\u001b[0m\u001b[0m\n\u001b[0;32m----> 3\u001b[0;31m         \u001b[0md\u001b[0m\u001b[1;33m.\u001b[0m\u001b[0mconnect\u001b[0m\u001b[1;33m(\u001b[0m\u001b[1;33m)\u001b[0m\u001b[1;33m\u001b[0m\u001b[0m\n\u001b[0m\u001b[1;32m      4\u001b[0m \u001b[1;33m\u001b[0m\u001b[0m\n\u001b[1;32m      5\u001b[0m \u001b[1;33m\u001b[0m\u001b[0m\n",
      "\u001b[0;32mC:\\Users\\cyick\\AppData\\Roaming\\Python\\Python27\\site-packages\\sphero\\core.py\u001b[0m in \u001b[0;36mconnect\u001b[0;34m(self, retries)\u001b[0m\n\u001b[1;32m    123\u001b[0m         \u001b[0mself\u001b[0m\u001b[1;33m.\u001b[0m\u001b[0m_connecting\u001b[0m \u001b[1;33m=\u001b[0m \u001b[0mTrue\u001b[0m\u001b[1;33m\u001b[0m\u001b[0m\n\u001b[1;32m    124\u001b[0m \u001b[1;33m\u001b[0m\u001b[0m\n\u001b[0;32m--> 125\u001b[0;31m         \u001b[1;32mreturn\u001b[0m \u001b[0mself\u001b[0m\u001b[1;33m.\u001b[0m\u001b[0m_connect\u001b[0m\u001b[1;33m(\u001b[0m\u001b[0mretries\u001b[0m\u001b[1;33m)\u001b[0m\u001b[1;33m\u001b[0m\u001b[0m\n\u001b[0m\u001b[1;32m    126\u001b[0m \u001b[1;33m\u001b[0m\u001b[0m\n\u001b[1;32m    127\u001b[0m     \u001b[1;32mdef\u001b[0m \u001b[0m_connect\u001b[0m\u001b[1;33m(\u001b[0m\u001b[0mself\u001b[0m\u001b[1;33m,\u001b[0m \u001b[0mretries\u001b[0m\u001b[1;33m)\u001b[0m\u001b[1;33m:\u001b[0m\u001b[1;33m\u001b[0m\u001b[0m\n",
      "\u001b[0;32mC:\\Users\\cyick\\AppData\\Roaming\\Python\\Python27\\site-packages\\sphero\\core.py\u001b[0m in \u001b[0;36m_connect\u001b[0;34m(self, retries)\u001b[0m\n\u001b[1;32m    143\u001b[0m             \u001b[1;32mexcept\u001b[0m\u001b[1;33m:\u001b[0m\u001b[1;33m\u001b[0m\u001b[0m\n\u001b[1;32m    144\u001b[0m                 \u001b[1;32mprint\u001b[0m \u001b[1;34m\"some other error\"\u001b[0m\u001b[1;33m\u001b[0m\u001b[0m\n\u001b[0;32m--> 145\u001b[0;31m                 \u001b[0mtime\u001b[0m\u001b[1;33m.\u001b[0m\u001b[0msleep\u001b[0m\u001b[1;33m(\u001b[0m\u001b[1;36m1.0\u001b[0m\u001b[1;33m)\u001b[0m\u001b[1;33m\u001b[0m\u001b[0m\n\u001b[0m\u001b[1;32m    146\u001b[0m         \u001b[1;32melse\u001b[0m\u001b[1;33m:\u001b[0m\u001b[1;33m\u001b[0m\u001b[0m\n\u001b[1;32m    147\u001b[0m             \u001b[0mself\u001b[0m\u001b[1;33m.\u001b[0m\u001b[0m_connecting\u001b[0m \u001b[1;33m=\u001b[0m \u001b[0mFalse\u001b[0m\u001b[1;33m\u001b[0m\u001b[0m\n",
      "\u001b[0;31mKeyboardInterrupt\u001b[0m: "
     ]
    }
   ],
   "source": [
    "for d in devices: \n",
    "    if not d.connected():\n",
    "        d.connect()\n",
    "        \n",
    "        \n",
    "        \n",
    "    time.sleep(1)\n",
    "    \n",
    "    "
   ]
  },
  {
   "cell_type": "code",
   "execution_count": 7,
   "metadata": {
    "collapsed": false
   },
   "outputs": [],
   "source": [
    "for device in devices:\n",
    "    \n",
    "#     print device._connecting\n",
    "\n",
    "    print device.connected()\n",
    "    print device\n",
    "    \n",
    "    \n",
    "    \n",
    "    \n",
    "    "
   ]
  },
  {
   "cell_type": "code",
   "execution_count": 24,
   "metadata": {
    "collapsed": false
   },
   "outputs": [
    {
     "data": {
      "text/plain": [
       "'Sphero-YYP'"
      ]
     },
     "execution_count": 24,
     "metadata": {},
     "output_type": "execute_result"
    }
   ],
   "source": [
    "devices[1].bt_name\n"
   ]
  },
  {
   "cell_type": "code",
   "execution_count": 22,
   "metadata": {
    "collapsed": false
   },
   "outputs": [
    {
     "data": {
      "text/plain": [
       "False"
      ]
     },
     "execution_count": 22,
     "metadata": {},
     "output_type": "execute_result"
    }
   ],
   "source": [
    "devices[1].disconnect()\n",
    "\n",
    "\n"
   ]
  },
  {
   "cell_type": "code",
   "execution_count": null,
   "metadata": {
    "collapsed": false
   },
   "outputs": [],
   "source": [
    "# devices[2].roll(speed=0xff, heading=180)\n",
    "\n",
    "\n"
   ]
  },
  {
   "cell_type": "code",
   "execution_count": 48,
   "metadata": {
    "collapsed": false
   },
   "outputs": [],
   "source": [
    "# dir(devices[0].get_option_flags())\n",
    "\n",
    "\n",
    "\n"
   ]
  },
  {
   "cell_type": "code",
   "execution_count": 87,
   "metadata": {
    "collapsed": false
   },
   "outputs": [
    {
     "data": {
      "text/plain": [
       "True"
      ]
     },
     "execution_count": 87,
     "metadata": {},
     "output_type": "execute_result"
    }
   ],
   "source": [
    "devices[0].connect()\n",
    "\n"
   ]
  },
  {
   "cell_type": "code",
   "execution_count": null,
   "metadata": {
    "collapsed": false
   },
   "outputs": [],
   "source": [
    "def on_data(data):\n",
    "    print \"hi\"\n",
    "    print data.gyro_raw\n",
    "    \n",
    "    \n",
    "#     print dir(data.gyro.gyro_degrees)\n",
    "    \n",
    "#     gdata = data\n",
    "    \n",
    "#     print \"Gyro {}\".format(data.gyro.gyro_degrees.x)\n",
    "\n",
    "devices[0].set_sensor_streaming_cb(on_data)\n",
    "\n",
    "ssc = sphero.SensorStreamingConfig()\n",
    "\n",
    "ssc.sample_rate = 10\n",
    "ssc.num_packets = ssc.STREAM_FOREVER\n",
    "ssc.stream_gyro(True)\n",
    "\n",
    "# ssc.print_streaming_config()\n",
    "\n",
    "\n",
    "# strat streaming\n",
    "devices[0].set_data_streaming(ssc)\n"
   ]
  },
  {
   "cell_type": "code",
   "execution_count": null,
   "metadata": {
    "collapsed": false
   },
   "outputs": [],
   "source": [
    "for d in devices:\n",
    "#     d.set_rgb(0, 255,128 )\n",
    "#     print d.get_rgb( )\n",
    "#     d.set_back_led_output(0xFF)\n",
    "    d.set_stabilization(True) # when stabliized, won't roll\n",
    "    \n",
    "\n",
    "    print d.read_locator()    \n",
    "#     print d.get_power_state()\n",
    "    "
   ]
  },
  {
   "cell_type": "code",
   "execution_count": null,
   "metadata": {
    "collapsed": true
   },
   "outputs": [],
   "source": []
  },
  {
   "cell_type": "code",
   "execution_count": 41,
   "metadata": {
    "collapsed": false
   },
   "outputs": [],
   "source": [
    "SPEED = 0x22\n",
    "\n",
    "for i in range(2):\n",
    "    for d in devices:\n",
    "        d.roll(speed=SPEED, heading=0)\n",
    "        \n",
    "        \n",
    "        \n",
    "        \n",
    "        \n",
    "    time.sleep(2)\n",
    "\n",
    "    \n",
    "\n",
    "    for d in devices:\n",
    "        d.roll(speed=SPEED, heading=90)\n",
    "        \n",
    "        \n",
    "    \n",
    "    \n",
    "    \n",
    "    \n",
    "    time.sleep(2)\n",
    "    \n",
    "    for d in devices:\n",
    "        d.roll(speed=SPEED, heading=180)\n",
    "    \n",
    "        \n",
    "    time.sleep(2)\n",
    "\n",
    "    \n",
    "    \n",
    "    for d in devices:\n",
    "        d.roll(speed=SPEED, heading=270)\n",
    "        \n",
    "    time.sleep(2)\n",
    "    \n",
    "    "
   ]
  },
  {
   "cell_type": "markdown",
   "metadata": {},
   "source": [
    "Observations\n",
    "\n",
    "- May need windows binaries to use bluetooth properly: http://www.lfd.uci.edu/~gohlke/pythonlibs/#pybluez\n",
    "- 2 spheros is fine, haven't gotten 3 spheros to work yet (a different one fails each time)\n",
    "\n",
    "Python Lib Route\n",
    "- Consider trying Kulka too, more recently updated: https://github.com/zdanowiczkonrad/PythonSphero/tree/master/Tutorials\n",
    "- These are the available methods: https://github.com/orbotix/DeveloperResources/blob/master/docs/Sphero_API_1.50.pdf\n",
    "- Also look at python ROS driver: https://github.com/mmwise/sphero_ros/commits/groovy-devel/sphero_driver/src/sphero_driver/sphero_driver.py"
   ]
  }
 ],
 "metadata": {
  "anaconda-cloud": {},
  "kernelspec": {
   "display_name": "Python [default]",
   "language": "python",
   "name": "python2"
  },
  "language_info": {
   "codemirror_mode": {
    "name": "ipython",
    "version": 2
   },
   "file_extension": ".py",
   "mimetype": "text/x-python",
   "name": "python",
   "nbconvert_exporter": "python",
   "pygments_lexer": "ipython2",
   "version": "2.7.12"
  }
 },
 "nbformat": 4,
 "nbformat_minor": 1
}
