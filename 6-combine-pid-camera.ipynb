{
 "cells": [
  {
   "cell_type": "markdown",
   "metadata": {},
   "source": [
    "In which I attempt to use the Camera controller to play nicely with the camera despite being agnostic about the units.\n",
    "\n"
   ]
  },
  {
   "cell_type": "code",
   "execution_count": 1,
   "metadata": {},
   "outputs": [],
   "source": [
    "from SpheroController.tracablesphero import TraceableSphero"
   ]
  },
  {
   "cell_type": "code",
   "execution_count": 2,
   "metadata": {
    "collapsed": true
   },
   "outputs": [],
   "source": [
    "import sphero\n",
    "\n",
    "# Controller Functions\n",
    "import time\n",
    "\n",
    "import os\n",
    "import json\n",
    "from pprint import pprint\n",
    "import math"
   ]
  },
  {
   "cell_type": "code",
   "execution_count": 3,
   "metadata": {},
   "outputs": [],
   "source": [
    "# Tracking code\n",
    "import cv2\n",
    "from tracker.trackingfilter import FilterSpheroBlueCover, FilterGlow\n",
    "\n",
    "\n",
    "\n",
    "from tracker.traceable import TraceableObject\n",
    "from tracker.trackerbase import ColorTracker\n",
    "\n",
    "from util import Vector2D\n"
   ]
  },
  {
   "cell_type": "code",
   "execution_count": 4,
   "metadata": {
    "collapsed": true
   },
   "outputs": [],
   "source": [
    "# General Python Helper Functions\n",
    "def readJsonFile(filename):\n",
    "    '''\n",
    "        Read a JSON file into a python dict \n",
    "    '''\n",
    "    with open(filename) as data_file:    \n",
    "        data = json.load(data_file)\n",
    "    return data"
   ]
  },
  {
   "cell_type": "code",
   "execution_count": 5,
   "metadata": {},
   "outputs": [],
   "source": [
    "# Config management\n",
    "PROJ_ROOT = os.getcwd()\n",
    "ROSTER = os.path.join(PROJ_ROOT, \"roster.json\")\n",
    "roster = readJsonFile(ROSTER)"
   ]
  },
  {
   "cell_type": "code",
   "execution_count": 6,
   "metadata": {},
   "outputs": [],
   "source": [
    "# Class for managing multiple spheros\n",
    "manager = sphero.SpheroManager()\n",
    "\n",
    "# Initialize Sphero manager with addresses of local spheros\n",
    "manager._name_cache = roster\n",
    "\n",
    "# Number of spheros to connect to\n",
    "NBOTS = len(roster.keys())"
   ]
  },
  {
   "cell_type": "code",
   "execution_count": 7,
   "metadata": {
    "collapsed": true
   },
   "outputs": [],
   "source": [
    "# Add known spheros from roster to the manager\n",
    "for bt_addr, bt_name in roster.iteritems():\n",
    "    manager.add_sphero(bt_addr, bt_name)"
   ]
  },
  {
   "cell_type": "code",
   "execution_count": 8,
   "metadata": {},
   "outputs": [
    {
     "name": "stdout",
     "output_type": "stream",
     "text": [
      "Sphero-RPB: 68:86:E7:05:12:26\n",
      "Sphero-YPR: 68:86:E7:09:4E:74\n",
      "Sphero-GRY: 68:86:E7:09:A9:28\n",
      "Sphero-YYP: 68:86:E7:05:0C:4B\n",
      "Sphero-RWR: 68:86:E7:09:A2:FE\n",
      "Sphero-ORG: 68:86:E7:09:A6:FE\n",
      "Sphero-RYR: 68:86:E7:05:19:AD\n"
     ]
    }
   ],
   "source": [
    "devices = []\n",
    "# Verify that these are the robots we are looking for\n",
    "for name, device in manager._spheros.iteritems():\n",
    "    print \"{}: {}\".format(name, device.bt_addr)\n",
    "    devices.append(device) "
   ]
  },
  {
   "cell_type": "code",
   "execution_count": 9,
   "metadata": {
    "collapsed": true
   },
   "outputs": [],
   "source": [
    "bots = [devices[4]]"
   ]
  },
  {
   "cell_type": "code",
   "execution_count": 10,
   "metadata": {},
   "outputs": [
    {
     "name": "stdout",
     "output_type": "stream",
     "text": [
      "Sphero-RWR try 0\n",
      "An exception of type IOError occurred. Arguments:\n",
      "('A connection attempt failed because the connected party did not properly respond after a period of time, or established connection failed because connected host has failed to respond.\\r\\n',)\n",
      "Sphero-RWR try 1\n",
      "Connected!\n"
     ]
    }
   ],
   "source": [
    "for bot in bots:\n",
    "    \n",
    "    bot.disconnect()\n",
    "    bot.connect()"
   ]
  },
  {
   "cell_type": "code",
   "execution_count": 11,
   "metadata": {},
   "outputs": [
    {
     "data": {
      "text/plain": [
       "<sphero.response.Response at 0x692c358>"
      ]
     },
     "execution_count": 11,
     "metadata": {},
     "output_type": "execute_result"
    }
   ],
   "source": [
    "bots[0].set_rgb(0, 0, 255)\n",
    "\n",
    "\n"
   ]
  },
  {
   "cell_type": "code",
   "execution_count": 12,
   "metadata": {},
   "outputs": [
    {
     "data": {
      "text/plain": [
       "(640, 480)"
      ]
     },
     "execution_count": 12,
     "metadata": {},
     "output_type": "execute_result"
    }
   ],
   "source": [
    "tracker = ColorTracker()\n",
    "#Track Camera Size: \n",
    "\n",
    "tracker.image_size\n"
   ]
  },
  {
   "cell_type": "code",
   "execution_count": 13,
   "metadata": {
    "collapsed": true
   },
   "outputs": [],
   "source": [
    "# Use blue because it's the most reliable color filter\n",
    "traceable_blue = TraceableObject(\"BLUE\")\n",
    "traceable_blue.filter = FilterSpheroBlueCover()"
   ]
  },
  {
   "cell_type": "code",
   "execution_count": 14,
   "metadata": {
    "collapsed": true
   },
   "outputs": [],
   "source": [
    "traceable_glow = TraceableObject(\"GLOW\")\n",
    "traceable_glow.filter = FilterGlow()"
   ]
  },
  {
   "cell_type": "code",
   "execution_count": 15,
   "metadata": {
    "collapsed": true
   },
   "outputs": [],
   "source": [
    "# trackable_objects = [traceable_blue]"
   ]
  },
  {
   "cell_type": "code",
   "execution_count": 16,
   "metadata": {},
   "outputs": [],
   "source": [
    "# traceable_objects = tracker.track_objects(trackable_objects)"
   ]
  },
  {
   "cell_type": "code",
   "execution_count": 61,
   "metadata": {
    "collapsed": true
   },
   "outputs": [],
   "source": [
    "# mathematical nuances\n",
    "def normalize_angle(angle):\n",
    "    if angle < 0:\n",
    "        return normalize_angle(-angle)\n",
    "    \n",
    "    \n",
    "    elif angle > 360:\n",
    "        return angle % 360\n",
    "    else:\n",
    "        return angle\n",
    "\n",
    "def angle_between_points(x1, y1, x2, y2):\n",
    "    \n",
    "    return math.degrees(math.atan2( y2 - y1, x2 - x1 ))"
   ]
  },
  {
   "cell_type": "code",
   "execution_count": 68,
   "metadata": {},
   "outputs": [],
   "source": [
    "# For Debugging\n",
    "def display_current_view(tracker):\n",
    "    image = tracker.get_video_frame()\n",
    "    cv2.imshow(\"img\", image)\n",
    "    cv2.waitKey(0)\n",
    "    \n",
    "# For Navigation\n",
    "def get_bot_position(bot, traceable_object, tracker, samples=4, debug=False):  \n",
    "    xSamples = []\n",
    "    ySamples = []\n",
    "\n",
    "    traceable_object.screen_size = tracker.image_size\n",
    "     \n",
    "    for sample in range(samples):\n",
    "        print(\",\"),\n",
    "        \n",
    "        image = tracker.get_video_frame()\n",
    "        timestamp = time.time()\n",
    "        \n",
    "        if sample > 0: # ignore the first sample\n",
    "            x, y = tracker._find_traceable_in_image(image, traceable_object) # side effect: adds mask to tracker  \n",
    "            if x:\n",
    "                xSamples.append(x)\n",
    "            if y:\n",
    "                ySamples.append(y)\n",
    "\n",
    "            traceable_object.add_tracking(Vector2D(x, y), timestamp)\n",
    "            cv2.waitKey(1)\n",
    "\n",
    "    if debug:      \n",
    "        display_current_view(tracker)\n",
    "    print \"{} | {} \".format(xSamples, ySamples)\n",
    "        \n",
    "#     return traceable_object.pos.x, traceable_object.pos.y\n",
    "    return (sum(xSamples) / len(xSamples)), (sum(ySamples) / len(ySamples))\n",
    "#     avg_pos = \n",
    "#     return traceable_object\n",
    "    \n",
    "\n",
    "def calibrate_bot_direction(bot, traceable_object_list, traceable_color, tracker, debug=False):\n",
    "    \"\"\"\n",
    "        Routine for making all robots line up in the same direction\n",
    "        \n",
    "    \"\"\"\n",
    "#     traceable_object = traceable_object_list[0]\n",
    "    \n",
    "    bot.set_rgb(traceable_color[0], traceable_color[1], traceable_color[2])\n",
    "    bot.set_motion_timeout(1500)\n",
    "    startX, startY =  get_bot_position(bot, traceable_object_list[0], tracker)\n",
    "\n",
    "#     traceable_object_list = tracker.track_object(traceable_object_list)\n",
    "#     startX, startY = traceable_object_list[0].pos.x, traceable_object_list[0].pos.y\n",
    "    cv2.waitKey(250)\n",
    "    \n",
    "    \n",
    "    if (startX is None) or (startY is None):\n",
    "        print(\"Error: Robot not in view\")\n",
    "        return -1\n",
    "    \n",
    "    print \"Start ({},{})\".format( startX, startY)\n",
    "\n",
    "    bot.roll(60, 0)\n",
    "    time.sleep(3)\n",
    "    \n",
    "    \n",
    "    \n",
    "    endX, endY       =  get_bot_position(bot, traceable_object_list[0], tracker)\n",
    "#     traceable_object_list = tracker.track_object(traceable_object_list)\n",
    "#     endX, endY = traceable_object_list[0].pos.x, traceable_object_list[0].pos.y\n",
    "      \n",
    "    \n",
    "    print \"End   ({},{})\".format(   endX, endY)\n",
    "    offset = normalize_angle(angle_between_points(startX, startY, endX, endY))\n",
    "    \n",
    "\n",
    "    print \"Angle {}\".format(offset) \n",
    "#     bot.roll(50, offset)\n",
    "#     time.sleep(1.5)\n",
    "#     bot.set_heading(offset)\n",
    "    \n",
    "    \n",
    "    # Turn lights off \n",
    "    \n",
    "#     bot.set_rgb(0, 0, 0)\n",
    "    \n",
    "    return offset"
   ]
  },
  {
   "cell_type": "code",
   "execution_count": 39,
   "metadata": {
    "collapsed": true
   },
   "outputs": [],
   "source": [
    "# display_current_view(tracker)\n",
    "tracklist = [traceable_blue]\n",
    "\n",
    "\n"
   ]
  },
  {
   "cell_type": "code",
   "execution_count": 67,
   "metadata": {},
   "outputs": [],
   "source": [
    "# Video display\n",
    "\n",
    "while(True):\n",
    "#     tracklist = tracker.track_objects(tracklist)\n",
    "    \n",
    "    tracker.track_objects(tracklist)\n",
    "    cv2.waitKey(1)\n",
    "    \n",
    "    \n",
    "    if cv2.waitKey(1) & 0xFF == ord('q'):\n",
    "\n",
    "        break \n",
    "\n",
    "        \n",
    "cv2.destroyAllWindows()\n"
   ]
  },
  {
   "cell_type": "code",
   "execution_count": null,
   "metadata": {
    "collapsed": true
   },
   "outputs": [],
   "source": [
    "offsets = []"
   ]
  },
  {
   "cell_type": "code",
   "execution_count": 79,
   "metadata": {},
   "outputs": [
    {
     "name": "stdout",
     "output_type": "stream",
     "text": [
      ", , , , [251, 251, 251] | [324, 324, 324] \n",
      "Start (251,324)\n",
      ", , , , [335, 335, 335] | [177, 177, 177] \n",
      "End   (335,177)\n",
      "Angle 60.2551187031\n"
     ]
    }
   ],
   "source": [
    "for bot in bots:\n",
    "    bot.set_rgb(0, 0, 255)\n",
    "\n",
    "offset = calibrate_bot_direction(bot, tracklist, [0, 0, 255], tracker, True)\n"
   ]
  },
  {
   "cell_type": "code",
   "execution_count": 81,
   "metadata": {},
   "outputs": [
    {
     "data": {
      "text/plain": [
       "<sphero.response.Response at 0x6dc74e0>"
      ]
     },
     "execution_count": 81,
     "metadata": {},
     "output_type": "execute_result"
    }
   ],
   "source": [
    "bot.roll(50, 0)\n",
    "time.sleep(1.5)\n",
    "bot.roll(50, offset)\n",
    "# bot.set_heading(0)\n",
    "\n",
    "\n"
   ]
  },
  {
   "cell_type": "code",
   "execution_count": 73,
   "metadata": {},
   "outputs": [
    {
     "data": {
      "text/plain": [
       "<sphero.response.Response at 0x6984278>"
      ]
     },
     "execution_count": 73,
     "metadata": {},
     "output_type": "execute_result"
    }
   ],
   "source": [
    "\n",
    "\n",
    "\n"
   ]
  },
  {
   "cell_type": "code",
   "execution_count": 32,
   "metadata": {},
   "outputs": [
    {
     "name": "stdout",
     "output_type": "stream",
     "text": [
      "(x: 281, y:156, deg:29.0372889653)\n"
     ]
    }
   ],
   "source": [
    "print traceable_blue.pos\n",
    "\n",
    "\n"
   ]
  },
  {
   "cell_type": "code",
   "execution_count": 70,
   "metadata": {},
   "outputs": [
    {
     "data": {
      "text/plain": [
       "<sphero.response.Response at 0x6bedba8>"
      ]
     },
     "execution_count": 70,
     "metadata": {},
     "output_type": "execute_result"
    }
   ],
   "source": [
    "ts.device.roll(40, 180)\n",
    "\n",
    "\n"
   ]
  },
  {
   "cell_type": "code",
   "execution_count": 28,
   "metadata": {},
   "outputs": [
    {
     "name": "stdout",
     "output_type": "stream",
     "text": [
      "(x: 444, y:201, deg:24.3563912528)\n"
     ]
    }
   ],
   "source": [
    "print traceable_blue.pos\n",
    "\n",
    "\n",
    "\n",
    "\n"
   ]
  },
  {
   "cell_type": "code",
   "execution_count": null,
   "metadata": {},
   "outputs": [],
   "source": [
    "for i in range(500):\n",
    "    print get_bot_position(bot, traceable_blue, tracker, samples=4, debug=False)\n",
    "    time.sleep(.5)\n",
    "    "
   ]
  },
  {
   "cell_type": "code",
   "execution_count": 118,
   "metadata": {},
   "outputs": [
    {
     "name": "stdout",
     "output_type": "stream",
     "text": [
      "[183, 279, 279, 279] | [247, 241, 241, 241] \n"
     ]
    },
    {
     "data": {
      "text/plain": [
       "(279, 241)"
      ]
     },
     "execution_count": 118,
     "metadata": {},
     "output_type": "execute_result"
    }
   ],
   "source": [
    "get_bot_position(bot, traceable_blue, tracker, samples=4, debug=False)\n",
    "\n",
    "\n",
    "\n",
    "\n",
    "\n",
    "\n"
   ]
  },
  {
   "cell_type": "code",
   "execution_count": 63,
   "metadata": {},
   "outputs": [],
   "source": [
    "ts = TraceableSphero(bot)\n",
    "\n"
   ]
  },
  {
   "cell_type": "code",
   "execution_count": 53,
   "metadata": {},
   "outputs": [
    {
     "name": "stdout",
     "output_type": "stream",
     "text": [
      "(x: 340, y:254, deg:36.7618944194)\n"
     ]
    }
   ],
   "source": [
    "print traceable_blue.pos\n",
    "\n"
   ]
  },
  {
   "cell_type": "code",
   "execution_count": 19,
   "metadata": {},
   "outputs": [
    {
     "name": "stdout",
     "output_type": "stream",
     "text": [
      "143\n",
      "371\n"
     ]
    }
   ],
   "source": [
    "ts.tracking_samples = []\n",
    "\n",
    "image = tracker.get_video_frame()\n",
    "x, y = tracker._find_traceable_in_image(image, traceable_blue)\n",
    "ts.add_tracking(Vector2D(x, y), time.time())\n",
    "\n",
    "print x\n",
    "print y"
   ]
  },
  {
   "cell_type": "code",
   "execution_count": 20,
   "metadata": {},
   "outputs": [
    {
     "name": "stdout",
     "output_type": "stream",
     "text": [
      "None\n"
     ]
    }
   ],
   "source": [
    "print ts.pos\n",
    "\n"
   ]
  },
  {
   "cell_type": "code",
   "execution_count": 56,
   "metadata": {},
   "outputs": [
    {
     "name": "stdout",
     "output_type": "stream",
     "text": [
      "starts calibration\n",
      "True\n"
     ]
    }
   ],
   "source": [
    "ts.calibrate_direction()"
   ]
  },
  {
   "cell_type": "code",
   "execution_count": 25,
   "metadata": {},
   "outputs": [
    {
     "data": {
      "text/plain": [
       "<sphero.response.Response at 0x6eb8978>"
      ]
     },
     "execution_count": 25,
     "metadata": {},
     "output_type": "execute_result"
    }
   ],
   "source": [
    "\n",
    "\n",
    "\n"
   ]
  },
  {
   "cell_type": "code",
   "execution_count": 36,
   "metadata": {},
   "outputs": [
    {
     "name": "stdout",
     "output_type": "stream",
     "text": [
      "[454, 454, 454, 454] | [202, 202, 202, 202] \n"
     ]
    },
    {
     "data": {
      "text/plain": [
       "(454, 202)"
      ]
     },
     "execution_count": 36,
     "metadata": {},
     "output_type": "execute_result"
    }
   ],
   "source": [
    "get_bot_position(bots[0], traceable_blue, tracker, debug=False)"
   ]
  },
  {
   "cell_type": "code",
   "execution_count": null,
   "metadata": {
    "collapsed": true
   },
   "outputs": [],
   "source": []
  },
  {
   "cell_type": "code",
   "execution_count": 51,
   "metadata": {},
   "outputs": [
    {
     "name": "stdout",
     "output_type": "stream",
     "text": [
      "[341] | [254] \n",
      "[340] | [254] \n",
      "Start (341,254)\n",
      "End   (340,254)\n",
      "Angle 180.0\n"
     ]
    },
    {
     "data": {
      "text/plain": [
       "180.0"
      ]
     },
     "execution_count": 51,
     "metadata": {},
     "output_type": "execute_result"
    }
   ],
   "source": [
    "\n"
   ]
  },
  {
   "cell_type": "code",
   "execution_count": 20,
   "metadata": {},
   "outputs": [],
   "source": []
  },
  {
   "cell_type": "code",
   "execution_count": null,
   "metadata": {},
   "outputs": [],
   "source": [
    "\n"
   ]
  },
  {
   "cell_type": "code",
   "execution_count": 85,
   "metadata": {},
   "outputs": [
    {
     "data": {
      "text/plain": [
       "<sphero.response.Response at 0x6ed6a20>"
      ]
     },
     "execution_count": 85,
     "metadata": {},
     "output_type": "execute_result"
    }
   ],
   "source": [
    "bot.roll(50,270)\n"
   ]
  },
  {
   "cell_type": "code",
   "execution_count": 32,
   "metadata": {},
   "outputs": [
    {
     "data": {
      "text/plain": [
       "<sphero.response.Response at 0x6ed3630>"
      ]
     },
     "execution_count": 32,
     "metadata": {},
     "output_type": "execute_result"
    }
   ],
   "source": [
    "bot.roll(50, 135)\n",
    "\n",
    "\n",
    "time.sleep(1.5)\n",
    "bots[0].set_heading(0)\n",
    "\n",
    "\n",
    "\n"
   ]
  },
  {
   "cell_type": "code",
   "execution_count": 33,
   "metadata": {},
   "outputs": [
    {
     "data": {
      "text/plain": [
       "<sphero.response.Response at 0x6ed34a8>"
      ]
     },
     "execution_count": 33,
     "metadata": {},
     "output_type": "execute_result"
    }
   ],
   "source": [
    "bots[0].roll(40, 180)\n",
    "\n"
   ]
  },
  {
   "cell_type": "code",
   "execution_count": 70,
   "metadata": {},
   "outputs": [
    {
     "data": {
      "text/plain": [
       "<sphero.response.Response at 0x7474940>"
      ]
     },
     "execution_count": 70,
     "metadata": {},
     "output_type": "execute_result"
    }
   ],
   "source": [
    "\n",
    "\n",
    "\n",
    "bots[0].roll(50, 0)\n"
   ]
  },
  {
   "cell_type": "code",
   "execution_count": 109,
   "metadata": {
    "collapsed": true
   },
   "outputs": [],
   "source": [
    "tracker._draw_masks()\n",
    "cv2.waitKey(1)"
   ]
  },
  {
   "cell_type": "markdown",
   "metadata": {},
   "source": [
    "Debugging Section"
   ]
  },
  {
   "cell_type": "code",
   "execution_count": 43,
   "metadata": {
    "collapsed": true
   },
   "outputs": [],
   "source": [
    "#Stream video live to set \n",
    "\n",
    "cam = tracker.cam\n",
    "\n",
    "\n",
    "while(True):\n",
    "    # Capture frame-by-frame\n",
    "    ret, frame = cam.read()\n",
    "\n",
    "    # Display the resulting frame\n",
    "    cv2.imshow('frame', frame)\n",
    "    \n",
    "    #     cv2.imshow('frame',gray)\n",
    "    if cv2.waitKey(1) & 0xFF == ord('q'):\n",
    "        break\n",
    "        \n",
    "cv2.destroyAllWindows()"
   ]
  },
  {
   "cell_type": "code",
   "execution_count": null,
   "metadata": {
    "collapsed": true
   },
   "outputs": [],
   "source": [
    "q"
   ]
  }
 ],
 "metadata": {
  "anaconda-cloud": {},
  "kernelspec": {
   "display_name": "Python [default]",
   "language": "python",
   "name": "python2"
  },
  "language_info": {
   "codemirror_mode": {
    "name": "ipython",
    "version": 2
   },
   "file_extension": ".py",
   "mimetype": "text/x-python",
   "name": "python",
   "nbconvert_exporter": "python",
   "pygments_lexer": "ipython2",
   "version": "2.7.12"
  }
 },
 "nbformat": 4,
 "nbformat_minor": 2
}
