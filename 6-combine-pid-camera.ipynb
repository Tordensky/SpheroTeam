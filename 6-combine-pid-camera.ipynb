{
 "cells": [
  {
   "cell_type": "markdown",
   "metadata": {},
   "source": [
    "In which I attempt to use the Camera controller to play nicely with the camera despite being agnostic about the units.\n",
    "\n"
   ]
  },
  {
   "cell_type": "code",
   "execution_count": 1,
   "metadata": {
    "collapsed": true
   },
   "outputs": [],
   "source": [
    "from SpheroController.tracablesphero import TraceableSphero"
   ]
  },
  {
   "cell_type": "code",
   "execution_count": 2,
   "metadata": {
    "collapsed": true
   },
   "outputs": [],
   "source": [
    "import sphero\n",
    "\n",
    "# Controller Libraries\n",
    "import time\n",
    "import os\n",
    "import json\n",
    "from pprint import pprint\n",
    "import math"
   ]
  },
  {
   "cell_type": "code",
   "execution_count": 3,
   "metadata": {
    "collapsed": true
   },
   "outputs": [],
   "source": [
    "# Tracking code\n",
    "import cv2\n",
    "\n",
    "# Modify from Simon Tordensky's Base \n",
    "from tracker.trackingfilter import FilterSpheroBlueCover, FilterGlow\n",
    "from tracker.traceable import TraceableObject\n",
    "from tracker.trackerbase import ColorTracker\n",
    "\n",
    "from util import Vector2D"
   ]
  },
  {
   "cell_type": "code",
   "execution_count": 4,
   "metadata": {},
   "outputs": [],
   "source": [
    "# Library written to help with tracking\n",
    "import SpheroTeam"
   ]
  },
  {
   "cell_type": "code",
   "execution_count": 37,
   "metadata": {
    "collapsed": true
   },
   "outputs": [],
   "source": [
    "from SpheroTeam import normalize_angle, angle_between_points\n",
    "\n"
   ]
  },
  {
   "cell_type": "code",
   "execution_count": 5,
   "metadata": {
    "run_control": {
     "marked": true
    }
   },
   "outputs": [],
   "source": [
    "from SpheroTeam.util import readJsonFile"
   ]
  },
  {
   "cell_type": "code",
   "execution_count": 6,
   "metadata": {},
   "outputs": [],
   "source": [
    "# Config management\n",
    "PROJ_ROOT = os.getcwd()\n",
    "ROSTER = os.path.join(PROJ_ROOT, \"roster.json\")\n",
    "roster = readJsonFile(ROSTER)\n"
   ]
  },
  {
   "cell_type": "code",
   "execution_count": 7,
   "metadata": {
    "collapsed": true
   },
   "outputs": [],
   "source": [
    "# Class for managing multiple spheros\n",
    "manager = sphero.SpheroManager()\n",
    "\n",
    "# Initialize Sphero manager with addresses of local spheros\n",
    "manager._name_cache = roster\n",
    "\n",
    "# Number of spheros to connect to\n",
    "NBOTS = len(roster.keys())"
   ]
  },
  {
   "cell_type": "code",
   "execution_count": 8,
   "metadata": {
    "collapsed": true
   },
   "outputs": [],
   "source": [
    "# Add known spheros from roster to the manager\n",
    "for bt_addr, bt_name in roster.iteritems():\n",
    "    manager.add_sphero(bt_addr, bt_name)"
   ]
  },
  {
   "cell_type": "code",
   "execution_count": 9,
   "metadata": {},
   "outputs": [
    {
     "name": "stdout",
     "output_type": "stream",
     "text": [
      "Sphero-RPB: 68:86:E7:05:12:26\n",
      "Sphero-YPR: 68:86:E7:09:4E:74\n",
      "Sphero-GRY: 68:86:E7:09:A9:28\n",
      "Sphero-YYP: 68:86:E7:05:0C:4B\n",
      "Sphero-RWR: 68:86:E7:09:A2:FE\n",
      "Sphero-ORG: 68:86:E7:09:A6:FE\n",
      "Sphero-RYR: 68:86:E7:05:19:AD\n"
     ]
    }
   ],
   "source": [
    "devices = []\n",
    "# Verify that these are the robots we are looking for\n",
    "for name, device in manager._spheros.iteritems():\n",
    "    print \"{}: {}\".format(name, device.bt_addr)\n",
    "    devices.append(device) "
   ]
  },
  {
   "cell_type": "code",
   "execution_count": 10,
   "metadata": {},
   "outputs": [],
   "source": [
    "# Manually pick out the robots to include\n",
    "# example: bots = [devices[4], devices[1]]\n",
    "activeNames = [\"Sphero-ORG\",\n",
    "               \"Sphero-RWR\"]\n",
    "\n",
    "\n"
   ]
  },
  {
   "cell_type": "code",
   "execution_count": 11,
   "metadata": {},
   "outputs": [
    {
     "name": "stdout",
     "output_type": "stream",
     "text": [
      "Sphero-ORG try 0\n",
      "An exception of type IOError occurred. Arguments:\n",
      "('A connection attempt failed because the connected party did not properly respond after a period of time, or established connection failed because connected host has failed to respond.\\r\\n',)\n",
      "Sphero-ORG try 1\n",
      "Connected!\n",
      "Sphero-RWR try 0\n",
      "Connected!\n"
     ]
    }
   ],
   "source": [
    "SpheroTeam.connect_team(bots)\n",
    "\n"
   ]
  },
  {
   "cell_type": "code",
   "execution_count": 12,
   "metadata": {},
   "outputs": [
    {
     "name": "stdout",
     "output_type": "stream",
     "text": [
      "NOTE! Removes wrong byte in start of header! Byte:  13\n"
     ]
    }
   ],
   "source": [
    "# All robots start connnected\n",
    "for bot in bots:\n",
    "    \n",
    "    bot.set_rgb(0,0,0)"
   ]
  },
  {
   "cell_type": "code",
   "execution_count": 13,
   "metadata": {},
   "outputs": [
    {
     "data": {
      "text/plain": [
       "(640, 480)"
      ]
     },
     "execution_count": 13,
     "metadata": {},
     "output_type": "execute_result"
    }
   ],
   "source": [
    "tracker = ColorTracker()\n",
    "#Track Camera Size: \n",
    "\n",
    "\n",
    "tracker.image_size"
   ]
  },
  {
   "cell_type": "code",
   "execution_count": 23,
   "metadata": {
    "collapsed": true
   },
   "outputs": [],
   "source": [
    "# Use blue because it's the most reliable color filter\n",
    "traceable_blue = TraceableObject(\"BLUE\")\n",
    "traceable_blue.filter = FilterSpheroBlueCover()"
   ]
  },
  {
   "cell_type": "code",
   "execution_count": 24,
   "metadata": {
    "collapsed": true
   },
   "outputs": [],
   "source": [
    "# traceable_glow = TraceableObject(\"GLOW\")\n",
    "# traceable_glow.filter = FilterGlow()"
   ]
  },
  {
   "cell_type": "code",
   "execution_count": 25,
   "metadata": {
    "collapsed": true
   },
   "outputs": [],
   "source": [
    "# traceable_objects = tracker.track_objects(trackable_objects)"
   ]
  },
  {
   "cell_type": "code",
   "execution_count": 35,
   "metadata": {
    "collapsed": true
   },
   "outputs": [],
   "source": [
    "# For Debugging\n",
    "def display_current_view(tracker):\n",
    "    image = tracker.get_video_frame()\n",
    "    cv2.imshow(\"img\", image)\n",
    "    cv2.waitKey(0)\n",
    "    \n",
    "    \n",
    "# For Navigation\n",
    "def get_bot_position(bot, traceable_object, tracker, samples=4, debug=False):  \n",
    "    xSamples = []\n",
    "    ySamples = []\n",
    "\n",
    "    traceable_object.screen_size = tracker.image_size\n",
    "     \n",
    "    for sample in range(samples):\n",
    "        image = tracker.get_video_frame()\n",
    "        timestamp = time.time()\n",
    "        \n",
    "        if sample > 0: # ignore the first sample\n",
    "            x, y = tracker._find_traceable_in_image(image, traceable_object) # side effect: adds mask to tracker  \n",
    "            if x:\n",
    "                xSamples.append(x)\n",
    "            if y:\n",
    "                ySamples.append(y)\n",
    "\n",
    "            traceable_object.add_tracking(Vector2D(x, y), timestamp)\n",
    "            cv2.waitKey(1) # is this really necessary\n",
    "\n",
    "    if debug:      \n",
    "        display_current_view(tracker)\n",
    "    print \"{} | {} \".format(xSamples, ySamples)\n",
    "        \n",
    "#     return traceable_object.pos.x, traceable_object.pos.y\n",
    "    return (sum(xSamples) / len(xSamples)), (sum(ySamples) / len(ySamples))\n",
    "\n",
    "\n",
    "def calibrate_bot_direction(bot, traceable_object_list, traceable_color, tracker, debug=False):\n",
    "    \"\"\"\n",
    "        Routine for making all robots line up in the same direction\n",
    "        \n",
    "    \"\"\"\n",
    "#     traceable_object = traceable_object_list[0]\n",
    "    TIMEOUT = 1500  # in MILLISECONDS\n",
    "    \n",
    "    \n",
    "    bot.set_rgb(traceable_color[0], traceable_color[1], traceable_color[2])\n",
    "    bot.set_motion_timeout(TIMEOUT)\n",
    "    startX, startY =  get_bot_position(bot, traceable_object_list[0], tracker)\n",
    "\n",
    "#     traceable_object_list = tracker.track_object(traceable_object_list)\n",
    "#     startX, startY = traceable_object_list[0].pos.x, traceable_object_list[0].pos.y\n",
    "    cv2.waitKey(250)\n",
    "    \n",
    "    \n",
    "    if (startX is None) or (startY is None):\n",
    "        print(\"Error: Robot not in view\")\n",
    "        return -1\n",
    "    \n",
    "    print \"Start ({},{})\".format( startX, startY)\n",
    "\n",
    "    bot.roll(60, 0)\n",
    "    time.sleep(TIMEOUT / 1000) \n",
    "\n",
    "    endX, endY       =  get_bot_position(bot, traceable_object_list[0], tracker)\n",
    "#     traceable_object_list = tracker.track_object(traceable_object_list)\n",
    "#     endX, endY = traceable_object_list[0].pos.x, traceable_object_list[0].pos.y\n",
    "      \n",
    "    print \"End   ({},{})\".format(   endX, endY)\n",
    "    offset = normalize_angle(angle_between_points(startX, startY, endX, endY))\n",
    "    \n",
    "\n",
    "    print \"Angle {}\".format(offset) \n",
    "#     bot.roll(50, offset)\n",
    "#     time.sleep(1.5)\n",
    "#     bot.set_heading(offset)\n",
    "    \n",
    "    \n",
    "    # Turn lights off \n",
    "    \n",
    "#     bot.set_rgb(0, 0, 0)\n",
    "    \n",
    "    return offset"
   ]
  },
  {
   "cell_type": "code",
   "execution_count": 27,
   "metadata": {
    "collapsed": true
   },
   "outputs": [],
   "source": [
    "# Print what the camera is currently seeing as a debugging step\n",
    "# display_current_view(tracker)"
   ]
  },
  {
   "cell_type": "code",
   "execution_count": 28,
   "metadata": {},
   "outputs": [],
   "source": [
    "# Check which bot is which\n",
    "SpheroTeam.highlight_team(bots)\n",
    "\n"
   ]
  },
  {
   "cell_type": "code",
   "execution_count": 29,
   "metadata": {},
   "outputs": [
    {
     "name": "stdout",
     "output_type": "stream",
     "text": [
      "Sphero-ORG Battery OK | 8.05\n",
      "Sphero-RWR Battery OK | 8.13\n"
     ]
    }
   ],
   "source": [
    "# Check which bots are ready\n",
    "SpheroTeam.print_team_status(bots)\n"
   ]
  },
  {
   "cell_type": "code",
   "execution_count": 30,
   "metadata": {},
   "outputs": [],
   "source": [
    "tracklist = [traceable_blue]\n"
   ]
  },
  {
   "cell_type": "code",
   "execution_count": 31,
   "metadata": {
    "collapsed": true
   },
   "outputs": [],
   "source": [
    "for bot in bots:\n",
    "    bot.set_rgb(0, 0, 0)\n",
    "    \n",
    "    \n",
    "    "
   ]
  },
  {
   "cell_type": "code",
   "execution_count": 32,
   "metadata": {
    "collapsed": true
   },
   "outputs": [],
   "source": [
    "# Video display\n",
    "def display_tracking_window(traceable_object_list, exitKey = \"q\"):\n",
    "    \"\"\"\n",
    "        Given a list of iterables, track all objects in that list.\n",
    "        Press exitKey to quit the window\n",
    "    \"\"\"\n",
    "    \n",
    "    while(True):\n",
    "        #     tracklist = tracker.track_objects(tracklist)\n",
    "\n",
    "        tracker.track_objects(tracklist)\n",
    "        cv2.waitKey(1)\n",
    "\n",
    "        if cv2.waitKey(1) & 0xFF == ord(exitKey):\n",
    "            break \n",
    "    cv2.destroyAllWindows()\n"
   ]
  },
  {
   "cell_type": "code",
   "execution_count": 38,
   "metadata": {},
   "outputs": [
    {
     "name": "stdout",
     "output_type": "stream",
     "text": [
      "[444, 444, 445] | [319, 319, 319] \n",
      "Start (444,319)\n",
      "[385, 382, 379] | [289, 288, 288] \n",
      "End   (382,288)\n",
      "Angle 206.565051177\n",
      "Enter anything to test next botasdf\n",
      "[233, 233, 232] | [258, 258, 251] \n",
      "Start (232,255)\n",
      "[268, 267, 262] | [319, 328, 314] \n",
      "End   (265,320)\n",
      "Angle 63.083445383\n",
      "Enter anything to test next bota\n"
     ]
    }
   ],
   "source": [
    "offsets = []\n",
    "\n",
    "for bot in bots:\n",
    "    bot.set_rgb(0, 0, 255)\n",
    "    time.sleep(2)\n",
    "    offsets.append(calibrate_bot_direction(bot, tracklist, [0, 0, 255], tracker, True))\n",
    "    bot.set_rgb(0,0,0)\n",
    "    proceed = raw_input(\"Next Robot\")\n",
    "    \n",
    "    "
   ]
  },
  {
   "cell_type": "code",
   "execution_count": 42,
   "metadata": {},
   "outputs": [
    {
     "name": "stdout",
     "output_type": "stream",
     "text": [
      "Dispatch Time 0.179999828339\n",
      "Received unknown async msg! Header:  (255, 254, 5, 1)\n",
      "Received unknown async msg! Header:  (255, 254, 5, 1)\n"
     ]
    },
    {
     "name": "stderr",
     "output_type": "stream",
     "text": [
      "Exception in thread SpheroReceiverThread:\n",
      "Traceback (most recent call last):\n",
      "  File \"C:\\Users\\cyick\\Anaconda2\\lib\\threading.py\", line 801, in __bootstrap_inner\n",
      "    self.run()\n",
      "  File \"C:\\Users\\cyick\\Anaconda2\\lib\\threading.py\", line 754, in run\n",
      "    self.__target(*self.__args, **self.__kwargs)\n",
      "  File \"C:\\Users\\cyick\\AppData\\Roaming\\Python\\Python27\\site-packages\\sphero\\core.py\", line 415, in _receiver\n",
      "    header = self._receive_header()\n",
      "  File \"C:\\Users\\cyick\\AppData\\Roaming\\Python\\Python27\\site-packages\\sphero\\core.py\", line 299, in _receive_header\n",
      "    first_byte = struct.unpack('B', raw_data)[0]\n",
      "error: unpack requires a string argument of length 1\n",
      "\n",
      "Exception in thread SpheroReceiverThread:\n",
      "Traceback (most recent call last):\n",
      "  File \"C:\\Users\\cyick\\Anaconda2\\lib\\threading.py\", line 801, in __bootstrap_inner\n",
      "    self.run()\n",
      "  File \"C:\\Users\\cyick\\Anaconda2\\lib\\threading.py\", line 754, in run\n",
      "    self.__target(*self.__args, **self.__kwargs)\n",
      "  File \"C:\\Users\\cyick\\AppData\\Roaming\\Python\\Python27\\site-packages\\sphero\\core.py\", line 415, in _receiver\n",
      "    header = self._receive_header()\n",
      "  File \"C:\\Users\\cyick\\AppData\\Roaming\\Python\\Python27\\site-packages\\sphero\\core.py\", line 299, in _receive_header\n",
      "    first_byte = struct.unpack('B', raw_data)[0]\n",
      "error: unpack requires a string argument of length 1\n",
      "\n"
     ]
    }
   ],
   "source": [
    "SpheroTeam.roll_sphero_team_synchronized(bots, 60, 0, offsets, 1500)\n"
   ]
  },
  {
   "cell_type": "code",
   "execution_count": null,
   "metadata": {
    "collapsed": true
   },
   "outputs": [],
   "source": [
    "for bot in "
   ]
  },
  {
   "cell_type": "code",
   "execution_count": 41,
   "metadata": {},
   "outputs": [
    {
     "data": {
      "text/plain": [
       "<sphero.response.Response at 0x4ecb710>"
      ]
     },
     "execution_count": 41,
     "metadata": {},
     "output_type": "execute_result"
    }
   ],
   "source": [
    "bots[0].roll(50, 206)\n"
   ]
  },
  {
   "cell_type": "code",
   "execution_count": 40,
   "metadata": {},
   "outputs": [
    {
     "data": {
      "text/plain": [
       "<sphero.response.Response at 0x6cf2c88>"
      ]
     },
     "execution_count": 40,
     "metadata": {},
     "output_type": "execute_result"
    }
   ],
   "source": [
    "bot.roll(50, 63)\n",
    "\n",
    "\n",
    "\n",
    "\n",
    "\n",
    "\n",
    "\n"
   ]
  },
  {
   "cell_type": "code",
   "execution_count": 32,
   "metadata": {
    "collapsed": true
   },
   "outputs": [],
   "source": [
    "for i, bot in enumerate(bots):\n",
    "    \n",
    "    bot.roll(50, offsets[i])\n",
    "    "
   ]
  },
  {
   "cell_type": "code",
   "execution_count": 81,
   "metadata": {},
   "outputs": [
    {
     "data": {
      "text/plain": [
       "<sphero.response.Response at 0x6dc74e0>"
      ]
     },
     "execution_count": 81,
     "metadata": {},
     "output_type": "execute_result"
    }
   ],
   "source": [
    "bot.roll(50, 0)\n",
    "time.sleep(1.5)\n",
    "bot.roll(50, offset)\n",
    "# bot.set_heading(0)\n",
    "\n",
    "\n"
   ]
  },
  {
   "cell_type": "code",
   "execution_count": 73,
   "metadata": {},
   "outputs": [
    {
     "data": {
      "text/plain": [
       "<sphero.response.Response at 0x6984278>"
      ]
     },
     "execution_count": 73,
     "metadata": {},
     "output_type": "execute_result"
    }
   ],
   "source": [
    "\n",
    "\n",
    "\n"
   ]
  },
  {
   "cell_type": "code",
   "execution_count": 32,
   "metadata": {},
   "outputs": [
    {
     "name": "stdout",
     "output_type": "stream",
     "text": [
      "(x: 281, y:156, deg:29.0372889653)\n"
     ]
    }
   ],
   "source": [
    "print traceable_blue.pos\n",
    "\n",
    "\n"
   ]
  },
  {
   "cell_type": "code",
   "execution_count": 70,
   "metadata": {},
   "outputs": [
    {
     "data": {
      "text/plain": [
       "<sphero.response.Response at 0x6bedba8>"
      ]
     },
     "execution_count": 70,
     "metadata": {},
     "output_type": "execute_result"
    }
   ],
   "source": [
    "ts.device.roll(40, 180)\n",
    "\n",
    "\n"
   ]
  },
  {
   "cell_type": "code",
   "execution_count": 28,
   "metadata": {},
   "outputs": [
    {
     "name": "stdout",
     "output_type": "stream",
     "text": [
      "(x: 444, y:201, deg:24.3563912528)\n"
     ]
    }
   ],
   "source": [
    "print traceable_blue.pos\n",
    "\n",
    "\n",
    "\n",
    "\n"
   ]
  },
  {
   "cell_type": "code",
   "execution_count": null,
   "metadata": {
    "collapsed": true
   },
   "outputs": [],
   "source": [
    "for i in range(500):\n",
    "    print get_bot_position(bot, traceable_blue, tracker, samples=4, debug=False)\n",
    "    time.sleep(.5)\n",
    "    "
   ]
  },
  {
   "cell_type": "code",
   "execution_count": 118,
   "metadata": {},
   "outputs": [
    {
     "name": "stdout",
     "output_type": "stream",
     "text": [
      "[183, 279, 279, 279] | [247, 241, 241, 241] \n"
     ]
    },
    {
     "data": {
      "text/plain": [
       "(279, 241)"
      ]
     },
     "execution_count": 118,
     "metadata": {},
     "output_type": "execute_result"
    }
   ],
   "source": [
    "get_bot_position(bot, traceable_blue, tracker, samples=4, debug=False)\n",
    "\n",
    "\n",
    "\n",
    "\n",
    "\n",
    "\n"
   ]
  },
  {
   "cell_type": "code",
   "execution_count": 63,
   "metadata": {
    "collapsed": true
   },
   "outputs": [],
   "source": [
    "ts = TraceableSphero(bot)\n",
    "\n"
   ]
  },
  {
   "cell_type": "code",
   "execution_count": 53,
   "metadata": {},
   "outputs": [
    {
     "name": "stdout",
     "output_type": "stream",
     "text": [
      "(x: 340, y:254, deg:36.7618944194)\n"
     ]
    }
   ],
   "source": [
    "print traceable_blue.pos\n",
    "\n"
   ]
  },
  {
   "cell_type": "code",
   "execution_count": 19,
   "metadata": {},
   "outputs": [
    {
     "name": "stdout",
     "output_type": "stream",
     "text": [
      "143\n",
      "371\n"
     ]
    }
   ],
   "source": [
    "ts.tracking_samples = []\n",
    "\n",
    "image = tracker.get_video_frame()\n",
    "x, y = tracker._find_traceable_in_image(image, traceable_blue)\n",
    "ts.add_tracking(Vector2D(x, y), time.time())\n",
    "\n",
    "print x\n",
    "print y"
   ]
  },
  {
   "cell_type": "code",
   "execution_count": 20,
   "metadata": {},
   "outputs": [
    {
     "name": "stdout",
     "output_type": "stream",
     "text": [
      "None\n"
     ]
    }
   ],
   "source": [
    "print ts.pos\n",
    "\n"
   ]
  },
  {
   "cell_type": "code",
   "execution_count": 56,
   "metadata": {},
   "outputs": [
    {
     "name": "stdout",
     "output_type": "stream",
     "text": [
      "starts calibration\n",
      "True\n"
     ]
    }
   ],
   "source": [
    "ts.calibrate_direction()"
   ]
  },
  {
   "cell_type": "code",
   "execution_count": 25,
   "metadata": {},
   "outputs": [
    {
     "data": {
      "text/plain": [
       "<sphero.response.Response at 0x6eb8978>"
      ]
     },
     "execution_count": 25,
     "metadata": {},
     "output_type": "execute_result"
    }
   ],
   "source": [
    "\n",
    "\n",
    "\n"
   ]
  },
  {
   "cell_type": "code",
   "execution_count": 36,
   "metadata": {},
   "outputs": [
    {
     "name": "stdout",
     "output_type": "stream",
     "text": [
      "[454, 454, 454, 454] | [202, 202, 202, 202] \n"
     ]
    },
    {
     "data": {
      "text/plain": [
       "(454, 202)"
      ]
     },
     "execution_count": 36,
     "metadata": {},
     "output_type": "execute_result"
    }
   ],
   "source": [
    "get_bot_position(bots[0], traceable_blue, tracker, debug=False)"
   ]
  },
  {
   "cell_type": "code",
   "execution_count": null,
   "metadata": {
    "collapsed": true
   },
   "outputs": [],
   "source": []
  },
  {
   "cell_type": "code",
   "execution_count": 51,
   "metadata": {},
   "outputs": [
    {
     "name": "stdout",
     "output_type": "stream",
     "text": [
      "[341] | [254] \n",
      "[340] | [254] \n",
      "Start (341,254)\n",
      "End   (340,254)\n",
      "Angle 180.0\n"
     ]
    },
    {
     "data": {
      "text/plain": [
       "180.0"
      ]
     },
     "execution_count": 51,
     "metadata": {},
     "output_type": "execute_result"
    }
   ],
   "source": [
    "\n"
   ]
  },
  {
   "cell_type": "code",
   "execution_count": 20,
   "metadata": {
    "collapsed": true
   },
   "outputs": [],
   "source": []
  },
  {
   "cell_type": "code",
   "execution_count": null,
   "metadata": {
    "collapsed": true
   },
   "outputs": [],
   "source": [
    "\n"
   ]
  },
  {
   "cell_type": "code",
   "execution_count": 85,
   "metadata": {},
   "outputs": [
    {
     "data": {
      "text/plain": [
       "<sphero.response.Response at 0x6ed6a20>"
      ]
     },
     "execution_count": 85,
     "metadata": {},
     "output_type": "execute_result"
    }
   ],
   "source": [
    "bot.roll(50,270)\n"
   ]
  },
  {
   "cell_type": "code",
   "execution_count": 32,
   "metadata": {},
   "outputs": [
    {
     "data": {
      "text/plain": [
       "<sphero.response.Response at 0x6ed3630>"
      ]
     },
     "execution_count": 32,
     "metadata": {},
     "output_type": "execute_result"
    }
   ],
   "source": [
    "bot.roll(50, 135)\n",
    "\n",
    "\n",
    "time.sleep(1.5)\n",
    "bots[0].set_heading(0)\n",
    "\n",
    "\n",
    "\n"
   ]
  },
  {
   "cell_type": "code",
   "execution_count": 33,
   "metadata": {},
   "outputs": [
    {
     "data": {
      "text/plain": [
       "<sphero.response.Response at 0x6ed34a8>"
      ]
     },
     "execution_count": 33,
     "metadata": {},
     "output_type": "execute_result"
    }
   ],
   "source": [
    "bots[0].roll(40, 180)\n",
    "\n"
   ]
  },
  {
   "cell_type": "code",
   "execution_count": 70,
   "metadata": {},
   "outputs": [
    {
     "data": {
      "text/plain": [
       "<sphero.response.Response at 0x7474940>"
      ]
     },
     "execution_count": 70,
     "metadata": {},
     "output_type": "execute_result"
    }
   ],
   "source": [
    "\n",
    "\n",
    "\n",
    "bots[0].roll(50, 0)\n"
   ]
  },
  {
   "cell_type": "code",
   "execution_count": 109,
   "metadata": {
    "collapsed": true
   },
   "outputs": [],
   "source": [
    "tracker._draw_masks()\n",
    "cv2.waitKey(1)"
   ]
  },
  {
   "cell_type": "markdown",
   "metadata": {},
   "source": [
    "Debugging Section"
   ]
  },
  {
   "cell_type": "code",
   "execution_count": 43,
   "metadata": {
    "collapsed": true
   },
   "outputs": [],
   "source": [
    "#Stream video live to set \n",
    "\n",
    "cam = tracker.cam\n",
    "\n",
    "\n",
    "while(True):\n",
    "    # Capture frame-by-frame\n",
    "    ret, frame = cam.read()\n",
    "\n",
    "    # Display the resulting frame\n",
    "    cv2.imshow('frame', frame)\n",
    "    \n",
    "    #     cv2.imshow('frame',gray)\n",
    "    if cv2.waitKey(1) & 0xFF == ord('q'):\n",
    "        break\n",
    "        \n",
    "cv2.destroyAllWindows()"
   ]
  },
  {
   "cell_type": "code",
   "execution_count": null,
   "metadata": {
    "collapsed": true
   },
   "outputs": [],
   "source": [
    "q"
   ]
  }
 ],
 "metadata": {
  "anaconda-cloud": {},
  "kernelspec": {
   "display_name": "Python [default]",
   "language": "python",
   "name": "python2"
  },
  "language_info": {
   "codemirror_mode": {
    "name": "ipython",
    "version": 2
   },
   "file_extension": ".py",
   "mimetype": "text/x-python",
   "name": "python",
   "nbconvert_exporter": "python",
   "pygments_lexer": "ipython2",
   "version": "2.7.12"
  }
 },
 "nbformat": 4,
 "nbformat_minor": 2
}
