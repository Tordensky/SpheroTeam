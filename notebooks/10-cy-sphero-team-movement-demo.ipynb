{
 "cells": [
  {
   "cell_type": "markdown",
   "metadata": {},
   "source": [
    "In which I attempt to control multiple robots simultaneously!\n"
   ]
  },
  {
   "cell_type": "code",
   "execution_count": 8,
   "metadata": {
    "collapsed": true
   },
   "outputs": [],
   "source": [
    "# Foundational Sphero API, forked from Simon's Library\n",
    "import sphero"
   ]
  },
  {
   "cell_type": "code",
   "execution_count": 9,
   "metadata": {
    "collapsed": true
   },
   "outputs": [],
   "source": [
    "# Tracking code\n",
    "import cv2\n",
    "# SpheroNav base classes\n",
    "from tracker.trackingfilter import FilterSpheroBlueCover, FilterSpheroYellowCover, FilterGlow\n",
    "\n",
    "from tracker.traceable import TraceableObject\n",
    "from tracker.trackerbase import ColorTracker\n",
    "from util import Vector2D"
   ]
  },
  {
   "cell_type": "code",
   "execution_count": 10,
   "metadata": {
    "collapsed": true
   },
   "outputs": [],
   "source": [
    "# Support notebook usage of SpheroTeam\n",
    "import sys\n",
    "sys.path.append('../')"
   ]
  },
  {
   "cell_type": "code",
   "execution_count": 11,
   "metadata": {},
   "outputs": [],
   "source": [
    "import SpheroTeam\n",
    "# If project is rearchitected, rethink how to make functions accessible\n",
    "# Look into python module / api design\n",
    "from SpheroTeam.teamutil import readJsonFile, normalize_angle, angle_between_points\n",
    "from SpheroTeam.navigation import calibrate_bot_direction, get_bot_position, get_team_offsets\n",
    "\n",
    "from SpheroTeam.formations import roll_polygon, roll_push\n",
    "from SpheroTeam.director import bot_go_to_point, team_go_to_points, team_go_to_paths\n"
   ]
  },
  {
   "cell_type": "code",
   "execution_count": 12,
   "metadata": {
    "collapsed": true
   },
   "outputs": [],
   "source": [
    "# General Python Imports\n",
    "import time\n",
    "import os\n",
    "import logging"
   ]
  },
  {
   "cell_type": "markdown",
   "metadata": {},
   "source": [
    "#### SpheroTeam Setup\n",
    "\n",
    "\n",
    "For more details about what each line does, refer to the previous notebook (6)\n"
   ]
  },
  {
   "cell_type": "code",
   "execution_count": 14,
   "metadata": {},
   "outputs": [],
   "source": [
    "# This is a list of the colored \"initial names\" of the spheros you want to work with in this session\n",
    "ACTIVEBOTS = ['RPB', \n",
    "              'RWR', \n",
    "              'ORG',\n",
    "             'YYP', \n",
    "             'RYR',\n",
    "             'YPR',\n",
    "             'GRY']\n",
    "\n",
    "# ACTIVEBOTS = ['RPB', \n",
    "#              'RYR',\n",
    "#              'RWR',\n",
    "#              'ORG']\n",
    "\n",
    "# ACTIVEBOTS = ['YPR']\n",
    "              \n",
    "#              'RYR',\n",
    "#              'RWR',\n",
    "#              'ORG']"
   ]
  },
  {
   "cell_type": "code",
   "execution_count": 15,
   "metadata": {
    "collapsed": true
   },
   "outputs": [],
   "source": [
    "from SpheroTeam import initialize"
   ]
  },
  {
   "cell_type": "code",
   "execution_count": 16,
   "metadata": {},
   "outputs": [
    {
     "name": "stdout",
     "output_type": "stream",
     "text": [
      "Sphero-RPB Try #0\n",
      "Connected!\n",
      "Sphero-RWR Try #0\n",
      "Connected!\n",
      "Sphero-ORG Try #0\n",
      "Connected!\n",
      "Sphero-YYP Try #0\n",
      "IOError Occurred. Trying to connect again.\n",
      "Sphero-YYP Try #1\n",
      "IOError Occurred. Trying to connect again.\n",
      "Sphero-YYP Try #2\n",
      "Connected!\n",
      "Sphero-RYR Try #0\n",
      "Connected!\n",
      "Sphero-YPR Try #0\n",
      "Connected!\n",
      "Sphero-GRY Try #0\n",
      "Connected!\n"
     ]
    }
   ],
   "source": [
    "PROJ_ROOT = os.pardir\n",
    "CONFIG = os.path.join(PROJ_ROOT, \"config.json\")\n",
    "config = readJsonFile(CONFIG)\n",
    "TEAM_COLORS = config['teamColors']\n",
    "\n",
    "# Initialize to manage sphero objects\n",
    "manager = sphero.SpheroManager()\n",
    "\n",
    "# Initialize Sphero manager using options provided in the config file\n",
    "manager= initialize.load_sphero_roster(manager, CONFIG)\n",
    "\n",
    "# Connect to robots\n",
    "bots = initialize.connect_sphero_team(manager, ACTIVEBOTS)"
   ]
  },
  {
   "cell_type": "code",
   "execution_count": 17,
   "metadata": {},
   "outputs": [
    {
     "name": "stdout",
     "output_type": "stream",
     "text": [
      "NOTE! Removes wrong byte in start of header! Byte:  117\n",
      "NOTE! Removes wrong byte in start of header! Byte:  62\n",
      "Sphero-RPB:Battery OK | 8.27 V\n",
      "Sphero-RWR:Battery OK | 8.25 V\n",
      "NOTE! Removes wrong byte in start of header! Byte:  117\n",
      "NOTE! Removes wrong byte in start of header! Byte:  62\n",
      "Sphero-ORG:Battery OK | 8.22 V\n",
      "NOTE! Removes wrong byte in start of header! Byte:  117\n",
      "NOTE! Removes wrong byte in start of header! Byte:  62\n",
      "Sphero-YYP:Battery OK | 8.27 V\n",
      "Sphero-RYR:Battery OK | 8.23 V\n",
      "Sphero-YPR:Battery OK | 8.17 V\n",
      "Sphero-GRY:Battery OK | 7.79 V\n"
     ]
    }
   ],
   "source": [
    "# Check power, robots shut down after dropping below 7 volts\n",
    "SpheroTeam.print_team_status(bots)\n",
    "\n"
   ]
  },
  {
   "cell_type": "code",
   "execution_count": 18,
   "metadata": {},
   "outputs": [
    {
     "data": {
      "text/plain": [
       "[[255, 0, 0],\n",
       " [0, 255, 0],\n",
       " [0, 0, 255],\n",
       " [255, 0, 255],\n",
       " [255, 255, 0],\n",
       " [255, 133, 0],\n",
       " [255, 192, 203]]"
      ]
     },
     "execution_count": 18,
     "metadata": {},
     "output_type": "execute_result"
    }
   ],
   "source": [
    "TEAM_COLORS = config['teamColors']\n",
    "TEAM_COLORS\n"
   ]
  },
  {
   "cell_type": "code",
   "execution_count": 36,
   "metadata": {
    "collapsed": true
   },
   "outputs": [],
   "source": [
    "SpheroTeam.set_team_colors(bots, TEAM_COLORS)\n"
   ]
  },
  {
   "cell_type": "markdown",
   "metadata": {},
   "source": [
    "#### Camera Tracker Setup\n",
    "\n"
   ]
  },
  {
   "cell_type": "code",
   "execution_count": 20,
   "metadata": {
    "collapsed": true
   },
   "outputs": [],
   "source": [
    "tracker = ColorTracker(config['cameraID'])"
   ]
  },
  {
   "cell_type": "code",
   "execution_count": 21,
   "metadata": {},
   "outputs": [
    {
     "name": "stdout",
     "output_type": "stream",
     "text": [
      "Image: 640 x 480 pixels\n"
     ]
    }
   ],
   "source": [
    "imageX, imageY = tracker.image_size\n",
    "\n",
    "print \"Image: {} x {} pixels\".format(imageX, imageY)"
   ]
  },
  {
   "cell_type": "code",
   "execution_count": 22,
   "metadata": {
    "collapsed": true
   },
   "outputs": [],
   "source": [
    "# For now, blue is the only color we can reliably track\n",
    "traceable_color = [0, 0, 255]  # RGB Blue\n",
    "traceable_blue = TraceableObject(\"BLUE\")\n",
    "traceable_blue.filter = FilterSpheroBlueCover()"
   ]
  },
  {
   "cell_type": "code",
   "execution_count": 102,
   "metadata": {
    "collapsed": true
   },
   "outputs": [],
   "source": [
    "# make sure everyone's light is off before calibrating.\n",
    "\n",
    "for bot in bots:\n",
    "    bot.set_rgb(0,0,0)\n",
    "    \n",
    "    \n",
    "    "
   ]
  },
  {
   "cell_type": "code",
   "execution_count": null,
   "metadata": {
    "collapsed": true
   },
   "outputs": [],
   "source": []
  },
  {
   "cell_type": "code",
   "execution_count": 103,
   "metadata": {},
   "outputs": [
    {
     "name": "stdout",
     "output_type": "stream",
     "text": [
      "Start (328,204)\n",
      "End   (350,256)\n",
      "Angle 67.0678995624\n",
      "'q' to quit, else calibrate next robot a\n",
      "Start (446,170)\n",
      "End   (520,109)\n",
      "Angle 320.50041147\n",
      "'q' to quit, else calibrate next robot a\n",
      "Start (405,169)\n",
      "End   (375,252)\n",
      "Angle 109.872175819\n",
      "'q' to quit, else calibrate next robot a\n",
      "Start (286,253)\n",
      "End   (214,197)\n",
      "Angle 217.874983651\n",
      "'q' to quit, else calibrate next robot a\n",
      "Start (309,160)\n",
      "End   (338,132)\n",
      "Angle 316.005086005\n",
      "'q' to quit, else calibrate next robot a\n",
      "Start (300,89)\n",
      "End   (309,35)\n",
      "Angle 279.462322208\n",
      "'q' to quit, else calibrate next robot a\n",
      "Start (235,213)\n",
      "End   (213,269)\n",
      "Angle 111.447736327\n",
      "'q' to quit, else calibrate next robot a\n"
     ]
    }
   ],
   "source": [
    "# Blue seems to be the most reliable color to track with.\n",
    "# Be suspicious if any of the offsets are 0!!!\n",
    "# on reflection, may want method to be able to redo \n",
    "\n",
    "\n",
    "# the offsets of just a few select robots\n",
    "\n",
    "offsets = get_team_offsets(bots, traceable_blue, traceable_color, tracker)"
   ]
  },
  {
   "cell_type": "code",
   "execution_count": 121,
   "metadata": {},
   "outputs": [],
   "source": [
    "# to redo individual offsets, do this in-place modification of the offset\n",
    "def team_redo_offset(offsets, bots, index, \n",
    "                traceable_object, traceable_color, tracker):\n",
    "    \"\"\"\n",
    "        If some of the offsets are bad, redo the offset for bot at index\n",
    "        i without losing the others\n",
    "    \"\"\"\n",
    "    offsets[index] = calibrate_bot_direction(bots[index], traceable_object, \n",
    "                                             traceable_color, tracker)\n",
    "    \n",
    "    return offsets"
   ]
  },
  {
   "cell_type": "code",
   "execution_count": 122,
   "metadata": {},
   "outputs": [],
   "source": [
    "offsets = team_redo_offset(offsets, bots, 1, traceable_blue, traceable_color, tracker)"
   ]
  },
  {
   "cell_type": "code",
   "execution_count": 7,
   "metadata": {
    "collapsed": true
   },
   "outputs": [],
   "source": [
    "?roll_polygon"
   ]
  },
  {
   "cell_type": "code",
   "execution_count": 99,
   "metadata": {},
   "outputs": [
    {
     "name": "stdout",
     "output_type": "stream",
     "text": [
      "Dispatch Time 0.5\n",
      "Dispatch Time 0.40299987793\n"
     ]
    }
   ],
   "source": [
    "# Roll in a square to show it's working\n",
    "# can roll in single direction using roll-push.\n",
    "# roll_polygon(bots, 3, offsets, 0, speed=70, TIMEOUT=1000)\n"
   ]
  },
  {
   "cell_type": "code",
   "execution_count": 127,
   "metadata": {},
   "outputs": [
    {
     "name": "stderr",
     "output_type": "stream",
     "text": [
      "Exception in thread SpheroReceiverThread:\n",
      "Traceback (most recent call last):\n",
      "  File \"C:\\Users\\cyick\\Anaconda2\\lib\\threading.py\", line 801, in __bootstrap_inner\n",
      "    self.run()\n",
      "  File \"C:\\Users\\cyick\\Anaconda2\\lib\\threading.py\", line 754, in run\n",
      "    self.__target(*self.__args, **self.__kwargs)\n",
      "  File \"C:\\Users\\cyick\\AppData\\Roaming\\Python\\Python27\\site-packages\\sphero\\core.py\", line 422, in _receiver\n",
      "    header = self._receive_header()\n",
      "  File \"C:\\Users\\cyick\\AppData\\Roaming\\Python\\Python27\\site-packages\\sphero\\core.py\", line 306, in _receive_header\n",
      "    first_byte = struct.unpack('B', raw_data)[0]\n",
      "error: unpack requires a string argument of length 1\n",
      "\n",
      "Exception in thread SpheroReceiverThread:\n",
      "Traceback (most recent call last):\n",
      "  File \"C:\\Users\\cyick\\Anaconda2\\lib\\threading.py\", line 801, in __bootstrap_inner\n",
      "    self.run()\n",
      "  File \"C:\\Users\\cyick\\Anaconda2\\lib\\threading.py\", line 754, in run\n",
      "    self.__target(*self.__args, **self.__kwargs)\n",
      "  File \"C:\\Users\\cyick\\AppData\\Roaming\\Python\\Python27\\site-packages\\sphero\\core.py\", line 422, in _receiver\n",
      "    header = self._receive_header()\n",
      "  File \"C:\\Users\\cyick\\AppData\\Roaming\\Python\\Python27\\site-packages\\sphero\\core.py\", line 306, in _receive_header\n",
      "    first_byte = struct.unpack('B', raw_data)[0]\n",
      "error: unpack requires a string argument of length 1\n",
      "\n",
      "Exception in thread SpheroReceiverThread:\n",
      "Traceback (most recent call last):\n",
      "  File \"C:\\Users\\cyick\\Anaconda2\\lib\\threading.py\", line 801, in __bootstrap_inner\n",
      "    self.run()\n",
      "  File \"C:\\Users\\cyick\\Anaconda2\\lib\\threading.py\", line 754, in run\n",
      "    self.__target(*self.__args, **self.__kwargs)\n",
      "  File \"C:\\Users\\cyick\\AppData\\Roaming\\Python\\Python27\\site-packages\\sphero\\core.py\", line 422, in _receiver\n",
      "    header = self._receive_header()\n",
      "  File \"C:\\Users\\cyick\\AppData\\Roaming\\Python\\Python27\\site-packages\\sphero\\core.py\", line 306, in _receive_header\n",
      "    first_byte = struct.unpack('B', raw_data)[0]\n",
      "error: unpack requires a string argument of length 1\n",
      "\n"
     ]
    }
   ],
   "source": [
    "for i, bot in enumerate(bots):\n",
    "#     offsets = team_redo_offset(offsets, bots, i, traceable_blue, traceable_color, tracker)\n",
    "    \n",
    "    SpheroTeam.roll_sphero(bot, 60, 0, offsets[i])\n",
    "    \n",
    "\n",
    "    \n",
    "    \n",
    "    time.sleep(1.5)\n",
    "    "
   ]
  },
  {
   "cell_type": "code",
   "execution_count": 98,
   "metadata": {},
   "outputs": [
    {
     "name": "stdout",
     "output_type": "stream",
     "text": [
      "Dispatch Time 0.482000112534\n"
     ]
    }
   ],
   "source": [
    "roll_polygon(bots, 1, offsets, 180, speed=60, TIMEOUT=1500)\n",
    "\n"
   ]
  },
  {
   "cell_type": "markdown",
   "metadata": {},
   "source": [
    "### Finally: Group sending of robots to points\n",
    "\n",
    "\n"
   ]
  },
  {
   "cell_type": "markdown",
   "metadata": {},
   "source": [
    "One problem: when robot rolls off the viewing field. Maybe when a robot cannot be seen, it should roll in the opposite of the last angle it rolled in.\n"
   ]
  },
  {
   "cell_type": "code",
   "execution_count": 15,
   "metadata": {
    "collapsed": true
   },
   "outputs": [],
   "source": [
    "?get_bot_position()"
   ]
  },
  {
   "cell_type": "code",
   "execution_count": null,
   "metadata": {
    "collapsed": true
   },
   "outputs": [],
   "source": [
    "print imageX\n",
    "print imageY"
   ]
  },
  {
   "cell_type": "code",
   "execution_count": null,
   "metadata": {
    "collapsed": true
   },
   "outputs": [],
   "source": []
  },
  {
   "cell_type": "code",
   "execution_count": 51,
   "metadata": {
    "collapsed": true
   },
   "outputs": [],
   "source": [
    "# Every robot, after some pushing activity, will use this path to skirt the perimeter\n",
    "recoveryPaths = [\n",
    "    [\n",
    "        [320, 400],  # \n",
    "        [100, 245]\n",
    "    ],\n",
    "    \n",
    "    [\n",
    "        [320, 100],\n",
    "        [100, 235]\n",
    "    ],\n",
    "    \n",
    "    [\n",
    "        [320, 400],  # \n",
    "        [100, 250]\n",
    "    ],\n",
    "    \n",
    "    [\n",
    "        [320, 100],\n",
    "        [100, 230]\n",
    "    ],\n",
    "    \n",
    "    [\n",
    "        [320, 400],  # \n",
    "        [100, 255]\n",
    "    ],\n",
    "    [\n",
    "        \n",
    "        [320, 100],\n",
    "        [100, 225]\n",
    "    ],\n",
    "    [\n",
    "        [320, 100],\n",
    "        [100, 225]\n",
    "    ]\n",
    "]"
   ]
  },
  {
   "cell_type": "code",
   "execution_count": 7,
   "metadata": {},
   "outputs": [],
   "source": [
    "# Debugging individual robot navigation\n",
    "# team_go_to_points([bots[2]], [[50, 50]], [offsets[2]], traceable_blue, traceable_color, stopRadius=15, )"
   ]
  },
  {
   "cell_type": "code",
   "execution_count": 29,
   "metadata": {},
   "outputs": [
    {
     "ename": "ImportError",
     "evalue": "cannot import name get_rectangle_targets",
     "output_type": "error",
     "traceback": [
      "\u001b[0;31m---------------------------------------------------------------------------\u001b[0m",
      "\u001b[0;31mImportError\u001b[0m                               Traceback (most recent call last)",
      "\u001b[0;32m<ipython-input-29-312e420fcd85>\u001b[0m in \u001b[0;36m<module>\u001b[0;34m()\u001b[0m\n\u001b[0;32m----> 1\u001b[0;31m \u001b[1;32mfrom\u001b[0m \u001b[0mSpheroTeam\u001b[0m\u001b[1;33m.\u001b[0m\u001b[0mnavigation\u001b[0m \u001b[1;32mimport\u001b[0m \u001b[0mget_rectangle_targets\u001b[0m\u001b[1;33m\u001b[0m\u001b[0m\n\u001b[0m",
      "\u001b[0;31mImportError\u001b[0m: cannot import name get_rectangle_targets"
     ]
    }
   ],
   "source": [
    "from SpheroTeam.navigation import get_rectangle_targets"
   ]
  },
  {
   "cell_type": "code",
   "execution_count": 32,
   "metadata": {
    "scrolled": true
   },
   "outputs": [
    {
     "name": "stdout",
     "output_type": "stream",
     "text": [
      "Bot Sphero-RPB\n",
      "Go 397,339 to 300,150| Distance 212.438226315 / -117.168142371\n",
      "Stopped at 307,162, with dist 13.8924439894\n",
      "Bot Sphero-RWR\n",
      "Go 407,166 to 300,155| Distance 107.563934476 / -174.130399557\n",
      "Stopped at 315,138, with dist 22.6715680975\n",
      "Bot Sphero-ORG\n",
      "Go 359,270 to 300,160| Distance 124.823875921 / -118.207490879\n",
      "Stopped at 292,132, with dist 29.1204395571\n",
      "Bot Sphero-YYP\n",
      "Go 419,300 to 300,165| Distance 179.961106909 / -131.395579461\n",
      "Stopped at 321,156, with dist 22.8473193176\n",
      "Bot Sphero-RYR\n",
      "Go 342,221 to 300,170| Distance 66.0681466366 / -129.472459848\n",
      "Stopped at 294,180, with dist 11.6619037897\n",
      "Bot Sphero-YPR\n",
      "Go 359,223 to 300,175| Distance 76.0591874792 / -140.869600443\n",
      "Stopped at 283,173, with dist 17.1172427686\n",
      "Bot Sphero-GRY\n",
      "Go 370,212 to 300,180| Distance 76.9675256196 / -155.432828679\n",
      "Stopped at 282,190, with dist 20.591260282\n"
     ]
    }
   ],
   "source": [
    "# Send robots to a cluster around 300, 150\n",
    "targets = [ [300, 150 + i*5] for i in range(len(bots))] # space out the robots along x = 100\n",
    "\n",
    "# targets = get_rectangle\n",
    "\n",
    "team_go_to_points(bots, targets, offsets, traceable_blue, traceable_color, imageX, imageY, tracker, stopRadius=15, )\n",
    "\n"
   ]
  },
  {
   "cell_type": "markdown",
   "metadata": {},
   "source": [
    "### Now, move them together\n",
    "\n",
    "\n"
   ]
  },
  {
   "cell_type": "code",
   "execution_count": 28,
   "metadata": {
    "collapsed": true
   },
   "outputs": [],
   "source": [
    "SpheroTeam.set_team_colors(bots, TEAM_COLORS)    "
   ]
  },
  {
   "cell_type": "code",
   "execution_count": 29,
   "metadata": {},
   "outputs": [
    {
     "name": "stdout",
     "output_type": "stream",
     "text": [
      "Dispatch Time 0.162999868393\n",
      "Dispatch Time 0.181999921799\n",
      "Dispatch Time 0.164999961853\n",
      "Dispatch Time 0.197000026703\n",
      "Dispatch Time 0.164000034332\n"
     ]
    }
   ],
   "source": [
    "# Test a pentagon\n",
    "roll_polygon(bots, 5, offsets, 180, speed=60, TIMEOUT=1200)"
   ]
  },
  {
   "cell_type": "code",
   "execution_count": 61,
   "metadata": {
    "collapsed": true,
    "run_control": {
     "marked": true
    }
   },
   "outputs": [],
   "source": [
    "# Bring a lost sphero back if it rolled away (consider making an arena wall in future)\n",
    "# SpheroTeam.roll_sphero(bots[0], 40, 180, offsets[0])"
   ]
  },
  {
   "cell_type": "code",
   "execution_count": null,
   "metadata": {
    "collapsed": true
   },
   "outputs": [],
   "source": [
    "# Roll all team along angle 0 at a speed of 70 for 3 seconds\n",
    "roll_push(bots, 0, 70, offsets, TIMEOUT=3000)"
   ]
  },
  {
   "cell_type": "code",
   "execution_count": 30,
   "metadata": {},
   "outputs": [
    {
     "name": "stdout",
     "output_type": "stream",
     "text": [
      "Bot Sphero-RPB\n",
      "Get from 248,130 to 320,400| Distance 279.435144533 / 75.0685828219\n",
      "Stopped at 358,408, with dist 38.8329756779\n",
      "Get from 355,387 to 100,245| Distance 291.871547089 / -150.888195474\n",
      "Stopped at 135,253, with dist 35.902646142\n",
      "Bot Sphero-RWR\n",
      "Get from 134,236 to 320,100| Distance 230.417013261 / -36.1736290458\n",
      "Stopped at 319,82, with dist 18.0277563773\n",
      "Get from 317,87 to 100,235| Distance 262.665186121 / 145.70493089\n",
      "Stopped at 103,219, with dist 16.2788205961\n",
      "Bot Sphero-ORG\n",
      "Get from 90,237 to 320,400| Distance 281.902465402 / 35.3250346381\n",
      "Stopped at 302,417, with dist 24.7588368063\n",
      "Get from 326,432 to 100,250| Distance 290.172362571 / -141.155168343\n",
      "Stopped at 92,232, with dist 19.6977156036\n"
     ]
    },
    {
     "name": "stderr",
     "output_type": "stream",
     "text": [
      "Exception in thread SpheroReceiverThread:\n",
      "Traceback (most recent call last):\n",
      "  File \"C:\\Users\\cyick\\Anaconda2\\lib\\threading.py\", line 801, in __bootstrap_inner\n",
      "    self.run()\n",
      "  File \"C:\\Users\\cyick\\Anaconda2\\lib\\threading.py\", line 754, in run\n",
      "    self.__target(*self.__args, **self.__kwargs)\n",
      "  File \"C:\\Users\\cyick\\AppData\\Roaming\\Python\\Python27\\site-packages\\sphero\\core.py\", line 422, in _receiver\n",
      "    header = self._receive_header()\n",
      "  File \"C:\\Users\\cyick\\AppData\\Roaming\\Python\\Python27\\site-packages\\sphero\\core.py\", line 306, in _receive_header\n",
      "    first_byte = struct.unpack('B', raw_data)[0]\n",
      "error: unpack requires a string argument of length 1\n",
      "\n",
      "Exception in thread SpheroReceiverThread:\n",
      "Traceback (most recent call last):\n",
      "  File \"C:\\Users\\cyick\\Anaconda2\\lib\\threading.py\", line 801, in __bootstrap_inner\n",
      "    self.run()\n",
      "  File \"C:\\Users\\cyick\\Anaconda2\\lib\\threading.py\", line 754, in run\n",
      "    self.__target(*self.__args, **self.__kwargs)\n",
      "  File \"C:\\Users\\cyick\\AppData\\Roaming\\Python\\Python27\\site-packages\\sphero\\core.py\", line 422, in _receiver\n",
      "    header = self._receive_header()\n",
      "  File \"C:\\Users\\cyick\\AppData\\Roaming\\Python\\Python27\\site-packages\\sphero\\core.py\", line 306, in _receive_header\n",
      "    first_byte = struct.unpack('B', raw_data)[0]\n",
      "error: unpack requires a string argument of length 1\n",
      "\n",
      "Exception in thread SpheroReceiverThread:\n",
      "Traceback (most recent call last):\n",
      "  File \"C:\\Users\\cyick\\Anaconda2\\lib\\threading.py\", line 801, in __bootstrap_inner\n",
      "    self.run()\n",
      "  File \"C:\\Users\\cyick\\Anaconda2\\lib\\threading.py\", line 754, in run\n",
      "    self.__target(*self.__args, **self.__kwargs)\n",
      "  File \"C:\\Users\\cyick\\AppData\\Roaming\\Python\\Python27\\site-packages\\sphero\\core.py\", line 422, in _receiver\n",
      "    header = self._receive_header()\n",
      "  File \"C:\\Users\\cyick\\AppData\\Roaming\\Python\\Python27\\site-packages\\sphero\\core.py\", line 306, in _receive_header\n",
      "    first_byte = struct.unpack('B', raw_data)[0]\n",
      "error: unpack requires a string argument of length 1\n",
      "\n"
     ]
    }
   ],
   "source": [
    "# Show how robots would recover from \"overshooting\" the target by going to the outside of the arena\n",
    "#, and then returning to a home area.\n",
    "team_go_to_paths(bots, recoveryPaths, offsets, traceable_blue, traceable_color)"
   ]
  },
  {
   "cell_type": "markdown",
   "metadata": {},
   "source": [
    "Challenges: \n",
    "\n",
    "- Path planning is not the same thing as simply choosing to arrive at a point.\n",
    "    - Need to come up with algorithm to avoid obstacles, knowing that you may miss goal points by 10-20 centimeters.\n",
    "    \n",
    "- Tuning the right KP parameter is tricky\n",
    "- Coming up with recovery paths is tricky\n",
    "\n",
    "- How to stop robots from bumping into each other\n",
    "\n",
    "\n",
    "- When robot runs out of bounds, we can't see it... need to create a \"fence\" around the arena and that would fix it.\n",
    "\n",
    "- Tracker can only reliably \"see\" 1 color at once, so workaround is only using that 1 color for tracking.\n",
    "\n",
    "Alternate ideas that weren't implemented due to lack of time\n",
    "\n",
    "- When swarm needs to converge on 1 point: have everyone drive at fixed speed\n",
    "\n",
    "- drive for however long that distance takes in pixels\n",
    "\n",
    "- Let everyone drive simultaneously by giving each robot a blind directive, and not using any feedback to tune its behavior (aka a \"formation\")\n",
    "\n",
    "\n",
    "- Write a function that given a singular (x,y) point, generates a list of pixels that each robot would aim for, along with an \"shape\" and relevant parameters for how the robots should be arranged (aka box, line, circle, hexagon, etc)\n",
    "\n",
    "- Write a function that given a singular target (x,y) point and a robot, define a list of points that the robot should visit before reaching the target points\n",
    "\n"
   ]
  }
 ],
 "metadata": {
  "anaconda-cloud": {},
  "kernelspec": {
   "display_name": "Python [default]",
   "language": "python",
   "name": "python2"
  },
  "language_info": {
   "codemirror_mode": {
    "name": "ipython",
    "version": 2
   },
   "file_extension": ".py",
   "mimetype": "text/x-python",
   "name": "python",
   "nbconvert_exporter": "python",
   "pygments_lexer": "ipython2",
   "version": "2.7.12"
  }
 },
 "nbformat": 4,
 "nbformat_minor": 2
}
