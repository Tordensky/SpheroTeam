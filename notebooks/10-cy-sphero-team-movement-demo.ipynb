{
 "cells": [
  {
   "cell_type": "markdown",
   "metadata": {},
   "source": [
    "In which I attempt to control multiple robots simultaneously!\n"
   ]
  },
  {
   "cell_type": "code",
   "execution_count": null,
   "metadata": {
    "collapsed": true
   },
   "outputs": [],
   "source": [
    "# Foundational Sphero API, forked from Simon's Library\n",
    "import sphero"
   ]
  },
  {
   "cell_type": "code",
   "execution_count": null,
   "metadata": {
    "collapsed": true
   },
   "outputs": [],
   "source": [
    "# Tracking code\n",
    "import cv2\n",
    "# SpheroNav base classes\n",
    "from tracker.trackingfilter import FilterSpheroBlueCover, FilterSpheroYellowCover, FilterGlow\n",
    "\n",
    "from tracker.traceable import TraceableObject\n",
    "from tracker.trackerbase import ColorTracker\n",
    "from util import Vector2D"
   ]
  },
  {
   "cell_type": "code",
   "execution_count": null,
   "metadata": {
    "collapsed": true
   },
   "outputs": [],
   "source": [
    "# Support notebook usage of SpheroTeam\n",
    "import sys\n",
    "sys.path.append('../')"
   ]
  },
  {
   "cell_type": "code",
   "execution_count": null,
   "metadata": {
    "collapsed": true
   },
   "outputs": [],
   "source": [
    "import SpheroTeam\n",
    "# If project is rearchitected, rethink how to make functions accessible\n",
    "# Look into python module / api design\n",
    "from SpheroTeam.teamutil import readJsonFile, normalize_angle, angle_between_points\n",
    "from SpheroTeam.navigation import calibrate_bot_direction, get_bot_position, get_team_offsets\n",
    "\n",
    "from SpheroTeam.formations import roll_polygon, roll_push\n",
    "from SpheroTeam.director import bot_go_to_point, team_go_to_points, team_go_to_paths\n"
   ]
  },
  {
   "cell_type": "code",
   "execution_count": null,
   "metadata": {
    "collapsed": true
   },
   "outputs": [],
   "source": [
    "# General Python Imports\n",
    "import time\n",
    "import os\n",
    "import logging"
   ]
  },
  {
   "cell_type": "markdown",
   "metadata": {},
   "source": [
    "#### SpheroTeam Setup\n",
    "\n",
    "\n",
    "For more details about what each line does, refer to the previous notebook (6)\n"
   ]
  },
  {
   "cell_type": "code",
   "execution_count": null,
   "metadata": {
    "collapsed": true
   },
   "outputs": [],
   "source": [
    "# This is a list of the colored \"initial names\" of the spheros you want to work with in this session\n",
    "ACTIVEBOTS = ['RPB', \n",
    "              'RWR', \n",
    "              'ORG',\n",
    "             'YYP', \n",
    "             'RYR',\n",
    "             'YPR',\n",
    "             'GRY']"
   ]
  },
  {
   "cell_type": "code",
   "execution_count": null,
   "metadata": {
    "collapsed": true
   },
   "outputs": [],
   "source": [
    "from SpheroTeam import initialize"
   ]
  },
  {
   "cell_type": "code",
   "execution_count": null,
   "metadata": {
    "collapsed": true
   },
   "outputs": [],
   "source": [
    "PROJ_ROOT = os.pardir\n",
    "CONFIG = os.path.join(PROJ_ROOT, \"config.json\")\n",
    "config = readJsonFile(CONFIG)\n",
    "TEAM_COLORS = config['teamColors']\n",
    "\n",
    "# Initialize to manage sphero objects\n",
    "manager = sphero.SpheroManager()\n",
    "\n",
    "# Initialize Sphero manager using options provided in the config file\n",
    "manager= initialize.load_sphero_roster(manager, CONFIG)\n",
    "\n",
    "\n",
    "# Connect to robots\n",
    "# if you omit ACTIVEBOTS, by default it tries to import all 7\n",
    "# bots = initialize.connect_sphero_team(manager, ACTIVEBOTS)\n",
    "bots = initialize.connect_sphero_team(manager)"
   ]
  },
  {
   "cell_type": "code",
   "execution_count": null,
   "metadata": {
    "collapsed": true
   },
   "outputs": [],
   "source": [
    "# Check power, robots shut down after dropping below 7 volts\n",
    "\n",
    "SpheroTeam.print_team_status(bots)"
   ]
  },
  {
   "cell_type": "code",
   "execution_count": null,
   "metadata": {
    "collapsed": true
   },
   "outputs": [],
   "source": [
    "# Check robot colors from config file\n",
    "# RGB, followed by \n",
    "TEAM_COLORS = config['teamColors']\n",
    "TEAM_COLORS"
   ]
  },
  {
   "cell_type": "code",
   "execution_count": null,
   "metadata": {
    "collapsed": true
   },
   "outputs": [],
   "source": [
    "# Use Team Colors to illuminate all the robots\n",
    "SpheroTeam.set_team_colors(bots, TEAM_COLORS)"
   ]
  },
  {
   "cell_type": "markdown",
   "metadata": {},
   "source": [
    "#### Camera Tracker Setup\n",
    "\n"
   ]
  },
  {
   "cell_type": "code",
   "execution_count": null,
   "metadata": {
    "collapsed": true
   },
   "outputs": [],
   "source": [
    "# This will be a number starting at 0, going up to as many cameras\n",
    "# as your laptop has + how many are plugged in.\n",
    "# You may have to use your camera's firmware to configure the camera \n",
    "# before tracking will work properly: with the Logitech C920, it is called\n",
    "# the Logitech Gaming Software.\n",
    "tracker = ColorTracker(config['cameraID'])"
   ]
  },
  {
   "cell_type": "code",
   "execution_count": null,
   "metadata": {
    "collapsed": true
   },
   "outputs": [],
   "source": [
    "imageX, imageY = tracker.image_size\n",
    "print \"Image: {} x {} pixels\".format(imageX, imageY)"
   ]
  },
  {
   "cell_type": "code",
   "execution_count": null,
   "metadata": {
    "collapsed": true
   },
   "outputs": [],
   "source": [
    "# For now, blue is the only color we can reliably track\n",
    "# However, with more research on color filtering, you may be able to get\n",
    "# other colors to work too.\n",
    "traceable_color = [0, 0, 255]  # RGB Blue\n",
    "\n",
    "traceable_blue = TraceableObject(\"BLUE\")\n",
    "traceable_blue.filter = FilterSpheroBlueCover()"
   ]
  },
  {
   "cell_type": "code",
   "execution_count": null,
   "metadata": {
    "collapsed": true
   },
   "outputs": [],
   "source": [
    "# make sure everyone's light is off before calibrating.\n",
    "for bot in bots:\n",
    "    bot.set_rgb(0,0,0)"
   ]
  },
  {
   "cell_type": "code",
   "execution_count": null,
   "metadata": {
    "collapsed": true
   },
   "outputs": [],
   "source": [
    "# Blue seems to be the most reliable color to track with.\n",
    "# Be suspicious if any of the offsets are 0!!!\n",
    "# the offsets of just a few select robots\n",
    "\n",
    "offsets = get_team_offsets(bots, traceable_blue, traceable_color, tracker)"
   ]
  },
  {
   "cell_type": "code",
   "execution_count": null,
   "metadata": {
    "collapsed": true
   },
   "outputs": [],
   "source": [
    "# to redo individual offsets, do this in-place modification of the offset\n",
    "def team_redo_offset(offsets, bots, index, \n",
    "                traceable_object, traceable_color, tracker):\n",
    "    \"\"\"\n",
    "        If some of the offsets are bad, redo the offset \n",
    "        for bot at index\n",
    "        i without losing the others\n",
    "    \"\"\"\n",
    "    offsets[index] = calibrate_bot_direction(bots[index], traceable_object, \n",
    "                                             traceable_color, tracker)\n",
    "    \n",
    "    return offsets"
   ]
  },
  {
   "cell_type": "code",
   "execution_count": null,
   "metadata": {
    "collapsed": true
   },
   "outputs": [],
   "source": [
    "?roll_polygon"
   ]
  },
  {
   "cell_type": "code",
   "execution_count": null,
   "metadata": {
    "collapsed": true
   },
   "outputs": [],
   "source": [
    "# Roll in a square to show it's working\n",
    "# can roll in single direction using roll-push.\n",
    "# roll_polygon(bots, 3, offsets, 0, speed=50, TIMEOUT=1000)"
   ]
  },
  {
   "cell_type": "code",
   "execution_count": null,
   "metadata": {
    "collapsed": true
   },
   "outputs": [],
   "source": [
    "# Confirm manually that each robot is rolling in the same direction here\n",
    "# before proceeding. If not, recalibrate the robots that are \n",
    "# going in the wrong direction!\n",
    "for i, bot in enumerate(bots):\n",
    "    SpheroTeam.roll_sphero(bot, 60, 0, offsets[i])\n",
    "    time.sleep(1.5)"
   ]
  },
  {
   "cell_type": "code",
   "execution_count": null,
   "metadata": {
    "collapsed": true
   },
   "outputs": [],
   "source": [
    "# Example of how to redo robot in index 3\n",
    "iRedo = 3\n",
    "offsets = team_redo_offset(offsets, bots, iRedo, traceable_blue, traceable_color, tracker)"
   ]
  },
  {
   "cell_type": "code",
   "execution_count": null,
   "metadata": {
    "collapsed": true
   },
   "outputs": [],
   "source": [
    "# Debug individual robots\n",
    "iShift = 3\n",
    "SpheroTeam.roll_sphero(bots[iShift], 60, 0, offsets[iShift])"
   ]
  },
  {
   "cell_type": "code",
   "execution_count": null,
   "metadata": {
    "collapsed": true
   },
   "outputs": [],
   "source": [
    "# Square formation for video\n",
    "roll_polygon(bots, 4, offsets, 0, speed=120, TIMEOUT=1000)"
   ]
  },
  {
   "cell_type": "code",
   "execution_count": null,
   "metadata": {
    "collapsed": true
   },
   "outputs": [],
   "source": [
    "# Up down left right formation for video\n",
    "roll_polygon(bots, 1, offsets, 180, speed=60, TIMEOUT=2000)\n",
    "time.sleep(1.5)\n",
    "\n",
    "roll_polygon(bots, 1, offsets, 0, speed=60, TIMEOUT=1500)\n",
    "time.sleep(1.5)\n",
    "\n",
    "roll_polygon(bots, 1, offsets, 90, speed=60, TIMEOUT=1500)\n",
    "time.sleep(1.5)\n",
    "\n",
    "roll_polygon(bots, 1, offsets, 270, speed=60, TIMEOUT=1500)\n",
    "time.sleep(1.5)"
   ]
  },
  {
   "cell_type": "markdown",
   "metadata": {},
   "source": [
    "### Finally: Group sending of robots to points\n",
    "\n",
    "\n"
   ]
  },
  {
   "cell_type": "markdown",
   "metadata": {},
   "source": [
    "One problem: when robot rolls off the viewing field. Maybe when a robot cannot be seen, it should roll in the opposite of the last angle it rolled in.\n"
   ]
  },
  {
   "cell_type": "code",
   "execution_count": null,
   "metadata": {
    "collapsed": true
   },
   "outputs": [],
   "source": [
    "?get_bot_position()"
   ]
  },
  {
   "cell_type": "code",
   "execution_count": null,
   "metadata": {
    "collapsed": true
   },
   "outputs": [],
   "source": [
    "print imageX\n",
    "print imageY"
   ]
  },
  {
   "cell_type": "code",
   "execution_count": null,
   "metadata": {
    "collapsed": true
   },
   "outputs": [],
   "source": [
    "# Every robot, after some pushing activity, will use this path to skirt the perimeter\n",
    "recoveryPaths = [\n",
    "    [\n",
    "        [320, 400],  # \n",
    "        [100, 245]\n",
    "    ],\n",
    "    \n",
    "    [\n",
    "        [320, 100],\n",
    "        [100, 235]\n",
    "    ],\n",
    "    \n",
    "    [\n",
    "        [320, 400],  # \n",
    "        [100, 250]\n",
    "    ],\n",
    "    \n",
    "    [\n",
    "        [320, 100],\n",
    "        [100, 230]\n",
    "    ],\n",
    "    \n",
    "    [\n",
    "        [320, 400],  # \n",
    "        [100, 255]\n",
    "    ],\n",
    "    \n",
    "    [\n",
    "        \n",
    "        [320, 100],\n",
    "        [100, 225]\n",
    "    ],\n",
    "    [\n",
    "        [320, 100],\n",
    "        [100, 225]\n",
    "    ]\n",
    "]"
   ]
  },
  {
   "cell_type": "code",
   "execution_count": null,
   "metadata": {
    "collapsed": true
   },
   "outputs": [],
   "source": [
    "# Debugging individual robot navigation\n",
    "# team_go_to_points([bots[2]], [[50, 50]], [offsets[2]], traceable_blue, traceable_color, stopRadius=15, )"
   ]
  },
  {
   "cell_type": "code",
   "execution_count": null,
   "metadata": {
    "collapsed": true
   },
   "outputs": [],
   "source": [
    "from SpheroTeam.navigation import get_rectangle_targets"
   ]
  },
  {
   "cell_type": "code",
   "execution_count": null,
   "metadata": {
    "collapsed": true,
    "scrolled": true
   },
   "outputs": [],
   "source": [
    "# Send robots to a cluster around 300, 150 for video demo\n",
    "targets = [ [300, 150 + i*5] for i in range(len(bots))] # space out the robots along x = 100\n",
    "\n",
    "# If you want to use the rectangle tracker, use this line instead\n",
    "# targets = get_rectangle_targets(args)\n",
    "\n",
    "team_go_to_points(bots, targets, offsets, traceable_blue, traceable_color, imageX, imageY, tracker, stopRadius=15, Kp=.26)"
   ]
  },
  {
   "cell_type": "markdown",
   "metadata": {},
   "source": [
    "### Now, move them together\n",
    "\n",
    "\n"
   ]
  },
  {
   "cell_type": "code",
   "execution_count": null,
   "metadata": {
    "collapsed": true
   },
   "outputs": [],
   "source": [
    "# Turn on team colors for visual impact\n",
    "SpheroTeam.set_team_colors(bots, TEAM_COLORS)    "
   ]
  },
  {
   "cell_type": "code",
   "execution_count": null,
   "metadata": {
    "collapsed": true
   },
   "outputs": [],
   "source": [
    "# Test a pentagon\n",
    "roll_polygon(bots, 5, offsets, 180, speed=60, TIMEOUT=1200)"
   ]
  },
  {
   "cell_type": "code",
   "execution_count": null,
   "metadata": {
    "collapsed": true,
    "run_control": {
     "marked": true
    }
   },
   "outputs": [],
   "source": [
    "# Bring a lost sphero back if it rolled away (consider making an arena wall in future)\n",
    "# SpheroTeam.roll_sphero(bots[0], 40, 180, offsets[0])"
   ]
  },
  {
   "cell_type": "code",
   "execution_count": null,
   "metadata": {
    "collapsed": true
   },
   "outputs": [],
   "source": [
    "?roll_push"
   ]
  },
  {
   "cell_type": "code",
   "execution_count": null,
   "metadata": {
    "collapsed": true
   },
   "outputs": [],
   "source": [
    "# Roll all team along angle 0 at a speed of 70 for 3 seconds\n",
    "# Need to avoid rolling too fast or else the robot \"slips\" on the ground\n",
    "# and isn't able to push anymore. Requires some testing to get a good speed.\n",
    "roll_push(bots, 0, 70, offsets, TIMEOUT=3000)"
   ]
  },
  {
   "cell_type": "code",
   "execution_count": null,
   "metadata": {
    "collapsed": true
   },
   "outputs": [],
   "source": [
    "# Show how robots would recover from \"overshooting\" the target by going to the outside of the arena\n",
    "#, and then returning to a home area.\n",
    "\n",
    "# Recover\n",
    "team_go_to_paths(bots, recoveryPaths, offsets, traceable_blue, traceable_color, imageX, imageY, tracker)\n",
    "\n",
    "# Push forward again!\n",
    "team_go_to_points(bots, targets, offsets, traceable_blue, traceable_color, imageX, imageY, tracker, stopRadius=15, Kp=.26)"
   ]
  },
  {
   "cell_type": "markdown",
   "metadata": {},
   "source": [
    "Challenges: \n",
    "\n",
    "- Path planning is not the same thing as simply choosing to arrive at a point.\n",
    "    - Need to come up with algorithm to avoid obstacles, knowing that you may miss goal points by 10-20 centimeters.\n",
    "    \n",
    "- Tuning the right KP parameter is tricky\n",
    "- Coming up with recovery paths is tricky\n",
    "\n",
    "- How to stop robots from bumping into each other\n",
    "\n",
    "\n",
    "- When robot runs out of bounds, we can't see it... need to create a \"fence\" around the arena and that would fix it.\n",
    "\n",
    "- Tracker can only reliably \"see\" 1 color at once, so workaround is only using that 1 color for tracking.\n",
    "\n",
    "Alternate ideas that weren't implemented due to lack of time\n",
    "\n",
    "- When swarm needs to converge on 1 point: have everyone drive at fixed speed\n",
    "\n",
    "- drive for however long that distance takes in pixels\n",
    "\n",
    "- Let everyone drive simultaneously by giving each robot a blind directive, and not using any feedback to tune its behavior (aka a \"formation\")\n",
    "\n",
    "\n",
    "- Write a function that given a singular (x,y) point, generates a list of pixels that each robot would aim for, along with an \"shape\" and relevant parameters for how the robots should be arranged (aka box, line, circle, hexagon, etc)\n",
    "\n",
    "- Write a function that given a singular target (x,y) point and a robot, define a list of points that the robot should visit before reaching the target points\n",
    "\n"
   ]
  }
 ],
 "metadata": {
  "anaconda-cloud": {},
  "kernelspec": {
   "display_name": "Python [default]",
   "language": "python",
   "name": "python2"
  },
  "language_info": {
   "codemirror_mode": {
    "name": "ipython",
    "version": 2
   },
   "file_extension": ".py",
   "mimetype": "text/x-python",
   "name": "python",
   "nbconvert_exporter": "python",
   "pygments_lexer": "ipython2",
   "version": "2.7.12"
  }
 },
 "nbformat": 4,
 "nbformat_minor": 2
}
