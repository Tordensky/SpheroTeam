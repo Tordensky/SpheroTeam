{
 "cells": [
  {
   "cell_type": "markdown",
   "metadata": {},
   "source": [
    "In which I attempt to control multiple robots simultaneously!"
   ]
  },
  {
   "cell_type": "code",
   "execution_count": 1,
   "metadata": {
    "collapsed": true
   },
   "outputs": [],
   "source": [
    "# Foundational Sphero API, forked from Simon's Library\n",
    "import sphero"
   ]
  },
  {
   "cell_type": "code",
   "execution_count": 2,
   "metadata": {},
   "outputs": [],
   "source": [
    "# Tracking code\n",
    "import cv2\n",
    "# SpheroNav base classes\n",
    "from tracker.trackingfilter import FilterSpheroBlueCover, FilterSpheroYellowCover, FilterGlow\n",
    "\n",
    "\n",
    "from tracker.traceable import TraceableObject\n",
    "from tracker.trackerbase import ColorTracker\n",
    "from util import Vector2D"
   ]
  },
  {
   "cell_type": "code",
   "execution_count": 3,
   "metadata": {
    "collapsed": true
   },
   "outputs": [],
   "source": [
    "# My first python module!\n",
    "import SpheroTeam\n",
    "\n",
    "from SpheroTeam.teamutil import readJsonFile, normalize_angle, angle_between_points\n",
    "from SpheroTeam.navigation import calibrate_bot_direction, get_bot_position\n",
    "from SpheroTeam.formations import roll_polygon"
   ]
  },
  {
   "cell_type": "code",
   "execution_count": 62,
   "metadata": {
    "collapsed": true
   },
   "outputs": [],
   "source": [
    "# General Python Imports\n",
    "import time\n",
    "import os\n",
    "import logging"
   ]
  },
  {
   "cell_type": "markdown",
   "metadata": {},
   "source": [
    "#### SpheroTeam Setup\n",
    "\n",
    "\n",
    "For more details about what each line does, refer to the previous notebook (6)\n"
   ]
  },
  {
   "cell_type": "code",
   "execution_count": 7,
   "metadata": {
    "collapsed": true
   },
   "outputs": [],
   "source": [
    "# This is a list of the colored \"initial names\" of the spheros you want to work with in this session\n",
    "ACTIVEBOTS = ['GRY', 'YPR']"
   ]
  },
  {
   "cell_type": "code",
   "execution_count": null,
   "metadata": {},
   "outputs": [],
   "source": [
    "PROJ_ROOT = os.getcwd()\n",
    "CONFIG = os.path.join(PROJ_ROOT, \"config.json\")\n",
    "manager = sphero.SpheroManager()\n",
    "\n",
    "# Initialize Sphero manager using options provided in the config file\n",
    "manager= SpheroTeam.initialize.load_sphero_roster(manager, CONFIG)\n",
    "\n",
    "# Connect to robots\n",
    "bots = SpheroTeam.initialize.connect_sphero_team(manager, ACTIVEBOTS)\n",
    "\n",
    "# Check power, robots shut down after dropping below 7 volts\n",
    "SpheroTeam.print_team_status(bots)"
   ]
  },
  {
   "cell_type": "markdown",
   "metadata": {},
   "source": [
    "#### Camera Tracker Setup\n",
    "\n"
   ]
  },
  {
   "cell_type": "markdown",
   "metadata": {},
   "source": [
    "In which I try custom filters for yellow, red, green, and orange, find that the camera has trouble seeing ANY of them besides blue\n"
   ]
  },
  {
   "cell_type": "code",
   "execution_count": 9,
   "metadata": {},
   "outputs": [],
   "source": [
    "tracker = ColorTracker()"
   ]
  },
  {
   "cell_type": "code",
   "execution_count": 31,
   "metadata": {},
   "outputs": [
    {
     "name": "stdout",
     "output_type": "stream",
     "text": [
      "Image: 640 x 480 pixels\n"
     ]
    }
   ],
   "source": [
    "imageX, imageY = tracker.image_size\n",
    "print \"Image: {} x {} pixels\".format(imageX, imageY)"
   ]
  },
  {
   "cell_type": "code",
   "execution_count": 10,
   "metadata": {
    "collapsed": true
   },
   "outputs": [],
   "source": [
    "TRACEABLE_COLORS = [\n",
    "    [255, 255, 0], # Y\n",
    "    [0, 0, 255]    # B\n",
    "]\n",
    "\n",
    "traceable_blue = TraceableObject(\"BLUE\")\n",
    "traceable_blue.filter = FilterSpheroBlueCover()\n",
    "\n",
    "traceable_yellow = TraceableObject(\"YELLOW\")\n",
    "traceable_yellow.filter = FilterSpheroYellowCover()"
   ]
  },
  {
   "cell_type": "code",
   "execution_count": 11,
   "metadata": {
    "collapsed": true
   },
   "outputs": [],
   "source": [
    "# Team Calibration Routine\n",
    "def get_team_offsets(bots, traceable_object, traceable_color):\n",
    "    offsets = []\n",
    "    \n",
    "    for bot in bots:\n",
    "        offset = calibrate_bot_direction(bot,  traceable_object, traceable_color, tracker, True)\n",
    "        offsets.append(offset)\n",
    "        proceed = raw_input(\"'q' to quit, else calibrate next robot \")\n",
    "        if proceed == \"q\":\n",
    "            break\n",
    "        else:\n",
    "            continue\n",
    "            \n",
    "    return offsets"
   ]
  },
  {
   "cell_type": "code",
   "execution_count": 12,
   "metadata": {},
   "outputs": [
    {
     "name": "stdout",
     "output_type": "stream",
     "text": [
      "Start (226,185)\n",
      "End   (440,162)\n",
      "Angle 353.865590056\n",
      "'q' to quit, else continued\n",
      "Start (125,336)\n",
      "End   (423,151)\n",
      "Angle 328.167767608\n",
      "'q' to quit, else continued\n"
     ]
    }
   ],
   "source": [
    "# Didn't seem to work\n",
    "# offsets = get_team_offsets(bots, traceable_yellow, TRACEABLE_COLORS[0])"
   ]
  },
  {
   "cell_type": "code",
   "execution_count": 15,
   "metadata": {},
   "outputs": [
    {
     "name": "stdout",
     "output_type": "stream",
     "text": [
      "Start (393,71)\n",
      "End   (411,45)\n",
      "Angle 304.695153531\n",
      "'q' to quit, else continuea\n",
      "Start (262,181)\n",
      "End   (295,209)\n",
      "Angle 40.3141001605\n",
      "'q' to quit, else continuea\n"
     ]
    }
   ],
   "source": [
    "# Blue seems to be the most reliable color to track with.\n",
    "offsets = get_team_offsets(bots, traceable_blue, TRACEABLE_COLORS[1])"
   ]
  },
  {
   "cell_type": "code",
   "execution_count": 11,
   "metadata": {
    "collapsed": true
   },
   "outputs": [],
   "source": [
    "?roll_polygon"
   ]
  },
  {
   "cell_type": "code",
   "execution_count": 24,
   "metadata": {
    "collapsed": true
   },
   "outputs": [],
   "source": [
    "SpheroTeam.roll_sphero(bots[0], 80, 180, offsets[0])"
   ]
  },
  {
   "cell_type": "code",
   "execution_count": 16,
   "metadata": {},
   "outputs": [
    {
     "name": "stdout",
     "output_type": "stream",
     "text": [
      "Dispatch Time 0.0490000247955\n"
     ]
    }
   ],
   "source": [
    "# Roll in a square to show it's working\n",
    "roll_polygon(bots, 1, offsets, 0, speed=60)"
   ]
  },
  {
   "cell_type": "markdown",
   "metadata": {},
   "source": [
    "### Lastly: Try for Basic P Controller\n",
    "\n",
    "Only using p controller on velocity\n"
   ]
  },
  {
   "cell_type": "code",
   "execution_count": 39,
   "metadata": {
    "collapsed": true
   },
   "outputs": [],
   "source": [
    "import math"
   ]
  },
  {
   "cell_type": "code",
   "execution_count": 144,
   "metadata": {},
   "outputs": [],
   "source": [
    "def bot_to_point(bot, offset,\n",
    "                 targetX, targetY, \n",
    "                 trace_object, trace_color,\n",
    "                 TIMEOUT=800,\n",
    "                 tracker=tracker, MAX_SECONDS=10, stopRadius=30,\n",
    "                MAX_X=imageX, MAX_Y=imageY, Kp=0.25, DEBUG=False):\n",
    "    \n",
    "    \"\"\"\n",
    "        Currently makes use of a few implicit globals for simplicity\n",
    "        \n",
    "        specifically traceable_blue, traceable_color\n",
    "        Maybe set stop radius  based on pixel size\n",
    "        \n",
    "        Wiggles because aiming for direct path / precision\n",
    "        \n",
    "        Constrast to \"RUSH TO POINT IN STRAIGHT LINE\"\n",
    "        \n",
    "        Really would work better with a bigger field\n",
    "        \n",
    "        Maybe we can push lighter things?\n",
    "        \n",
    "        Or boost speed when within range: pause and then burst\n",
    "    \"\"\"\n",
    "    \n",
    "    if (targetX > MAX_X) or ( targetY > MAX_Y):\n",
    "        logging.warning(\"Can't roll off the screen!\")\n",
    "        return -1\n",
    "    \n",
    "    currentX, currentY = get_bot_position(bot, trace_object, tracker, samples=1)\n",
    "\n",
    "    # Basic closed loop controller\n",
    "    startTime = time.time()\n",
    "    \n",
    "    # Angle to distance\n",
    "    angle, distance = distance_to_heading(currentX, currentY, targetX, targetY)\n",
    "    \n",
    "    print(\"Get from {},{} to {},{}| Distance {} / {}\").format(currentX, currentY, \n",
    "                                                         targetX, targetY, distance, angle)\n",
    "    bot.set_motion_timeout(TIMEOUT)\n",
    "    # REPLACE SOMEDAY WITH TRUE PID CONTROLLER\n",
    "    while distance > stopRadius and (((time.time() - startTime ) < MAX_SECONDS)):\n",
    "        outSpeed = distance * Kp + 10 # Constant of proportional control\n",
    "        \n",
    "        if outSpeed < 30:\n",
    "            outSpeed = 35\n",
    "\n",
    "        # roll the sphero, make use of the request object\n",
    "        if DEBUG:\n",
    "            print(\"Dist {} outSpeed {} at {} degrees: {},{}\"\\\n",
    "                  .format(distance, outSpeed, angle, currentX, currentY))\n",
    "        \n",
    "        SpheroTeam.roll_sphero(bot, outSpeed, -angle, offset)\n",
    "        \n",
    "        # use this for recovery when lost\n",
    "        \n",
    "        bot.prev_angle = -angle\n",
    "                \n",
    "        time.sleep(TIMEOUT/1000.0)\n",
    "\n",
    "        currentX , currentY = get_bot_position(bot, trace_object, tracker, samples=1)\n",
    "        \n",
    "        if currentX:\n",
    "            # Repeat waypointing calculation\n",
    "            angle, distance = distance_to_heading(currentX, currentY, targetX, targetY)\n",
    "        else:\n",
    "            # bring robot back onto screen\n",
    "            angle = bot_prev_angle\n",
    "            distance = 250 # aim to go back to middle\n",
    "            \n",
    "    print(\"Stopped at {},{}, with dist {}\").format(currentX, currentY, distance)\n",
    "    \n",
    "\n",
    "def distance_to_heading(currentX, currentY, targetX, targetY):\n",
    "    '''\n",
    "        Returns distance and angle between two points\n",
    "    '''\n",
    "    \n",
    "    deltaX = targetX - currentX\n",
    "    deltaY = targetY - currentY\n",
    "    angle = math.degrees(math.atan2(deltaY, deltaX))\n",
    "    distance = math.sqrt(deltaX * deltaX + deltaY * deltaY)\n",
    "    \n",
    "    return angle, distance"
   ]
  },
  {
   "cell_type": "code",
   "execution_count": 150,
   "metadata": {},
   "outputs": [
    {
     "name": "stdout",
     "output_type": "stream",
     "text": [
      "Wall time: 5 ms\n"
     ]
    }
   ],
   "source": [
    "%%time\n",
    "# Cut down on sampling to reduce tracking latency\n",
    "currentX , currentY = get_bot_position(bots[0], traceable_blue, tracker, samples=1)"
   ]
  },
  {
   "cell_type": "code",
   "execution_count": 151,
   "metadata": {},
   "outputs": [
    {
     "data": {
      "text/plain": [
       "(518, 313)"
      ]
     },
     "execution_count": 151,
     "metadata": {},
     "output_type": "execute_result"
    },
    {
     "name": "stdout",
     "output_type": "stream",
     "text": [
      "Received unknown async msg! Header:  (255, 254, 5, 1)\n"
     ]
    },
    {
     "name": "stderr",
     "output_type": "stream",
     "text": [
      "Exception in thread SpheroReceiverThread:\n",
      "Traceback (most recent call last):\n",
      "  File \"C:\\Users\\cyick\\Anaconda2\\lib\\threading.py\", line 801, in __bootstrap_inner\n",
      "    self.run()\n",
      "  File \"C:\\Users\\cyick\\Anaconda2\\lib\\threading.py\", line 754, in run\n",
      "    self.__target(*self.__args, **self.__kwargs)\n",
      "  File \"C:\\Users\\cyick\\AppData\\Roaming\\Python\\Python27\\site-packages\\sphero\\core.py\", line 422, in _receiver\n",
      "    header = self._receive_header()\n",
      "  File \"C:\\Users\\cyick\\AppData\\Roaming\\Python\\Python27\\site-packages\\sphero\\core.py\", line 306, in _receive_header\n",
      "    first_byte = struct.unpack('B', raw_data)[0]\n",
      "error: unpack requires a string argument of length 1\n",
      "\n"
     ]
    }
   ],
   "source": [
    "currentX , currentY"
   ]
  },
  {
   "cell_type": "code",
   "execution_count": 147,
   "metadata": {},
   "outputs": [
    {
     "data": {
      "text/plain": [
       "<sphero.response.Response at 0x7727208>"
      ]
     },
     "execution_count": 147,
     "metadata": {},
     "output_type": "execute_result"
    }
   ],
   "source": [
    "bots[0].set_rgb(0, 0, 255)"
   ]
  },
  {
   "cell_type": "markdown",
   "metadata": {},
   "source": [
    "One problem: when robot rolls off the viewing field. Maybe when a robot cannot be seen, it should roll in the opposite of the last angle it rolled in.\n"
   ]
  },
  {
   "cell_type": "code",
   "execution_count": 148,
   "metadata": {},
   "outputs": [
    {
     "name": "stdout",
     "output_type": "stream",
     "text": [
      "Get from 45,100 to 50,100| Distance 5.0 / 0.0\n",
      "Stopped at 45,100, with dist 5.0\n"
     ]
    }
   ],
   "source": [
    "bot_to_point(bots[0], offsets[0], 50, 100,\n",
    "            traceable_blue, TRACEABLE_COLORS[1],\n",
    "             TIMEOUT=100)"
   ]
  },
  {
   "cell_type": "code",
   "execution_count": 149,
   "metadata": {},
   "outputs": [
    {
     "name": "stdout",
     "output_type": "stream",
     "text": [
      "Get from 44,100 to 500,300| Distance 497.931722227 / 23.6820877245\n",
      "Stopped at 493,308, with dist 10.6301458127\n"
     ]
    }
   ],
   "source": [
    "bot_to_point(bots[0], offsets[0], 500, 300,\n",
    "            traceable_blue, TRACEABLE_COLORS[1],\n",
    "             \n",
    "             TIMEOUT=250)\n"
   ]
  },
  {
   "cell_type": "code",
   "execution_count": 114,
   "metadata": {},
   "outputs": [
    {
     "name": "stdout",
     "output_type": "stream",
     "text": [
      "Get from 301,307 to 150,150| Distance 217.830209108 / -133.883989609\n",
      "Dist 217.830209108 outSpeed 54.457552277 at -133.883989609 degrees: 301,307\n",
      "Dist 207.932681414 outSpeed 51.9831703535 at -136.169139328 degrees: 300,294\n",
      "Dist 206.041258004 outSpeed 51.5103145011 at -137.950779109 degrees: 303,288\n",
      "Dist 179.655225362 outSpeed 44.9138063406 at -136.353191954 degrees: 280,274\n",
      "Dist 136.124942608 outSpeed 34.031235652 at -139.170436525 degrees: 253,239\n",
      "Dist 96.5401470892 outSpeed 24.1350367723 at -140.042451069 degrees: 224,212\n",
      "Dist 58.412327466 outSpeed 14.6030818665 at -141.952957468 degrees: 196,186\n",
      "Stopped at 165,160, with dist 18.0277563773\n",
      "Get from 145,141 to 250,400| Distance 279.474506887 / 67.9321004376\n",
      "Dist 279.474506887 outSpeed 69.8686267219 at 67.9321004376 degrees: 145,141\n",
      "Dist 281.538629676 outSpeed 70.3846574191 at 67.4427533653 degrees: 142,140\n",
      "Dist 305.565050358 outSpeed 76.3912625894 at 65.0284175283 degrees: 121,123\n",
      "Dist 263.518500299 outSpeed 65.8796250748 at 65.0881880721 degrees: 139,161\n",
      "Dist 211.624667749 outSpeed 52.9061669373 at 65.130312026 degrees: 161,208\n",
      "Dist 161.058995402 outSpeed 40.2647488506 at 65.0260890941 degrees: 182,254\n",
      "Dist 114.96521213 outSpeed 28.7413030324 at 64.7723505326 degrees: 201,296\n",
      "Dist 70.2139587262 outSpeed 17.5534896815 at 63.7998851587 degrees: 219,337\n",
      "Dist 33.6154726279 outSpeed 8.40386815699 at 59.6208739886 degrees: 233,371\n",
      "Stopped at 243,391, with dist 11.401754251\n"
     ]
    }
   ],
   "source": [
    "# I think the key is small timeouts\n",
    "bot_to_point(bots[0], offsets[0], 150, 150, \n",
    "             traceable_blue, TRACEABLE_COLORS[1],\n",
    "             TIMEOUT=400)\n",
    "\n",
    "bot_to_point(bots[0], offsets[0], \n",
    "             250, 400,\n",
    "             traceable_blue, TRACEABLE_COLORS[1],\n",
    "             TIMEOUT=400)"
   ]
  },
  {
   "cell_type": "markdown",
   "metadata": {},
   "source": [
    "Wow! Robots used to be inching forwards like inchworms, and now the roll smoothly into position!! Although if target is near edge they may overshoot.\n",
    "\n",
    "Post-script: the improvement in this notebook was mainly small tuning to sampling rate and refinement of the underlying location tracker function in order to improve the tightness of the feedback loop. An actual coordinated pushing scheme will be tried in the next notebook.\n",
    "\n"
   ]
  }
 ],
 "metadata": {
  "kernelspec": {
   "display_name": "Python [default]",
   "language": "python",
   "name": "python2"
  },
  "language_info": {
   "codemirror_mode": {
    "name": "ipython",
    "version": 2
   },
   "file_extension": ".py",
   "mimetype": "text/x-python",
   "name": "python",
   "nbconvert_exporter": "python",
   "pygments_lexer": "ipython2",
   "version": "2.7.12"
  }
 },
 "nbformat": 4,
 "nbformat_minor": 2
}
