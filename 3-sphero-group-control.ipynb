{
 "cells": [
  {
   "cell_type": "markdown",
   "metadata": {},
   "source": [
    "### Group Controller\n",
    "\n",
    "- Load in a roster of Spheros\n",
    "- Connect to each one and calibrate their position\n",
    "- Perform some orchestration\n"
   ]
  },
  {
   "cell_type": "code",
   "execution_count": 1,
   "metadata": {
    "collapsed": true
   },
   "outputs": [],
   "source": [
    "# General Python Helper Functions\n",
    "def readJsonFile(filename):\n",
    "    '''\n",
    "        Read a JSON file into a python dict \n",
    "    '''\n",
    "    with open(filename) as data_file:    \n",
    "        data = json.load(data_file)\n",
    "    return data"
   ]
  },
  {
   "cell_type": "code",
   "execution_count": 2,
   "metadata": {
    "collapsed": true
   },
   "outputs": [],
   "source": [
    "# NEW SPHEROS\n",
    "import sphero\n",
    "import time\n",
    "\n",
    "# Controller Functions\n",
    "import os\n",
    "import json\n",
    "from pprint import pprint"
   ]
  },
  {
   "cell_type": "code",
   "execution_count": 5,
   "metadata": {},
   "outputs": [
    {
     "name": "stdout",
     "output_type": "stream",
     "text": [
      "{u'68:86:E7:05:0C:4B': u'Sphero-YYP',\n",
      " u'68:86:E7:05:12:26': u'Sphero-RPB',\n",
      " u'68:86:E7:05:19:AD': u'Sphero-RYR',\n",
      " u'68:86:E7:09:4E:74': u'Sphero-YPR',\n",
      " u'68:86:E7:09:A2:FE': u'Sphero-RWR',\n",
      " u'68:86:E7:09:A6:FE': u'Sphero-ORG',\n",
      " u'68:86:E7:09:A9:28': u'Sphero-GRY'}\n"
     ]
    }
   ],
   "source": [
    "# Use sphero app to get sphero names and MAC addresses\n",
    "PROJ_ROOT = os.getcwd()\n",
    "ROSTER = os.path.join(PROJ_ROOT, \"roster.json\")\n",
    "roster = readJsonFile(ROSTER)\n",
    "pprint(roster)"
   ]
  },
  {
   "cell_type": "code",
   "execution_count": 7,
   "metadata": {
    "collapsed": true
   },
   "outputs": [],
   "source": [
    "# Class for managing multiple spheros\n",
    "manager = sphero.SpheroManager()"
   ]
  },
  {
   "cell_type": "code",
   "execution_count": 8,
   "metadata": {},
   "outputs": [],
   "source": [
    "# Initialize Sphero manager with addresses of local spheros\n",
    "manager._name_cache = roster\n",
    "\n",
    "# Number of spheros to connect to\n",
    "NBOTS = len(roster.keys())\n",
    "print(NBOTS)"
   ]
  },
  {
   "cell_type": "code",
   "execution_count": 10,
   "metadata": {},
   "outputs": [
    {
     "name": "stdout",
     "output_type": "stream",
     "text": [
      "Starts auto search\n",
      "Found Sphero-GRY\n",
      "Found Sphero-YPR\n",
      "Found Sphero-RWR\n",
      "Found Sphero-ORG\n",
      "Found Sphero-RYR\n",
      "Found Sphero-RPB\n",
      "Found Sphero-YYP\n",
      "Found all 7 spheros\n"
     ]
    }
   ],
   "source": [
    "# This searches the system cache for all of the robots. \n",
    "# It doesn't need the spheros to be turned on yet.\n",
    "def on_new_sphero(device, NBOTS=NBOTS):\n",
    "    \"\"\"\n",
    "        NBOTS = number of robots in the flock\n",
    "        Note that this presently refers to a global \"manager\" object. This method should be moved inside the native\n",
    "        library later.\n",
    "    \"\"\"\n",
    "    print \"Found \" + device.bt_name\n",
    "    \n",
    "    # Terminate search when all expected bots are found\n",
    "    if len(manager._spheros.keys()) == NBOTS:\n",
    "        print \"Found all {} spheros\".format(NBOTS)\n",
    "        manager.stop_auto_search()\n",
    "                 \n",
    "# Callback\n",
    "manager.set_sphero_found_cb(on_new_sphero)\n",
    "\n",
    "# Construct list of devices in system bluetooth collection\n",
    "# Your bluetooth network cannot contain anything with name of \"Sphero-\" prefix\n",
    "devices = []\n",
    "manager.start_auto_search()"
   ]
  },
  {
   "cell_type": "code",
   "execution_count": 12,
   "metadata": {},
   "outputs": [
    {
     "name": "stdout",
     "output_type": "stream",
     "text": [
      "Sphero-RPB: 68:86:E7:05:12:26\n",
      "Sphero-YPR: 68:86:E7:09:4E:74\n",
      "Sphero-GRY: 68:86:E7:09:A9:28\n",
      "Sphero-YYP: 68:86:E7:05:0C:4B\n",
      "Sphero-RWR: 68:86:E7:09:A2:FE\n",
      "Sphero-ORG: 68:86:E7:09:A6:FE\n",
      "Sphero-RYR: 68:86:E7:05:19:AD\n"
     ]
    }
   ],
   "source": [
    "devices = []\n",
    "# Verify that these are the robots we are looking for\n",
    "for name, device in manager._spheros.iteritems():\n",
    "    print \"{}: {}\".format(name, device.bt_addr)\n",
    "    devices.append(device) "
   ]
  },
  {
   "cell_type": "code",
   "execution_count": 19,
   "metadata": {
    "collapsed": true
   },
   "outputs": [],
   "source": [
    "activeBotNames = [\n",
    "    \"Sphero-RYR\"\n",
    "]"
   ]
  },
  {
   "cell_type": "markdown",
   "metadata": {},
   "source": [
    "These are experiments on 4/15\n"
   ]
  },
  {
   "cell_type": "code",
   "execution_count": 20,
   "metadata": {},
   "outputs": [],
   "source": [
    "# Test notes 4/15\n",
    "# bots = [ devices[0], devices[4], devices[5]]\n",
    "bots = [ manager._spheros[name] for name in activeBotNames ]"
   ]
  },
  {
   "cell_type": "code",
   "execution_count": 21,
   "metadata": {},
   "outputs": [
    {
     "name": "stdout",
     "output_type": "stream",
     "text": [
      "Sphero-RYR try 0\n",
      "Connected!\n"
     ]
    }
   ],
   "source": [
    "# Connect team to computer\n",
    "connect_team(bots)"
   ]
  },
  {
   "cell_type": "code",
   "execution_count": 24,
   "metadata": {},
   "outputs": [
    {
     "name": "stdout",
     "output_type": "stream",
     "text": [
      "Sphero-RYR Battery OK | 8.05\n"
     ]
    }
   ],
   "source": [
    "# Make sure everyone's battery is above 1.5\n",
    "print_team_status(bots)"
   ]
  },
  {
   "cell_type": "code",
   "execution_count": 27,
   "metadata": {
    "collapsed": true,
    "run_control": {
     "marked": true
    }
   },
   "outputs": [],
   "source": [
    "for bot in bots:\n",
    "    bot.set_rgb(50,50,0)"
   ]
  },
  {
   "cell_type": "code",
   "execution_count": 38,
   "metadata": {},
   "outputs": [
    {
     "name": "stdout",
     "output_type": "stream",
     "text": [
      "Sphero-RYR Battery OK | 8.04\n",
      "Received unknown async msg! Header:  (255, 254, 5, 1)\n"
     ]
    },
    {
     "name": "stderr",
     "output_type": "stream",
     "text": [
      "Exception in thread SpheroReceiverThread:\n",
      "Traceback (most recent call last):\n",
      "  File \"C:\\Users\\cyick\\Anaconda2\\lib\\threading.py\", line 801, in __bootstrap_inner\n",
      "    self.run()\n",
      "  File \"C:\\Users\\cyick\\Anaconda2\\lib\\threading.py\", line 754, in run\n",
      "    self.__target(*self.__args, **self.__kwargs)\n",
      "  File \"C:\\Users\\cyick\\AppData\\Roaming\\Python\\Python27\\site-packages\\sphero\\core.py\", line 415, in _receiver\n",
      "    header = self._receive_header()\n",
      "  File \"C:\\Users\\cyick\\AppData\\Roaming\\Python\\Python27\\site-packages\\sphero\\core.py\", line 299, in _receive_header\n",
      "    first_byte = struct.unpack('B', raw_data)[0]\n",
      "error: unpack requires a string argument of length 1\n",
      "\n"
     ]
    }
   ],
   "source": [
    "# Manage sphero colors consistently\n",
    "colors = [\n",
    "    [255, 0 , 0], # R\n",
    "    [0, 255 , 0], # G\n",
    "    [0, 0 , 255], # B\n",
    "    [255, 0, 255] # Purple\n",
    "]\n",
    "\n",
    "# Control Brightness\n",
    "for color in colors:\n",
    "    for i, val in enumerate(color):\n",
    "        color[i] /= 2\n",
    "        \n",
    "# Initialization for any team\n",
    "set_team_back_led(bots, True)\n",
    "set_team_colors(bots, colors)\n",
    "print_team_status(bots)"
   ]
  },
  {
   "cell_type": "code",
   "execution_count": 14,
   "metadata": {
    "collapsed": true
   },
   "outputs": [],
   "source": [
    "# Math Functions\n",
    "def normalize_angle(angle):\n",
    "    if angle < 0:\n",
    "        return 360 + angle\n",
    "    elif angle > 359:\n",
    "        return angle - 360\n",
    "    else:\n",
    "        return angle"
   ]
  },
  {
   "cell_type": "code",
   "execution_count": 37,
   "metadata": {
    "collapsed": true
   },
   "outputs": [],
   "source": [
    "# Team control methods\n",
    "def connect_team(bots):\n",
    "    for i, bot in enumerate(bots):  \n",
    "        bot.disconnect()\n",
    "        bot.connect()\n",
    "        \n",
    "def disconnect_team(bots):\n",
    "    for i, bot in enumerate(bots):  \n",
    "        bot.disconnect()\n",
    "        \n",
    "def set_team_back_led(bots, status):\n",
    "    # Bright if true, dim if false\n",
    "    status = 0xaa if status else 0x00\n",
    "    \n",
    "    for bot in bots:  \n",
    "        bot.set_back_led_output(status)\n",
    "        \n",
    "def set_team_colors(bots, colors):\n",
    "    for i, bot in enumerate(bots):  \n",
    "        colorTriple = colors[i]\n",
    "        bot.set_rgb(colorTriple[0], colorTriple[1], colorTriple[2])\n",
    "        \n",
    "def print_team_status(bots):\n",
    "    for bot in bots:\n",
    "        response = bot.get_power_state()\n",
    "        print \"{} {} | {}\".format(bot.bt_name, response.power_state, response.bat_voltage)\n",
    "        \n",
    "def roll_sphero(bot, speed, heading, offset):\n",
    "    \"\"\"\n",
    "        Roll robot in in proper direction at a given speed\n",
    "    \"\"\"\n",
    "    bot.roll(speed, normalize_angle(heading + offset))\n",
    "    \n",
    "def roll_sphero_team_synchronized(bots, speed, heading, offsets,motionTimeout=2000):\n",
    "    \"\"\"\n",
    "        Move all robots in same direction at shared speed\n",
    "    \"\"\"\n",
    "#     for bot in bots:\n",
    "#         bot.set_motion_timeout(motionTimeout)\n",
    "    assert(len(bots) == len(offsets))\n",
    "    tStart = time.time()\n",
    "    \n",
    "    for i, bot in enumerate(bots):\n",
    "        roll_sphero(bot, speed, heading, offsets[i])\n",
    "        \n",
    "    tEnd = time.time()\n",
    "    \n",
    "    print(\"Dispatch Time {}\".format(tEnd - tStart) )\n",
    "    time.sleep(motionTimeout / 1000)  # wait for bots to finish rolling"
   ]
  },
  {
   "cell_type": "code",
   "execution_count": 240,
   "metadata": {
    "run_control": {
     "marked": true
    }
   },
   "outputs": [
    {
     "name": "stdout",
     "output_type": "stream",
     "text": [
      "Dispatch Time 0.357000112534\n",
      "Dispatch Time 0.218999862671\n",
      "Dispatch Time 0.266999959946\n"
     ]
    },
    {
     "name": "stderr",
     "output_type": "stream",
     "text": [
      "Exception in thread SpheroReceiverThread:\n",
      "Traceback (most recent call last):\n",
      "  File \"C:\\Users\\cyick\\Anaconda2\\lib\\threading.py\", line 801, in __bootstrap_inner\n",
      "    self.run()\n",
      "  File \"C:\\Users\\cyick\\Anaconda2\\lib\\threading.py\", line 754, in run\n",
      "    self.__target(*self.__args, **self.__kwargs)\n",
      "  File \"C:\\Users\\cyick\\AppData\\Roaming\\Python\\Python27\\site-packages\\sphero\\core.py\", line 415, in _receiver\n",
      "    header = self._receive_header()\n",
      "  File \"C:\\Users\\cyick\\AppData\\Roaming\\Python\\Python27\\site-packages\\sphero\\core.py\", line 299, in _receive_header\n",
      "    first_byte = struct.unpack('B', raw_data)[0]\n",
      "error: unpack requires a string argument of length 1\n",
      "\n"
     ]
    }
   ],
   "source": [
    "# angles = [0, 120, 240]\n",
    "# Demo Reel: show basic \n",
    "\n",
    "botAngleOffsets = [\n",
    "    15, 120, 90, 230         \n",
    "]\n",
    "\n",
    "corners = 3\n",
    "angles = [ i * (360 / corners) for i in range(corners)]\n",
    "\n",
    "\n",
    "for angle in angles:\n",
    "    roll_sphero_team_synchronized(bots, 80, angle, botAngleOffsets)\n",
    "    \n",
    "    \n",
    "# roll_sphero_team_synchronized(bots, 100, 30, botAngleOffsets)"
   ]
  },
  {
   "cell_type": "code",
   "execution_count": 181,
   "metadata": {
    "collapsed": true
   },
   "outputs": [],
   "source": [
    "# code in offsets manually for r,g,b\n",
    "\n",
    "# direction = 50\n",
    "\n",
    "direction = 40\n",
    "\n",
    "speed = 70\n",
    "\n",
    "\n",
    "\n",
    "    \n",
    "    \n",
    "time.sleep(3)\n",
    "\n",
    "direction2 = direction + 180\n",
    "    \n",
    "for i, bot in enumerate(bots):\n",
    "    roll_sphero(bot, speed, direction2, botAngleOffsets[i])\n",
    "    "
   ]
  },
  {
   "cell_type": "code",
   "execution_count": null,
   "metadata": {
    "collapsed": true
   },
   "outputs": [],
   "source": []
  },
  {
   "cell_type": "code",
   "execution_count": 177,
   "metadata": {
    "collapsed": true
   },
   "outputs": [],
   "source": [
    "# bot2 = [b for b in manager._spheros.iteritems()][1][1]"
   ]
  },
  {
   "cell_type": "code",
   "execution_count": 9,
   "metadata": {
    "collapsed": true
   },
   "outputs": [],
   "source": [
    "bot = [b for b in manager._spheros.iteritems()][1]\n"
   ]
  },
  {
   "cell_type": "code",
   "execution_count": 10,
   "metadata": {
    "collapsed": true
   },
   "outputs": [],
   "source": [
    "bot = bot[1]\n"
   ]
  },
  {
   "cell_type": "code",
   "execution_count": null,
   "metadata": {
    "collapsed": true
   },
   "outputs": [],
   "source": [
    "# bot2.connect()\n",
    "\n"
   ]
  },
  {
   "cell_type": "code",
   "execution_count": 11,
   "metadata": {},
   "outputs": [
    {
     "data": {
      "text/plain": [
       "<sphero.response.Response at 0x4f34518>"
      ]
     },
     "execution_count": 11,
     "metadata": {},
     "output_type": "execute_result"
    }
   ],
   "source": [
    "bot.set_rgb(0, 255,0 )\n",
    "\n"
   ]
  },
  {
   "cell_type": "code",
   "execution_count": 2,
   "metadata": {
    "collapsed": true
   },
   "outputs": [],
   "source": [
    "import cv2\n",
    "\n"
   ]
  },
  {
   "cell_type": "code",
   "execution_count": 3,
   "metadata": {},
   "outputs": [],
   "source": [
    "cam = cv2.VideoCapture(0)\n",
    "\n"
   ]
  },
  {
   "cell_type": "code",
   "execution_count": 4,
   "metadata": {},
   "outputs": [
    {
     "name": "stdout",
     "output_type": "stream",
     "text": [
      "<VideoCapture 0000000004A5EE90>\n"
     ]
    }
   ],
   "source": [
    "print cam\n",
    "\n"
   ]
  },
  {
   "cell_type": "code",
   "execution_count": 5,
   "metadata": {
    "collapsed": true
   },
   "outputs": [],
   "source": [
    "s, im = cam.read() # captures image\n",
    "cv2.imshow(\"Test Picture\", im) # displays captured image\n",
    "\n"
   ]
  },
  {
   "cell_type": "code",
   "execution_count": null,
   "metadata": {
    "collapsed": true
   },
   "outputs": [],
   "source": []
  }
 ],
 "metadata": {
  "anaconda-cloud": {},
  "kernelspec": {
   "display_name": "Python [default]",
   "language": "python",
   "name": "python2"
  },
  "language_info": {
   "codemirror_mode": {
    "name": "ipython",
    "version": 2
   },
   "file_extension": ".py",
   "mimetype": "text/x-python",
   "name": "python",
   "nbconvert_exporter": "python",
   "pygments_lexer": "ipython2",
   "version": "2.7.12"
  }
 },
 "nbformat": 4,
 "nbformat_minor": 1
}
