{
 "cells": [
  {
   "cell_type": "markdown",
   "metadata": {},
   "source": [
    "### Group Controller\n",
    "\n",
    "- Load in a roster of Spheros\n",
    "- Connect to each one and calibrate their position\n",
    "- Perform Orchestration\n",
    "\n"
   ]
  },
  {
   "cell_type": "code",
   "execution_count": 1,
   "metadata": {
    "collapsed": true
   },
   "outputs": [],
   "source": [
    "# General Python Helper Functions\n",
    "def readJsonFile(filename):\n",
    "    '''\n",
    "        Read a JSON file into a python dict \n",
    "    '''\n",
    "    with open(filename) as data_file:    \n",
    "        data = json.load(data_file)\n",
    "    return data"
   ]
  },
  {
   "cell_type": "code",
   "execution_count": 2,
   "metadata": {
    "collapsed": true
   },
   "outputs": [],
   "source": [
    "# NEW SPHEROS\n",
    "import sphero\n",
    "import time\n",
    "\n",
    "# Controller Functions\n",
    "import os\n",
    "import json\n",
    "from pprint import pprint"
   ]
  },
  {
   "cell_type": "code",
   "execution_count": 3,
   "metadata": {},
   "outputs": [
    {
     "name": "stdout",
     "output_type": "stream",
     "text": [
      "{u'68:86:E7:05:0C:4B': u'Sphero-YYP',\n",
      " u'68:86:E7:05:12:26': u'Sphero-RPB',\n",
      " u'68:86:E7:05:19:AD': u'Sphero-RYR',\n",
      " u'68:86:E7:09:4E:74': u'Sphero-YPR',\n",
      " u'68:86:E7:09:A2:FE': u'Sphero-RWR',\n",
      " u'68:86:E7:09:A6:FE': u'Sphero-ORG',\n",
      " u'68:86:E7:09:A9:28': u'Sphero-GRY'}\n"
     ]
    }
   ],
   "source": [
    "# Use sphero app to get sphero names and MAC addresses\n",
    "PROJ_ROOT = os.getcwd()\n",
    "ROSTER = os.path.join(PROJ_ROOT, \"roster.json\")\n",
    "roster = readJsonFile(ROSTER)\n",
    "pprint(roster)"
   ]
  },
  {
   "cell_type": "code",
   "execution_count": 4,
   "metadata": {
    "collapsed": true
   },
   "outputs": [],
   "source": [
    "# Class for managing multiple spheros\n",
    "manager = sphero.SpheroManager()"
   ]
  },
  {
   "cell_type": "code",
   "execution_count": 5,
   "metadata": {},
   "outputs": [
    {
     "name": "stdout",
     "output_type": "stream",
     "text": [
      "7\n"
     ]
    }
   ],
   "source": [
    "# Initialize Sphero manager with addresses of local spheros\n",
    "manager._name_cache = roster\n",
    "\n",
    "# Number of spheros to connect to\n",
    "NBOTS = len(roster.keys())\n",
    "print(NBOTS)"
   ]
  },
  {
   "cell_type": "code",
   "execution_count": 6,
   "metadata": {},
   "outputs": [
    {
     "name": "stdout",
     "output_type": "stream",
     "text": [
      "Starts auto search\n",
      "Found Sphero-RPB\n",
      "Found Sphero-GRY\n",
      "Found Sphero-YYP\n",
      "Found Sphero-ORG\n",
      "Found Sphero-RYR\n",
      "Found Sphero-RWR\n",
      "Found Sphero-YPR\n",
      "Found all 7 spheros\n"
     ]
    }
   ],
   "source": [
    "# This searches the system cache for all of the robots. \n",
    "# It doesn't need the spheros to be turned on yet.\n",
    "def on_new_sphero(device, NBOTS=NBOTS):\n",
    "    \"\"\"\n",
    "        NBOTS = number of robots in the flock\n",
    "        Note that this presently refers to a global \"manager\" object. This method should be moved inside the native\n",
    "        library later.\n",
    "    \"\"\"\n",
    "    print \"Found \" + device.bt_name\n",
    "    \n",
    "    # Terminate search when all expected bots are found\n",
    "    if len(manager._spheros.keys()) == NBOTS:\n",
    "        print \"Found all {} spheros\".format(NBOTS)\n",
    "        manager.stop_auto_search()\n",
    "                 \n",
    "# Callback\n",
    "manager.set_sphero_found_cb(on_new_sphero)\n",
    "\n",
    "# Construct list of devices in system bluetooth collection\n",
    "# Your bluetooth network cannot contain anything with name of \"Sphero-\" prefix\n",
    "devices = []\n",
    "manager.start_auto_search()"
   ]
  },
  {
   "cell_type": "code",
   "execution_count": 7,
   "metadata": {},
   "outputs": [
    {
     "name": "stdout",
     "output_type": "stream",
     "text": [
      "Sphero-RPB: 68:86:E7:05:12:26\n",
      "Sphero-YPR: 68:86:E7:09:4E:74\n",
      "Sphero-GRY: 68:86:E7:09:A9:28\n",
      "Sphero-YYP: 68:86:E7:05:0C:4B\n",
      "Sphero-RWR: 68:86:E7:09:A2:FE\n",
      "Sphero-ORG: 68:86:E7:09:A6:FE\n",
      "Sphero-RYR: 68:86:E7:05:19:AD\n"
     ]
    }
   ],
   "source": [
    "devices = []\n",
    "# Verify that these are the robots we are looking for\n",
    "for name, device in manager._spheros.iteritems():\n",
    "    print \"{}: {}\".format(name, device.bt_addr)\n",
    "    devices.append(device) "
   ]
  },
  {
   "cell_type": "code",
   "execution_count": 8,
   "metadata": {
    "collapsed": true
   },
   "outputs": [],
   "source": [
    "activeBotNames = [\n",
    "    \"Sphero-RYR\",\n",
    "    \"Sphero-GRY\",\n",
    "    \"Sphero-YPR\",\n",
    "    \"Sphero-RWR\",\n",
    "    \"Sphero-ORG\",\n",
    "    \"Sphero-RPB\",\n",
    "    \"Sphero-YYP\"\n",
    "]"
   ]
  },
  {
   "cell_type": "markdown",
   "metadata": {},
   "source": [
    "These are experiments on 4/15\n"
   ]
  },
  {
   "cell_type": "code",
   "execution_count": 147,
   "metadata": {
    "collapsed": true,
    "run_control": {
     "marked": true
    }
   },
   "outputs": [],
   "source": [
    "# Team control methods\n",
    "    \n",
    "def connect_team(bots):\n",
    "    for i, bot in enumerate(bots):  \n",
    "        bot.disconnect()\n",
    "        bot.connect()\n",
    "        \n",
    "def disconnect_team(bots):\n",
    "    for i, bot in enumerate(bots):  \n",
    "        bot.disconnect()\n",
    "        \n",
    "def set_team_back_led(bots, status):\n",
    "    # Bright if true, dim if false\n",
    "    status = 0xaa if status else 0x00\n",
    "    \n",
    "    for bot in bots:  \n",
    "        bot.set_back_led_output(status)\n",
    "        \n",
    "def set_team_colors(bots, colors):\n",
    "    for i, bot in enumerate(bots):  \n",
    "        colorTriple = colors[i]\n",
    "        bot.set_rgb(colorTriple[0], colorTriple[1], colorTriple[2])\n",
    "    \n",
    "# Diagnostics\n",
    "\n",
    "def highlight_bot(bots, iBot):\n",
    "    for i, bot in enumerate(bots):\n",
    "        if i == iBot:\n",
    "            bot.set_rgb(255, 0, 0)\n",
    "        else:\n",
    "            bot.set_rgb(0, 0, 0)\n",
    "            \n",
    "def highlight_team(bots, duration=1):\n",
    "    for i, bot in enumerate(bots):\n",
    "        highlight_bot(bots, i)\n",
    "        time.sleep(duration)\n",
    "    \n",
    "def print_team_status(bots):\n",
    "    for bot in bots:\n",
    "        response = bot.get_power_state()\n",
    "        print \"{} {} | {}\".format(bot.bt_name, response.power_state, response.bat_voltage)\n",
    "      \n",
    "    return None\n",
    "    \n",
    "# MOVEMENT   \n",
    "def roll_sphero(bot, speed, heading, offset):\n",
    "    \"\"\"\n",
    "        Roll robot in in proper direction at a given speed\n",
    "    \"\"\"\n",
    "    bot.roll(speed, normalize_angle(heading + offset))\n",
    "    \n",
    "def set_team_timeout(bots, motionTimeout=2000):\n",
    "    \"\"\"\n",
    "        Move all robots in same direction at shared speed\n",
    "    \"\"\"\n",
    "    for bot in bots:\n",
    "        bot.set_motion_timeout(motionTimeout)\n",
    "\n",
    "        \n",
    "def roll_sphero_team_synchronized(bots, speed, heading, offsets,motionTimeout=2000):\n",
    "    \"\"\"\n",
    "        Move all robots in same direction at shared speed\n",
    "    \"\"\"\n",
    "#     for bot in bots:\n",
    "#         bot.set_motion_timeout(motionTimeout)\n",
    "    assert(len(bots) == len(offsets))\n",
    "    tStart = time.time()\n",
    "    \n",
    "    for i, bot in enumerate(bots):\n",
    "        roll_sphero(bot, speed, heading, offsets[i])\n",
    "        \n",
    "    tEnd = time.time()\n",
    "    \n",
    "    print(\"Dispatch Time {}\".format(tEnd - tStart) )\n",
    "    time.sleep(motionTimeout / 1000)  # wait for bots to finish rolling\n",
    "    \n",
    "# Math Functions\n",
    "def normalize_angle(angle):\n",
    "    if angle < 0:\n",
    "        return 360 + angle\n",
    "    elif angle > 359:\n",
    "        return angle - 360\n",
    "    else:\n",
    "        return angle"
   ]
  },
  {
   "cell_type": "markdown",
   "metadata": {},
   "source": [
    "First, initialize robot objects\n"
   ]
  },
  {
   "cell_type": "code",
   "execution_count": 10,
   "metadata": {
    "collapsed": true
   },
   "outputs": [],
   "source": [
    "# Test notes 4/22\n",
    "bots = [ manager._spheros[name] for name in activeBotNames ]"
   ]
  },
  {
   "cell_type": "code",
   "execution_count": 169,
   "metadata": {},
   "outputs": [
    {
     "name": "stdout",
     "output_type": "stream",
     "text": [
      "Sphero-RYR try 0\n",
      "An exception of type IOError occurred. Arguments:\n",
      "('A connection attempt failed because the connected party did not properly respond after a period of time, or established connection failed because connected host has failed to respond.\\r\\n',)\n",
      "Sphero-RYR try 1\n",
      "Connected!\n",
      "Sphero-GRY try 0\n",
      "Connected!\n",
      "Sphero-YPR try 0\n",
      "Connected!\n",
      "Sphero-RWR try 0\n",
      "An exception of type IOError occurred. Arguments:\n",
      "('A connection attempt failed because the connected party did not properly respond after a period of time, or established connection failed because connected host has failed to respond.\\r\\n',)\n",
      "Sphero-RWR try 1\n",
      "Connected!\n",
      "Sphero-ORG try 0\n",
      "An exception of type IOError occurred. Arguments:\n",
      "('A connection attempt failed because the connected party did not properly respond after a period of time, or established connection failed because connected host has failed to respond.\\r\\n',)\n",
      "Sphero-ORG try 1\n",
      "Connected!\n",
      "Sphero-RPB try 0\n",
      "Connected!\n",
      "Sphero-YYP try 0\n",
      "An exception of type IOError occurred. Arguments:\n",
      "('A connection attempt failed because the connected party did not properly respond after a period of time, or established connection failed because connected host has failed to respond.\\r\\n',)\n",
      "Sphero-YYP try 1\n",
      "An exception of type IOError occurred. Arguments:\n",
      "('A connection attempt failed because the connected party did not properly respond after a period of time, or established connection failed because connected host has failed to respond.\\r\\n',)\n",
      "Sphero-YYP try 2\n",
      "Connected!\n"
     ]
    }
   ],
   "source": [
    "# Connect team to computer\n",
    "connect_team(bots)"
   ]
  },
  {
   "cell_type": "code",
   "execution_count": 170,
   "metadata": {},
   "outputs": [
    {
     "name": "stdout",
     "output_type": "stream",
     "text": [
      "Sphero-RYR Battery OK | 7.31\n",
      "Sphero-GRY Battery OK | 7.33\n",
      "Sphero-YPR Battery OK | 7.27\n",
      "Sphero-RWR Battery OK | 7.3\n",
      "NOTE! Removes wrong byte in start of header! Byte:  117\n",
      "NOTE! Removes wrong byte in start of header! Byte:  62\n",
      "Sphero-ORG Battery OK | 7.3\n",
      "NOTE! Removes wrong byte in start of header! Byte:  117\n",
      "NOTE! Removes wrong byte in start of header! Byte:  62\n",
      "Sphero-RPB Battery OK | 7.38\n",
      "NOTE! Removes wrong byte in start of header! Byte:  117\n",
      "NOTE! Removes wrong byte in start of header! Byte:  62\n",
      "Sphero-YYP Battery OK | 7.3\n"
     ]
    }
   ],
   "source": [
    "# Make sure everyone's battery is above 7 volts. Below that they turn off.\n",
    "# Get roughly 2-3 hours of ontime (not continuous)\n",
    "print_team_status(bots)"
   ]
  },
  {
   "cell_type": "code",
   "execution_count": 59,
   "metadata": {},
   "outputs": [],
   "source": [
    "# Manage sphero colors consistently\n",
    "colors = [\n",
    "    [255, 0 , 0], # R\n",
    "    [0, 255 , 0], # G\n",
    "    [0, 0 , 255], # B\n",
    "    \n",
    "    [255, 0, 255],   # Purple\n",
    "    [255, 255, 0],   # Yellow\n",
    "    [255, 133, 0],   # Orange\n",
    "    [255, 192, 203], # pink\n",
    "]\n",
    "\n",
    "# Colors to cut down\n",
    "offCols = [ [0, 0, 0] for bot in bots]\n",
    "\n",
    "POWER_SAVE = False\n",
    "\n",
    "# Control Brightness\n",
    "if POWER_SAVE:\n",
    "    for color in colors:\n",
    "        for i, val in enumerate(color):\n",
    "            color[i] /= 2\n",
    "\n",
    "# Initialization for any team\n",
    "set_team_back_led(bots, True)\n"
   ]
  },
  {
   "cell_type": "code",
   "execution_count": 148,
   "metadata": {
    "collapsed": true
   },
   "outputs": [],
   "source": [
    "# illuminate robots from 1 to 7, one at a time so we know which one will receive commands first\n",
    "highlight_team(bots, 1) # keyword = duration to wait in between pulses"
   ]
  },
  {
   "cell_type": "code",
   "execution_count": 172,
   "metadata": {
    "collapsed": true
   },
   "outputs": [],
   "source": [
    "# Turn colors off to save power\n",
    "set_team_colors(bots, offCols)"
   ]
  },
  {
   "cell_type": "markdown",
   "metadata": {},
   "source": [
    "Now, we must calibrate each robot's sense of direction\n"
   ]
  },
  {
   "cell_type": "code",
   "execution_count": 60,
   "metadata": {},
   "outputs": [],
   "source": [
    "# \n",
    "highlight_bot(bots, 6)"
   ]
  },
  {
   "cell_type": "code",
   "execution_count": 127,
   "metadata": {},
   "outputs": [
    {
     "data": {
      "text/plain": [
       "<sphero.response.Response at 0x4da4668>"
      ]
     },
     "execution_count": 127,
     "metadata": {},
     "output_type": "execute_result"
    }
   ],
   "source": [
    "bots[4].roll(70, )"
   ]
  },
  {
   "cell_type": "code",
   "execution_count": 173,
   "metadata": {
    "collapsed": true
   },
   "outputs": [],
   "source": [
    "# This process needs to be tuned by hand each time the robots fall asleep / get turned on!\n",
    "# It would be nice to calibrate with the camera's help, but it's also ok if there isn't time.\n",
    "# Eventually these offsets could be moved to properties of the sphero object.\n",
    "# Recommend setting the 0 direction to be parallel to one of the walls.\n",
    "\n",
    "botAngleOffsets = [\n",
    "    115, \n",
    "    115, \n",
    "    95, \n",
    "    112, \n",
    "    125, \n",
    "    73, \n",
    "    118   \n",
    "]\n",
    "\n",
    "nullOffsets = [0 for bot in bots]\n",
    "set_team_colors(bots, colors)"
   ]
  },
  {
   "cell_type": "code",
   "execution_count": 129,
   "metadata": {
    "collapsed": true
   },
   "outputs": [],
   "source": [
    "# for i,offset in enumerate(botAngleOffsets):\n",
    "#     bots[i].set_heading(offset)\n",
    "    "
   ]
  },
  {
   "cell_type": "code",
   "execution_count": 130,
   "metadata": {
    "collapsed": true
   },
   "outputs": [],
   "source": [
    "for i in range(7):\n",
    "    time.sleep(1)\n",
    "    highlight_bot(bots, i)\n",
    "    "
   ]
  },
  {
   "cell_type": "code",
   "execution_count": 167,
   "metadata": {
    "run_control": {
     "marked": true
    }
   },
   "outputs": [
    {
     "name": "stdout",
     "output_type": "stream",
     "text": [
      "Dispatch Time 0.438999891281\n"
     ]
    }
   ],
   "source": [
    "# Demo Reel: show basic polygon\n",
    "\n",
    "corners = 4\n",
    "angles = [ i * (360 / corners) for i in range(corners)]\n",
    "\n",
    "# angles = [180]\n",
    "\n",
    "TIMEOUT = 1500\n",
    "set_team_timeout(bots, TIMEOUT)\n",
    "for angle in angles:\n",
    "    roll_sphero_team_synchronized(bots, 80, angle, botAngleOffsets, TIMEOUT)   "
   ]
  },
  {
   "cell_type": "code",
   "execution_count": null,
   "metadata": {},
   "outputs": [],
   "source": [
    "# Demo Reel: Laps Back and Forth\n",
    "laps = 2\n",
    "corners = 2\n",
    "angles = [ i * (360 / corners) for i in range(corners)]\n",
    "\n",
    "# angles = [180]\n",
    "\n",
    "TIMEOUT = 4000\n",
    "set_team_timeout(bots, TIMEOUT)\n",
    "for lap in range(laps):\n",
    "    for angle in angles:\n",
    "        roll_sphero_team_synchronized(bots, 100, angle, botAngleOffsets, TIMEOUT)   "
   ]
  },
  {
   "cell_type": "code",
   "execution_count": null,
   "metadata": {
    "collapsed": true
   },
   "outputs": [],
   "source": [
    "# Demo Reel: Basic Push\n",
    "# Strategy: rewind and repush each time?\n",
    "\n",
    "angles = [0]\n",
    "TIMEOUT = 4000 # milliseconds of pushing\n",
    "set_team_timeout(bots, TIMEOUT)\n",
    "for angle in angles:\n",
    "    roll_sphero_team_synchronized(bots, 80, angle, botAngleOffsets, TIMEOUT)   "
   ]
  },
  {
   "cell_type": "code",
   "execution_count": null,
   "metadata": {},
   "outputs": [],
   "source": [
    "# Demo Reel: Advanced Push\n",
    "# Strategy: rewind and repush each time?\n",
    "\n",
    "ANGLES =   [0, 180]\n",
    "TIMEOUTS = [3000, 2000] # milliseconds of pushing\n",
    "\n",
    "for i in range(3): # number of cycles to repush\n",
    "for timeout in TIMEOUTS:\n",
    "    \n",
    "    set_team_timeout(bots, timeout)\n",
    "    for angle in angles:\n",
    "        roll_sphero_team_synchronized(bots, 80, angle, botAngleOffsets, TIMEOUT)   "
   ]
  }
 ],
 "metadata": {
  "anaconda-cloud": {},
  "kernelspec": {
   "display_name": "Python [default]",
   "language": "python",
   "name": "python2"
  },
  "language_info": {
   "codemirror_mode": {
    "name": "ipython",
    "version": 2
   },
   "file_extension": ".py",
   "mimetype": "text/x-python",
   "name": "python",
   "nbconvert_exporter": "python",
   "pygments_lexer": "ipython2",
   "version": "2.7.12"
  }
 },
 "nbformat": 4,
 "nbformat_minor": 1
}
