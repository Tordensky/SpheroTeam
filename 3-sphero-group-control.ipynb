{
 "cells": [
  {
   "cell_type": "markdown",
   "metadata": {},
   "source": [
    "### Group Controller\n",
    "\n",
    "- Load in a roster of Spheros\n",
    "- Connect to each one and calibrate their position\n",
    "- Perform Orchestration\n",
    "\n"
   ]
  },
  {
   "cell_type": "code",
   "execution_count": null,
   "metadata": {
    "collapsed": true
   },
   "outputs": [],
   "source": [
    "# General Python Helper Functions\n",
    "def readJsonFile(filename):\n",
    "    '''\n",
    "        Read a JSON file into a python dict \n",
    "    '''\n",
    "    with open(filename) as data_file:    \n",
    "        data = json.load(data_file)\n",
    "    return data"
   ]
  },
  {
   "cell_type": "code",
   "execution_count": null,
   "metadata": {
    "collapsed": true
   },
   "outputs": [],
   "source": [
    "# Sphero imports\n",
    "import sphero\n",
    "\n",
    "# Controller Functions\n",
    "import time\n",
    "import os\n",
    "import json\n",
    "from pprint import pprint"
   ]
  },
  {
   "cell_type": "code",
   "execution_count": null,
   "metadata": {},
   "outputs": [],
   "source": [
    "# Use sphero app to get sphero names and MAC addresses, and use those address to populate 'roster.json'\n",
    "PROJ_ROOT = os.getcwd()\n",
    "ROSTER = os.path.join(PROJ_ROOT, \"roster.json\")\n",
    "roster = readJsonFile(ROSTER)\n",
    "pprint(roster)"
   ]
  },
  {
   "cell_type": "code",
   "execution_count": null,
   "metadata": {
    "collapsed": true
   },
   "outputs": [],
   "source": [
    "# Class for managing multiple spheros\n",
    "manager = sphero.SpheroManager()"
   ]
  },
  {
   "cell_type": "code",
   "execution_count": null,
   "metadata": {},
   "outputs": [],
   "source": [
    "# Initialize Sphero manager with addresses of local spheros\n",
    "manager._name_cache = roster\n",
    "\n",
    "# Number of spheros to connect to\n",
    "NBOTS = len(roster.keys())\n",
    "print(NBOTS)"
   ]
  },
  {
   "cell_type": "code",
   "execution_count": null,
   "metadata": {},
   "outputs": [],
   "source": [
    "# This searches the system cache for all of the robots. \n",
    "# It doesn't need the spheros to be turned on yet.\n",
    "def on_new_sphero(device, NBOTS=NBOTS):\n",
    "    \"\"\"\n",
    "        NBOTS = number of robots in the flock\n",
    "        Note that this presently refers to a global \"manager\" object. This method should be moved inside the native\n",
    "        library later.\n",
    "    \"\"\"\n",
    "    print \"Found \" + device.bt_name\n",
    "    \n",
    "    # Terminate search when all expected bots are found\n",
    "    if len(manager._spheros.keys()) == NBOTS:\n",
    "        print \"Found all {} spheros\".format(NBOTS)\n",
    "        manager.stop_auto_search()\n",
    "                 \n",
    "# Callback: what to do when a new sphero is found\n",
    "manager.set_sphero_found_cb(on_new_sphero)\n",
    "\n",
    "# Construct list of devices in system bluetooth collection\n",
    "# Your bluetooth network cannot contain anything with name of \"Sphero-\" prefix\n",
    "devices = []\n",
    "manager.start_auto_search()\n",
    "\n",
    "# Wait for all spheros to be found before running the next cell"
   ]
  },
  {
   "cell_type": "code",
   "execution_count": null,
   "metadata": {},
   "outputs": [],
   "source": [
    "devices = []\n",
    "# Verify that these are the robots we are looking for\n",
    "for name, device in manager._spheros.iteritems():\n",
    "    print \"{}: {}\".format(name, device.bt_addr)\n",
    "    devices.append(device) "
   ]
  },
  {
   "cell_type": "code",
   "execution_count": null,
   "metadata": {
    "collapsed": true
   },
   "outputs": [],
   "source": [
    "# Modify this list based on which spheros you actually have available at the moment.\n",
    "\n",
    "activeBotNames = [\n",
    "    \"Sphero-RYR\",\n",
    "    \"Sphero-GRY\",\n",
    "    \"Sphero-YPR\",\n",
    "    \"Sphero-RWR\",\n",
    "    \"Sphero-ORG\",\n",
    "    \"Sphero-RPB\",\n",
    "    \"Sphero-YYP\"\n",
    "]"
   ]
  },
  {
   "cell_type": "markdown",
   "metadata": {},
   "source": [
    "The following were written between 4/15 - 4/22 to simplify multiple robot control.\n",
    "\n"
   ]
  },
  {
   "cell_type": "code",
   "execution_count": null,
   "metadata": {
    "collapsed": true,
    "run_control": {
     "marked": true
    }
   },
   "outputs": [],
   "source": [
    "# Bluetooth Initial / Closing communication\n",
    "    \n",
    "def connect_team(bots):\n",
    "    for i, bot in enumerate(bots):  \n",
    "        bot.disconnect()\n",
    "        bot.connect()\n",
    "        \n",
    "def disconnect_team(bots):\n",
    "    for i, bot in enumerate(bots):  \n",
    "        bot.disconnect()\n",
    "\n",
    "# Light control\n",
    "def set_team_back_led(bots, status):\n",
    "    # Bright if true, dim if false\n",
    "    status = 0xaa if status else 0x00\n",
    "    \n",
    "    for bot in bots:  \n",
    "        bot.set_back_led_output(status)\n",
    "        \n",
    "def set_team_colors(bots, colors):\n",
    "    for i, bot in enumerate(bots):  \n",
    "        colorTriple = colors[i]\n",
    "        bot.set_rgb(colorTriple[0], colorTriple[1], colorTriple[2])\n",
    "    \n",
    "\n",
    "def highlight_bot(bots, iBot):\n",
    "    for i, bot in enumerate(bots):\n",
    "        if i == iBot:\n",
    "            bot.set_rgb(255, 0, 0)\n",
    "        else:\n",
    "            bot.set_rgb(0, 0, 0)\n",
    "            \n",
    "def highlight_team(bots, duration=1):\n",
    "    for i, bot in enumerate(bots):\n",
    "        highlight_bot(bots, i)\n",
    "        time.sleep(duration)\n",
    "    \n",
    "# Diagnostics\n",
    "def print_team_status(bots):\n",
    "    for bot in bots:\n",
    "        response = bot.get_power_state()\n",
    "        print \"{} {} | {}\".format(bot.bt_name, response.power_state, response.bat_voltage)\n",
    "    \n",
    "# MOVEMENT   \n",
    "def roll_sphero(bot, speed, heading, offset):\n",
    "    \"\"\"\n",
    "        Roll robot in in proper direction at a given speed\n",
    "    \"\"\"\n",
    "    bot.roll(speed, normalize_angle(heading + offset))\n",
    "    \n",
    "def set_team_timeout(bots, motionTimeout=2000):\n",
    "    \"\"\"\n",
    "        How long robot should apply motor force for.\n",
    "    \"\"\"\n",
    "    for bot in bots:\n",
    "        bot.set_motion_timeout(motionTimeout)\n",
    "\n",
    "        \n",
    "def roll_sphero_team_synchronized(bots, speed, heading, offsets,motionTimeout=2000):\n",
    "    \"\"\"\n",
    "        Move all robots in same direction at shared speed\n",
    "    \"\"\"\n",
    "    assert(len(bots) == len(offsets))\n",
    "    \n",
    "    tStart = time.time()\n",
    "    for i, bot in enumerate(bots):\n",
    "        roll_sphero(bot, speed, heading, offsets[i])\n",
    "    tEnd = time.time()\n",
    "    \n",
    "    print(\"Dispatch Time {}\".format(tEnd - tStart) )\n",
    "    time.sleep(motionTimeout / 1000)  # wait for bots to finish rolling\n",
    "    \n",
    "# Math Functions\n",
    "def normalize_angle(angle):\n",
    "    if angle < 0:\n",
    "        return 360 + angle\n",
    "    elif angle > 359:\n",
    "        return angle - 360\n",
    "    else:\n",
    "        return angle"
   ]
  },
  {
   "cell_type": "markdown",
   "metadata": {},
   "source": [
    "Now, provide a demo application of the above team control methods.\n"
   ]
  },
  {
   "cell_type": "code",
   "execution_count": null,
   "metadata": {
    "collapsed": true
   },
   "outputs": [],
   "source": [
    "# Test notes 4/22\n",
    "bots = [ manager._spheros[name] for name in activeBotNames ]"
   ]
  },
  {
   "cell_type": "code",
   "execution_count": null,
   "metadata": {},
   "outputs": [],
   "source": [
    "# Connect team to computer\n",
    "connect_team(bots)"
   ]
  },
  {
   "cell_type": "code",
   "execution_count": null,
   "metadata": {},
   "outputs": [],
   "source": [
    "# Make sure everyone's battery is above 7 volts. Below that they turn off.\n",
    "# Get roughly 2-3 hours of ontime (not continuous)\n",
    "print_team_status(bots)"
   ]
  },
  {
   "cell_type": "code",
   "execution_count": null,
   "metadata": {},
   "outputs": [],
   "source": [
    "# Manage sphero colors consistently\n",
    "colors = [\n",
    "    [255, 0 , 0], # R\n",
    "    [0, 255 , 0], # G\n",
    "    [0, 0 , 255], # B\n",
    "    \n",
    "    [255, 0, 255],   # Purple\n",
    "    [255, 255, 0],   # Yellow\n",
    "    [255, 133, 0],   # Orange\n",
    "    [255, 192, 203], # pink\n",
    "]\n",
    "\n",
    "# Colors to cut down\n",
    "offCols = [ [0, 0, 0] for bot in bots]\n",
    "\n",
    "POWER_SAVE = False\n",
    "\n",
    "\n",
    "# Control Brightness\n",
    "if POWER_SAVE:\n",
    "    for color in colors:\n",
    "        for i, val in enumerate(color):\n",
    "            color[i] /= 2\n",
    "\n",
    "# Initialization for any team\n",
    "set_team_back_led(bots, True)"
   ]
  },
  {
   "cell_type": "code",
   "execution_count": null,
   "metadata": {
    "collapsed": true
   },
   "outputs": [],
   "source": [
    "# illuminate robots from 1 to 7, one at a time so we know which one will receive commands first\n",
    "highlight_team(bots, 1) # keyword = duration to wait in between pulses"
   ]
  },
  {
   "cell_type": "code",
   "execution_count": null,
   "metadata": {
    "collapsed": true
   },
   "outputs": [],
   "source": [
    "# Turn colors off to save power\n",
    "set_team_colors(bots, offCols)"
   ]
  },
  {
   "cell_type": "markdown",
   "metadata": {},
   "source": [
    "Now, we must calibrate each robot's sense of direction\n"
   ]
  },
  {
   "cell_type": "code",
   "execution_count": null,
   "metadata": {},
   "outputs": [],
   "source": [
    "# Use this to calculate offsets. Repeatedly run this cell and the next cell to populate \"botAngleOffsets\"\n",
    "# appropriately in 2 cells from here. Using the offsets may or may not be preferable to using the offsets to tweak\n",
    "# \"set heading\" each time.\n",
    "highlight_bot(bots, 1)"
   ]
  },
  {
   "cell_type": "code",
   "execution_count": null,
   "metadata": {},
   "outputs": [],
   "source": [
    "bots[0].roll(70, 60)"
   ]
  },
  {
   "cell_type": "code",
   "execution_count": null,
   "metadata": {
    "collapsed": true
   },
   "outputs": [],
   "source": [
    "# This process needs to be tuned by hand each time the robots fall asleep / get turned on!\n",
    "# It would be nice to calibrate with the camera's help, but it's also ok if there isn't time.\n",
    "# Eventually these offsets could be moved to properties of the sphero object.\n",
    "# Recommend setting the 0 direction to be parallel to one of the walls.\n",
    "\n",
    "botAngleOffsets = [\n",
    "    115, \n",
    "    115, \n",
    "    95, \n",
    "    112, \n",
    "    125, \n",
    "    73, \n",
    "    118   \n",
    "]\n",
    "\n",
    "# 2-robot demo\n",
    "botAngleOffsets = [\n",
    "    240, 240    \n",
    "]\n",
    "\n",
    "nullOffsets = [0 for bot in bots]\n",
    "set_team_colors(bots, colors)"
   ]
  },
  {
   "cell_type": "code",
   "execution_count": null,
   "metadata": {},
   "outputs": [],
   "source": [
    "highlight_team(bots)"
   ]
  },
  {
   "cell_type": "code",
   "execution_count": null,
   "metadata": {
    "run_control": {
     "marked": true
    }
   },
   "outputs": [],
   "source": [
    "# Demo Reel: show basic polygon\n",
    "\n",
    "corners = 3\n",
    "angles = [ i * (360 / corners) for i in range(corners)]\n",
    "\n",
    "# angles = [180]\n",
    "\n",
    "TIMEOUT = 1500\n",
    "\n",
    "set_team_timeout(bots, TIMEOUT)\n",
    "for angle in angles:\n",
    "    roll_sphero_team_synchronized(bots, 70, angle, botAngleOffsets, TIMEOUT)   \n",
    "    "
   ]
  },
  {
   "cell_type": "code",
   "execution_count": null,
   "metadata": {},
   "outputs": [],
   "source": [
    "# Demo Reel: Laps Back and Forth\n",
    "laps = 2\n",
    "corners = 2\n",
    "angles = [ i * (360 / corners) for i in range(corners)]\n",
    "\n",
    "# angles = [180]\n",
    "\n",
    "TIMEOUT = 2000\n",
    "\n",
    "set_team_timeout(bots, TIMEOUT)\n",
    "for lap in range(laps):\n",
    "    for angle in angles:\n",
    "        roll_sphero_team_synchronized(bots, 100, angle, botAngleOffsets, TIMEOUT)   "
   ]
  },
  {
   "cell_type": "code",
   "execution_count": null,
   "metadata": {},
   "outputs": [],
   "source": [
    "# Demo Reel: Basic Push\n",
    "# Strategy: rewind and repush each time?\n",
    "\n",
    "angles = [180]\n",
    "TIMEOUT = 4000 # milliseconds of pushing\n",
    "\n",
    "set_team_timeout(bots, TIMEOUT)\n",
    "for angle in angles:\n",
    "    roll_sphero_team_synchronized(bots, 90, angle, botAngleOffsets, TIMEOUT)   \n",
    "    "
   ]
  },
  {
   "cell_type": "code",
   "execution_count": null,
   "metadata": {},
   "outputs": [],
   "source": [
    "# Demo Reel: Advanced Blind Push\n",
    "# Strategy: rewind and repush each time?\n",
    "\n",
    "angles   = [0, 180]\n",
    "TIMEOUTS = [2700, 1500] # milliseconds of pushing: spend more time pushing forward than backwards\n",
    "\n",
    "for i in range(3): # number of cycles to repush\n",
    "    for timeout in TIMEOUTS:\n",
    "        set_team_timeout(bots, timeout)\n",
    "        for angle in angles:\n",
    "            roll_sphero_team_synchronized(bots, 80, angle, botAngleOffsets, TIMEOUT)        "
   ]
  }
 ],
 "metadata": {
  "anaconda-cloud": {},
  "kernelspec": {
   "display_name": "Python [default]",
   "language": "python",
   "name": "python2"
  },
  "language_info": {
   "codemirror_mode": {
    "name": "ipython",
    "version": 2
   },
   "file_extension": ".py",
   "mimetype": "text/x-python",
   "name": "python",
   "nbconvert_exporter": "python",
   "pygments_lexer": "ipython2",
   "version": "2.7.12"
  }
 },
 "nbformat": 4,
 "nbformat_minor": 1
}
