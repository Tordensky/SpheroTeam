{
 "cells": [
  {
   "cell_type": "markdown",
   "metadata": {},
   "source": [
    "In which I attempt to use the Camera controller to play nicely with the camera despite being agnostic about the units.\n",
    "\n",
    "In general, if there is a fatal bluetooth error, disconnect and then reconnect to the swarm.\n",
    "\n"
   ]
  },
  {
   "cell_type": "code",
   "execution_count": 2,
   "metadata": {
    "collapsed": true
   },
   "outputs": [],
   "source": [
    "import sphero\n",
    "\n",
    "# Controller Libraries\n",
    "import time\n",
    "import os\n",
    "import json\n",
    "from pprint import pprint\n",
    "import math"
   ]
  },
  {
   "cell_type": "code",
   "execution_count": 3,
   "metadata": {
    "collapsed": true
   },
   "outputs": [],
   "source": [
    "# Tracking code\n",
    "import cv2\n",
    "\n",
    "# Modify from Simon Tordensky's Base \n",
    "from tracker.trackingfilter import FilterSpheroBlueCover, FilterGlow\n",
    "from tracker.traceable import TraceableObject\n",
    "from tracker.trackerbase import ColorTracker\n",
    "\n",
    "from util import Vector2D"
   ]
  },
  {
   "cell_type": "code",
   "execution_count": 4,
   "metadata": {
    "collapsed": true
   },
   "outputs": [],
   "source": [
    "from SpheroController.tracablesphero import TraceableSphero"
   ]
  },
  {
   "cell_type": "code",
   "execution_count": 5,
   "metadata": {
    "collapsed": true
   },
   "outputs": [],
   "source": [
    "# Library written to help with tracking\n",
    "import SpheroTeam\n",
    "from SpheroTeam.teamutil import readJsonFile, normalize_angle, angle_between_points"
   ]
  },
  {
   "cell_type": "markdown",
   "metadata": {},
   "source": [
    "## Part 1: Connecting to the Sphero \"Team\"\n",
    "\n",
    "Requirements for configuration files:\n",
    "\n",
    "\n",
    "\n",
    "### Populating `roster.json`\n",
    "- Use the Sphero iPhone app to get each robot's bluetooth name and MAC address.\n",
    "    - Bluetooth Name is the name of the robot when connected to your phone (i.e. Sphero-RGB)\n",
    "    - MAC address can be determined by going to the options menu of the robot.\n",
    "- You could also use the SpheroManager's discovery options to get your robots, but I don't recommend it if you're going to be using the same robots again and again.\n",
    "\n",
    "### Populating `config.json`\n",
    "\n",
    "Pick a standard set of colors to use with your fleet, specified with RGB notation\n"
   ]
  },
  {
   "cell_type": "code",
   "execution_count": 6,
   "metadata": {
    "collapsed": true
   },
   "outputs": [],
   "source": [
    "# Config management\n",
    "PROJ_ROOT = os.getcwd()\n",
    "CONFIG = os.path.join(PROJ_ROOT, \"config.json\")"
   ]
  },
  {
   "cell_type": "code",
   "execution_count": 7,
   "metadata": {
    "collapsed": true
   },
   "outputs": [],
   "source": [
    "# Class for managing multiple spheros\n",
    "manager = sphero.SpheroManager()\n",
    "\n",
    "# Initialize Sphero manager with addresses of local spheros\n",
    "manager= SpheroTeam.initialize.load_sphero_roster(manager, CONFIG)"
   ]
  },
  {
   "cell_type": "code",
   "execution_count": 8,
   "metadata": {},
   "outputs": [
    {
     "name": "stdout",
     "output_type": "stream",
     "text": [
      "Sphero-RPB: 68:86:E7:05:12:26\n",
      "Sphero-YPR: 68:86:E7:09:4E:74\n",
      "Sphero-GRY: 68:86:E7:09:A9:28\n",
      "Sphero-YYP: 68:86:E7:05:0C:4B\n",
      "Sphero-RWR: 68:86:E7:09:A2:FE\n",
      "Sphero-ORG: 68:86:E7:09:A6:FE\n",
      "Sphero-RYR: 68:86:E7:05:19:AD\n"
     ]
    }
   ],
   "source": [
    "# Verify that proper robots have been added\n",
    "for name, device in manager._spheros.iteritems():\n",
    "    print \"{}: {}\".format(name, device.bt_addr)"
   ]
  },
  {
   "cell_type": "code",
   "execution_count": 9,
   "metadata": {
    "collapsed": true
   },
   "outputs": [],
   "source": [
    "# Manually pick out the robots to include by specifying their abbreviation.\n",
    "# example: bots = [devices[4], devices[1]]\n",
    "activeBots = ['YPR']"
   ]
  },
  {
   "cell_type": "code",
   "execution_count": 10,
   "metadata": {},
   "outputs": [
    {
     "name": "stdout",
     "output_type": "stream",
     "text": [
      "Sphero-YPR Try #0\n",
      "IOError Occurred. Trying to connect again.\n",
      "Sphero-YPR Try #1\n",
      "Connected!\n"
     ]
    }
   ],
   "source": [
    "# Connect to these robots\n",
    "bots = SpheroTeam.initialize.connect_sphero_team(manager, activeBots)"
   ]
  },
  {
   "cell_type": "code",
   "execution_count": 11,
   "metadata": {
    "collapsed": true
   },
   "outputs": [],
   "source": [
    "# All robots start with lights off to save power\n",
    "for bot in bots:\n",
    "    bot.set_rgb(0,0,0)"
   ]
  },
  {
   "cell_type": "code",
   "execution_count": 12,
   "metadata": {},
   "outputs": [
    {
     "name": "stdout",
     "output_type": "stream",
     "text": [
      "Sphero-YPR:Battery OK | 8.01 V\n"
     ]
    }
   ],
   "source": [
    "# Check team power state\n",
    "SpheroTeam.print_team_status(bots)"
   ]
  },
  {
   "cell_type": "markdown",
   "metadata": {},
   "source": [
    "### Part 2: Integrating the Camera\n"
   ]
  },
  {
   "cell_type": "code",
   "execution_count": 13,
   "metadata": {},
   "outputs": [
    {
     "data": {
      "text/plain": [
       "(640, 480)"
      ]
     },
     "execution_count": 13,
     "metadata": {},
     "output_type": "execute_result"
    }
   ],
   "source": [
    "#Track Camera Size: \n",
    "tracker = ColorTracker()\n",
    "\n",
    "# Check dimensions of your field. We're using the Logitech C920\n",
    "tracker.image_size"
   ]
  },
  {
   "cell_type": "code",
   "execution_count": 14,
   "metadata": {
    "collapsed": true
   },
   "outputs": [],
   "source": [
    "# Use blue because it's the most reliable color filter\n",
    "traceable_blue = TraceableObject(\"BLUE\")\n",
    "traceable_blue.filter = FilterSpheroBlueCover()"
   ]
  },
  {
   "cell_type": "code",
   "execution_count": 15,
   "metadata": {
    "collapsed": true
   },
   "outputs": [],
   "source": [
    "# For Debugging\n",
    "def display_current_view(tracker):\n",
    "    image = tracker.get_video_frame()\n",
    "    cv2.imshow(\"img\", image)\n",
    "    cv2.waitKey(0)\n",
    "    \n",
    "    cv2.destroyAllWindows()\n",
    "    \n",
    "def display_current_video(tracker):\n",
    "    \"\"\"\n",
    "        Displays current video feed, press 'q' to escape\n",
    "    \"\"\"\n",
    "    cam = tracker.cam\n",
    "    while(True):\n",
    "        # Capture frame-by-frame\n",
    "        ret, frame = cam.read()\n",
    "\n",
    "        # Display the resulting frame\n",
    "        cv2.imshow('frame', frame)\n",
    "\n",
    "        if cv2.waitKey(1) & 0xFF == ord('q'):\n",
    "            break\n",
    "            \n",
    "    cv2.destroyAllWindows()\n",
    "\n",
    "    \n",
    "# For Navigation\n",
    "def get_bot_position(bot, traceable_object, tracker, samples=3, debug=False):  \n",
    "    xSamples = []\n",
    "    ySamples = []\n",
    "\n",
    "#     traceable_object.screen_size = tracker.image_size\n",
    "     \n",
    "    for sample in range(samples):\n",
    "        image = tracker.get_video_frame()\n",
    "        timestamp = time.time()\n",
    "        \n",
    "        if sample > 0: # ignore the first sample\n",
    "            x, y = tracker._find_traceable_in_image(image, traceable_object) # side effect: adds mask to tracker  \n",
    "            if x:\n",
    "                xSamples.append(x)\n",
    "            if y:\n",
    "                ySamples.append(y)\n",
    "\n",
    "            traceable_object.add_tracking(Vector2D(x, y), timestamp)\n",
    "\n",
    "    if debug:      \n",
    "        display_current_view(tracker)\n",
    "    print \"{} | {} \".format(xSamples, ySamples)\n",
    "        \n",
    "#     return traceable_object.pos.x, traceable_object.pos.y\n",
    "    return (sum(xSamples) / len(xSamples)), (sum(ySamples) / len(ySamples))\n",
    "\n",
    "\n",
    "def calibrate_bot_direction(bot, traceable_object_list, traceable_color, tracker, debug=False):\n",
    "    \"\"\"\n",
    "        Routine for making all robots line up in the same direction\n",
    "        \n",
    "    \"\"\"\n",
    "#     traceable_object = traceable_object_list[0]\n",
    "    TIMEOUT = 1500  # in MILLISECONDS\n",
    "    \n",
    "    \n",
    "    bot.set_rgb(traceable_color[0], traceable_color[1], traceable_color[2])\n",
    "    bot.set_motion_timeout(TIMEOUT)\n",
    "    startX, startY =  get_bot_position(bot, traceable_object_list[0], tracker)\n",
    "\n",
    "#     traceable_object_list = tracker.track_object(traceable_object_list)\n",
    "#     startX, startY = traceable_object_list[0].pos.x, traceable_object_list[0].pos.y\n",
    "    cv2.waitKey(250)  # not sure how long this has to be\n",
    "    \n",
    "    \n",
    "    if (startX is None) or (startY is None):\n",
    "        print(\"Error: Robot not in view\")\n",
    "        return -1\n",
    "    \n",
    "    print \"Start ({},{})\".format( startX, startY)\n",
    "\n",
    "    bot.roll(60, 0)\n",
    "    time.sleep(TIMEOUT / 1000) \n",
    "\n",
    "    endX, endY       =  get_bot_position(bot, traceable_object_list[0], tracker)\n",
    "#     traceable_object_list = tracker.track_object(traceable_object_list)\n",
    "#     endX, endY = traceable_object_list[0].pos.x, traceable_object_list[0].pos.y\n",
    "      \n",
    "    print \"End   ({},{})\".format(   endX, endY)\n",
    "    offset = normalize_angle(angle_between_points(startX, startY, endX, endY))\n",
    "    \n",
    "\n",
    "    print \"Angle {}\".format(offset) \n",
    "#     bot.roll(50, offset)\n",
    "#     time.sleep(1.5)\n",
    "#     bot.set_heading(offset)\n",
    "    \n",
    "    \n",
    "    # Turn lights off \n",
    "    \n",
    "#     bot.set_rgb(0, 0, 0)\n",
    "    \n",
    "    return offset\n",
    "\n",
    "# Video display\n",
    "def display_tracking_window(traceable_object_list, exitKey = \"q\"):\n",
    "    \"\"\"\n",
    "        Given a list of iterables, track all objects in that list.\n",
    "        Press exitKey to quit the window\n",
    "    \"\"\"\n",
    "    \n",
    "    while(True):\n",
    "        #     tracklist = tracker.track_objects(tracklist)\n",
    "\n",
    "        tracker.track_objects(tracklist)\n",
    "        cv2.waitKey(1)\n",
    "\n",
    "        if cv2.waitKey(1) & 0xFF == ord(exitKey):\n",
    "            break \n",
    "    cv2.destroyAllWindows()\n"
   ]
  },
  {
   "cell_type": "code",
   "execution_count": 16,
   "metadata": {
    "collapsed": true
   },
   "outputs": [],
   "source": [
    "# Print what the camera is currently seeing as a debugging step\n",
    "# display_current_view(tracker)"
   ]
  },
  {
   "cell_type": "code",
   "execution_count": 17,
   "metadata": {
    "collapsed": true
   },
   "outputs": [],
   "source": [
    "# Check which bot is which\n",
    "SpheroTeam.highlight_team(bots)"
   ]
  },
  {
   "cell_type": "code",
   "execution_count": 18,
   "metadata": {},
   "outputs": [
    {
     "name": "stdout",
     "output_type": "stream",
     "text": [
      "Sphero-YPR:Battery OK | 8.01 V\n"
     ]
    }
   ],
   "source": [
    "# Check which bots are ready\n",
    "SpheroTeam.print_team_status(bots)\n"
   ]
  },
  {
   "cell_type": "code",
   "execution_count": 19,
   "metadata": {
    "collapsed": true
   },
   "outputs": [],
   "source": [
    "tracklist = [traceable_blue]"
   ]
  },
  {
   "cell_type": "code",
   "execution_count": 34,
   "metadata": {},
   "outputs": [
    {
     "name": "stdout",
     "output_type": "stream",
     "text": [
      "[449, 449] | [283, 283] \n",
      "Start (449,283)\n",
      "[421, 416] | [294, 296] \n",
      "End   (418,295)\n",
      "Angle 158.838740183\n",
      "Next Robotd\n"
     ]
    }
   ],
   "source": [
    "offsets = []\n",
    "for bot in bots:\n",
    "    bot.set_rgb(0, 0, 255)\n",
    "    time.sleep(2)\n",
    "    \n",
    "    offsets.append(calibrate_bot_direction(bot, tracklist, [0, 0, 255], tracker, True))\n",
    "    \n",
    "    bot.set_rgb(0,0,0)\n",
    "    \n",
    "    proceed = raw_input(\"Next Robot\")"
   ]
  },
  {
   "cell_type": "code",
   "execution_count": 37,
   "metadata": {},
   "outputs": [
    {
     "name": "stdout",
     "output_type": "stream",
     "text": [
      "Dispatch Time 0.0339999198914\n"
     ]
    }
   ],
   "source": [
    "# Check if robot rolls horizontally across the the room\n",
    "\n",
    "SpheroTeam.roll_sphero_team_synchronized(bots, 60, 180, offsets, 1000)\n"
   ]
  },
  {
   "cell_type": "code",
   "execution_count": 38,
   "metadata": {
    "collapsed": true
   },
   "outputs": [],
   "source": [
    "# Check video\n",
    "display_current_view(tracker)\n",
    "\n"
   ]
  },
  {
   "cell_type": "markdown",
   "metadata": {},
   "source": [
    "### Scrap Section\n",
    "\n",
    "Code below is unstructured, and some are outputs that were used to develop the above sections.\n",
    "\n"
   ]
  },
  {
   "cell_type": "code",
   "execution_count": 32,
   "metadata": {},
   "outputs": [
    {
     "name": "stdout",
     "output_type": "stream",
     "text": [
      "(x: 281, y:156, deg:29.0372889653)\n"
     ]
    }
   ],
   "source": [
    "print traceable_blue.pos"
   ]
  },
  {
   "cell_type": "code",
   "execution_count": 70,
   "metadata": {},
   "outputs": [
    {
     "data": {
      "text/plain": [
       "<sphero.response.Response at 0x6bedba8>"
      ]
     },
     "execution_count": 70,
     "metadata": {},
     "output_type": "execute_result"
    }
   ],
   "source": [
    "ts.device.roll(40, 180)"
   ]
  },
  {
   "cell_type": "code",
   "execution_count": 28,
   "metadata": {},
   "outputs": [
    {
     "name": "stdout",
     "output_type": "stream",
     "text": [
      "(x: 444, y:201, deg:24.3563912528)\n"
     ]
    }
   ],
   "source": [
    "print traceable_blue.pos"
   ]
  },
  {
   "cell_type": "code",
   "execution_count": 118,
   "metadata": {},
   "outputs": [
    {
     "name": "stdout",
     "output_type": "stream",
     "text": [
      "[183, 279, 279, 279] | [247, 241, 241, 241] \n"
     ]
    },
    {
     "data": {
      "text/plain": [
       "(279, 241)"
      ]
     },
     "execution_count": 118,
     "metadata": {},
     "output_type": "execute_result"
    }
   ],
   "source": [
    "get_bot_position(bot, traceable_blue, tracker, samples=4, debug=False)"
   ]
  },
  {
   "cell_type": "code",
   "execution_count": 63,
   "metadata": {
    "collapsed": true
   },
   "outputs": [],
   "source": [
    "ts = TraceableSphero(bot)"
   ]
  },
  {
   "cell_type": "code",
   "execution_count": 53,
   "metadata": {},
   "outputs": [
    {
     "name": "stdout",
     "output_type": "stream",
     "text": [
      "(x: 340, y:254, deg:36.7618944194)\n"
     ]
    }
   ],
   "source": [
    "print traceable_blue.pos"
   ]
  },
  {
   "cell_type": "code",
   "execution_count": 19,
   "metadata": {},
   "outputs": [
    {
     "name": "stdout",
     "output_type": "stream",
     "text": [
      "143\n",
      "371\n"
     ]
    }
   ],
   "source": [
    "ts.tracking_samples = []\n",
    "\n",
    "image = tracker.get_video_frame()\n",
    "x, y = tracker._find_traceable_in_image(image, traceable_blue)\n",
    "ts.add_tracking(Vector2D(x, y), time.time())\n",
    "\n",
    "print x\n",
    "print y"
   ]
  },
  {
   "cell_type": "code",
   "execution_count": 56,
   "metadata": {},
   "outputs": [
    {
     "name": "stdout",
     "output_type": "stream",
     "text": [
      "starts calibration\n",
      "True\n"
     ]
    }
   ],
   "source": [
    "ts.calibrate_direction()"
   ]
  },
  {
   "cell_type": "code",
   "execution_count": 36,
   "metadata": {},
   "outputs": [
    {
     "name": "stdout",
     "output_type": "stream",
     "text": [
      "[454, 454, 454, 454] | [202, 202, 202, 202] \n"
     ]
    },
    {
     "data": {
      "text/plain": [
       "(454, 202)"
      ]
     },
     "execution_count": 36,
     "metadata": {},
     "output_type": "execute_result"
    }
   ],
   "source": [
    "get_bot_position(bots[0], traceable_blue, tracker, debug=False)"
   ]
  },
  {
   "cell_type": "code",
   "execution_count": 51,
   "metadata": {},
   "outputs": [
    {
     "name": "stdout",
     "output_type": "stream",
     "text": [
      "[341] | [254] \n",
      "[340] | [254] \n",
      "Start (341,254)\n",
      "End   (340,254)\n",
      "Angle 180.0\n"
     ]
    },
    {
     "data": {
      "text/plain": [
       "180.0"
      ]
     },
     "execution_count": 51,
     "metadata": {},
     "output_type": "execute_result"
    }
   ],
   "source": [
    "\n"
   ]
  },
  {
   "cell_type": "code",
   "execution_count": 85,
   "metadata": {},
   "outputs": [
    {
     "data": {
      "text/plain": [
       "<sphero.response.Response at 0x6ed6a20>"
      ]
     },
     "execution_count": 85,
     "metadata": {},
     "output_type": "execute_result"
    }
   ],
   "source": [
    "bot.roll(50,270)"
   ]
  },
  {
   "cell_type": "code",
   "execution_count": 32,
   "metadata": {},
   "outputs": [
    {
     "data": {
      "text/plain": [
       "<sphero.response.Response at 0x6ed3630>"
      ]
     },
     "execution_count": 32,
     "metadata": {},
     "output_type": "execute_result"
    }
   ],
   "source": [
    "bot.roll(50, 135)\n",
    "\n",
    "time.sleep(1.5)\n",
    "bots[0].set_heading(0)"
   ]
  },
  {
   "cell_type": "code",
   "execution_count": 109,
   "metadata": {
    "collapsed": true
   },
   "outputs": [],
   "source": [
    "tracker._draw_masks()\n",
    "cv2.waitKey(1)"
   ]
  },
  {
   "cell_type": "markdown",
   "metadata": {},
   "source": [
    "Debugging Section"
   ]
  }
 ],
 "metadata": {
  "anaconda-cloud": {},
  "kernelspec": {
   "display_name": "Python [default]",
   "language": "python",
   "name": "python2"
  },
  "language_info": {
   "codemirror_mode": {
    "name": "ipython",
    "version": 2
   },
   "file_extension": ".py",
   "mimetype": "text/x-python",
   "name": "python",
   "nbconvert_exporter": "python",
   "pygments_lexer": "ipython2",
   "version": "2.7.12"
  }
 },
 "nbformat": 4,
 "nbformat_minor": 2
}
