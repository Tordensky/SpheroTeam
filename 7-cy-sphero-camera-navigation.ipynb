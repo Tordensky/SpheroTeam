{
 "cells": [
  {
   "cell_type": "markdown",
   "metadata": {},
   "source": [
    "Attempt to use the camera to send individual robots to specific x,y points\n",
    "\n",
    "Also, test out the new SpheroTeam Library!\n",
    "\n",
    "\n",
    "\n"
   ]
  },
  {
   "cell_type": "code",
   "execution_count": 1,
   "metadata": {
    "collapsed": true
   },
   "outputs": [],
   "source": [
    "# Foundational Sphero API, forked from Simon's Library\n",
    "import sphero"
   ]
  },
  {
   "cell_type": "code",
   "execution_count": 2,
   "metadata": {},
   "outputs": [],
   "source": [
    "# Tracking code\n",
    "import cv2\n",
    "\n",
    "# SpheroNav base classes\n",
    "from tracker.trackingfilter import FilterSpheroBlueCover, FilterGlow\n",
    "from tracker.traceable import TraceableObject\n",
    "from tracker.trackerbase import ColorTracker\n",
    "from util import Vector2D"
   ]
  },
  {
   "cell_type": "code",
   "execution_count": 3,
   "metadata": {},
   "outputs": [],
   "source": [
    "# My first python module!\n",
    "import SpheroTeam\n",
    "\n",
    "from SpheroTeam.teamutil import readJsonFile, normalize_angle, angle_between_points\n",
    "from SpheroTeam.navigation import calibrate_bot_direction, get_bot_position\n",
    "from SpheroTeam.formations import roll_polygon"
   ]
  },
  {
   "cell_type": "code",
   "execution_count": 4,
   "metadata": {
    "collapsed": true
   },
   "outputs": [],
   "source": [
    "# General Python Imports\n",
    "import time\n",
    "import os"
   ]
  },
  {
   "cell_type": "markdown",
   "metadata": {},
   "source": [
    "#### SpheroTeam Setup\n",
    "\n",
    "\n",
    "For more details about what each line does, refer to the previous notebook (6)\n"
   ]
  },
  {
   "cell_type": "code",
   "execution_count": 5,
   "metadata": {
    "collapsed": true
   },
   "outputs": [],
   "source": [
    "# This is a list of the colored \"initial names\" of the spheros you want to work with in this session\n",
    "ACTIVEBOTS = ['GRY']"
   ]
  },
  {
   "cell_type": "code",
   "execution_count": 6,
   "metadata": {},
   "outputs": [
    {
     "name": "stdout",
     "output_type": "stream",
     "text": [
      "Sphero-GRY Try #0\n",
      "IOError Occurred. Trying to connect again.\n",
      "Sphero-GRY Try #1\n",
      "IOError Occurred. Trying to connect again.\n",
      "Sphero-GRY Try #2\n",
      "IOError Occurred. Trying to connect again.\n",
      "Sphero-GRY Try #3\n",
      "IOError Occurred. Trying to connect again.\n",
      "Sphero-GRY Try #4\n",
      "IOError Occurred. Trying to connect again.\n",
      "Sphero-GRY Try #5\n",
      "IOError Occurred. Trying to connect again.\n",
      "Sphero-GRY Try #6\n",
      "IOError Occurred. Trying to connect again.\n",
      "Sphero-GRY Try #7\n",
      "IOError Occurred. Trying to connect again.\n",
      "Sphero-GRY Try #8\n",
      "IOError Occurred. Trying to connect again.\n",
      "Sphero-GRY Try #9\n",
      "IOError Occurred. Trying to connect again.\n",
      "An exception of type SpheroConnectionError occurred. Args:\n",
      "('Failed to connect after 10 retries. Is the device turned on?',)\n",
      "Sphero-GRY Try #0\n",
      "Connected!\n",
      "Sphero-GRY:Battery OK | 8.0 V\n"
     ]
    }
   ],
   "source": [
    "PROJ_ROOT = os.getcwd()\n",
    "CONFIG = os.path.join(PROJ_ROOT, \"config.json\")\n",
    "manager = sphero.SpheroManager()\n",
    "\n",
    "# Initialize Sphero manager using options provided in the config file\n",
    "manager= SpheroTeam.initialize.load_sphero_roster(manager, CONFIG)\n",
    "\n",
    "# Connect to robots\n",
    "bots = SpheroTeam.initialize.connect_sphero_team(manager, ACTIVEBOTS)\n",
    "\n",
    "# Check power, robots shut down after dropping below 7 volts\n",
    "SpheroTeam.print_team_status(bots)"
   ]
  },
  {
   "cell_type": "markdown",
   "metadata": {},
   "source": [
    "#### Camera Tracker Setup\n",
    "\n"
   ]
  },
  {
   "cell_type": "code",
   "execution_count": 7,
   "metadata": {
    "collapsed": true
   },
   "outputs": [],
   "source": [
    "tracker = ColorTracker()"
   ]
  },
  {
   "cell_type": "code",
   "execution_count": 8,
   "metadata": {
    "collapsed": true
   },
   "outputs": [],
   "source": [
    "traceable_blue = TraceableObject(\"BLUE\")\n",
    "traceable_blue.filter = FilterSpheroBlueCover()\n",
    "\n",
    "TRACEABLE_COLOR = [0, 0, 255]"
   ]
  },
  {
   "cell_type": "code",
   "execution_count": 9,
   "metadata": {
    "collapsed": true
   },
   "outputs": [],
   "source": [
    "# Team Calibration Routine\n",
    "def get_team_offsets(bots, traceable_object, traceable_color):\n",
    "    offsets = []\n",
    "    \n",
    "    for bot in bots:\n",
    "        offset = calibrate_bot_direction(bot,  traceable_blue, [0, 0, 255], tracker, True)\n",
    "        offsets.append(offset)\n",
    "        proceed = raw_input(\"'q' to quit, else continue\")\n",
    "        \n",
    "        if proceed == \"q\":\n",
    "            break\n",
    "        else:\n",
    "            continue\n",
    "    return offsets"
   ]
  },
  {
   "cell_type": "code",
   "execution_count": 10,
   "metadata": {},
   "outputs": [
    {
     "name": "stdout",
     "output_type": "stream",
     "text": [
      "Start (280,281)\n",
      "End   (331,219)\n",
      "Angle 309.440052737\n",
      "'q' to quit, else continueq\n"
     ]
    }
   ],
   "source": [
    "offsets = get_team_offsets(bots, traceable_blue, TRACEABLE_COLOR)"
   ]
  },
  {
   "cell_type": "code",
   "execution_count": 11,
   "metadata": {
    "collapsed": true
   },
   "outputs": [],
   "source": [
    "?roll_polygon"
   ]
  },
  {
   "cell_type": "code",
   "execution_count": 17,
   "metadata": {},
   "outputs": [
    {
     "name": "stdout",
     "output_type": "stream",
     "text": [
      "Dispatch Time 0.0090000629425\n"
     ]
    }
   ],
   "source": [
    "# Roll in a square to show it's working\n",
    "roll_polygon(bots, 1, offsets, 180, speed=70)"
   ]
  },
  {
   "cell_type": "markdown",
   "metadata": {},
   "source": [
    "### Lastly: Try for Basic Pid-Free Control\n",
    "\n",
    "We have a problem because we can't really get sphero's current speed given current latency issues.\n",
    "\n",
    "Therefore, we will try to move into position using the \"scooting\" method.\n"
   ]
  },
  {
   "cell_type": "code",
   "execution_count": 48,
   "metadata": {},
   "outputs": [],
   "source": [
    "import math"
   ]
  },
  {
   "cell_type": "code",
   "execution_count": 124,
   "metadata": {},
   "outputs": [],
   "source": [
    "def bot_to_point(bot, offset,\n",
    "                 targetX, targetY, \n",
    "                 TIMEOUT=800,\n",
    "                 trace_object=traceable_blue, trace_color=TRACEABLE_COLOR, \n",
    "                 tracker=tracker, MAX_SECONDS=10, stopRadius=40):\n",
    "    \n",
    "    \"\"\"\n",
    "        Currently makes use of a few implicit globals for simplicity\n",
    "        specifically traceable_blue, traceable_color\n",
    "        Maybe set stop radius  based on pixel size\n",
    "        \n",
    "        Wiggles because aiming for direct path / precision\n",
    "        \n",
    "        Constrast to \"RUSH TO POINT IN STRAIGHT LINE\"\n",
    "        \n",
    "        Really would work better with a bigger field\n",
    "        \n",
    "        Maybe we can push lighter things?\n",
    "        \n",
    "        Or boost speed when within range: pause and then burst\n",
    "    \"\"\"\n",
    "    \n",
    "    currentX, currentY = get_bot_position(bot, trace_object, tracker)\n",
    "\n",
    "    # Basic closed loop controller\n",
    "    startTime = time.time()\n",
    "    \n",
    "    # Angle to distance\n",
    "    deltaX = targetX - currentX\n",
    "    deltaY = targetY - currentY\n",
    "    angle = math.degrees(math.atan2(deltaY, deltaX))\n",
    "    distance = math.sqrt(deltaX * deltaX + deltaY * deltaY)\n",
    "    \n",
    "    print(\"Get from {},{} to {},{}| Distance {} / {}\").format(currentX, currentY, \n",
    "                                                         targetX, targetY, distance, angle)\n",
    "    bot.set_motion_timeout(TIMEOUT)\n",
    "\n",
    "    # REPLACE SOMEDAY WITH TRUE PID CONTROLLER\n",
    "    while distance > stopRadius and (((time.time() - startTime ) < MAX_SECONDS)):\n",
    "        # these should be tuned based on how many pixels 1 ball is.\n",
    "        \n",
    "        if distance < 60:\n",
    "            print(\"SUPER CLOSE\")\n",
    "            outSpeed = 33\n",
    "        elif distance < 100:\n",
    "            outSpeed = 40\n",
    "        elif distance < 250:\n",
    "            outSpeed = 60\n",
    "        else:\n",
    "            time.sleep(0.3)\n",
    "            outSpeed = 70\n",
    "\n",
    "        # roll the sphero, make use of the request object\n",
    "        print(\"Dist {} outSpeed {} at {} degrees: {},{}\"\\\n",
    "              .format(distance, outSpeed, angle, currentX, currentY))\n",
    "        \n",
    "        SpheroTeam.roll_sphero(bot, outSpeed, -angle, offset)\n",
    "        \n",
    "#         bot.roll(outSpeed, angle + offset)\n",
    "        time.sleep(TIMEOUT/1000.0)\n",
    "        time.sleep(.3) # give camera time to catch up\n",
    "\n",
    "        currentX , currentY = get_bot_position(bot, trace_object, tracker)\n",
    "\n",
    "        # Repeat waypointing calculation\n",
    "        deltaX = targetX - currentX\n",
    "        deltaY = targetY - currentY\n",
    "        \n",
    "        angle = math.degrees(math.atan2(deltaY, deltaX))\n",
    "        distance = math.sqrt(deltaX * deltaX + deltaY * deltaY)\n",
    "\n",
    "    print(\"Stopped at {},{}, with dist {}\").format(currentX, currentY, distance)"
   ]
  },
  {
   "cell_type": "code",
   "execution_count": 125,
   "metadata": {},
   "outputs": [
    {
     "data": {
      "text/plain": [
       "<sphero.response.Response at 0x4d79550>"
      ]
     },
     "execution_count": 125,
     "metadata": {},
     "output_type": "execute_result"
    }
   ],
   "source": [
    "bots[0].set_rgb(0, 0, 255)\n"
   ]
  },
  {
   "cell_type": "code",
   "execution_count": 126,
   "metadata": {},
   "outputs": [
    {
     "name": "stdout",
     "output_type": "stream",
     "text": [
      "Get from 312,416 to 350,350| Distance 76.1577310586 / -60.0684881595\n",
      "Dist 76.1577310586 outSpeed 40 at -60.0684881595 degrees: 312,416\n",
      "Dist 70.7248188403 outSpeed 40 at -46.1457628382 degrees: 301,401\n",
      "Dist 65.0 outSpeed 40 at -22.619864948 degrees: 290,375\n",
      "SUPER CLOSE\n",
      "Dist 56.5685424949 outSpeed 33 at 8.13010235416 degrees: 294,342\n",
      "SUPER CLOSE\n",
      "Dist 50.8035431835 outSpeed 33 at 36.1932073056 degrees: 309,320\n",
      "SUPER CLOSE\n",
      "Dist 49.3963561409 outSpeed 33 at 68.6293777307 degrees: 332,304\n",
      "SUPER CLOSE\n",
      "Dist 45.3982378513 outSpeed 33 at 97.5946433686 degrees: 356,305\n",
      "SUPER CLOSE\n",
      "Dist 44.687805943 outSpeed 33 at 130.462227492 degrees: 379,316\n",
      "SUPER CLOSE\n",
      "Dist 40.3112887415 outSpeed 33 at 156.614778943 degrees: 387,334\n",
      "Stopped at 387,352, with dist 37.0540146273\n"
     ]
    }
   ],
   "source": [
    "bot_to_point(bots[0], offsets[0], 350, 350, TIMEOUT=500)"
   ]
  },
  {
   "cell_type": "code",
   "execution_count": 127,
   "metadata": {},
   "outputs": [
    {
     "name": "stdout",
     "output_type": "stream",
     "text": [
      "Get from 388,352 to 150,150| Distance 312.166622175 / -139.677417859\n",
      "Dist 312.166622175 outSpeed 70 at -139.677417859 degrees: 388,352\n",
      "Dist 303.534182589 outSpeed 70 at -132.997466868 degrees: 357,372\n",
      "Dist 280.417545813 outSpeed 70 at -123.066695907 degrees: 303,385\n",
      "Dist 256.462472888 outSpeed 70 at -112.465197653 degrees: 248,387\n",
      "Dist 237.305710003 outSpeed 60 at -97.9935214936 degrees: 183,385\n",
      "Dist 216.335387766 outSpeed 60 at -83.6305607939 degrees: 126,365\n",
      "Dist 202.249845488 outSpeed 60 at -69.1455419604 degrees: 78,339\n",
      "Dist 182.78402556 outSpeed 60 at -55.7013507239 degrees: 47,301\n",
      "Dist 167.107749671 outSpeed 60 at -38.9275435928 degrees: 20,255\n",
      "Dist 149.485785277 outSpeed 60 at -21.5878858307 degrees: 11,205\n",
      "Dist 138.177422179 outSpeed 60 at -2.9038188651 degrees: 12,157\n",
      "Stopped at 27,114, with dist 128.16005618\n",
      "Get from 28,107 to 300,300| Distance 333.516116552 / 35.3579425797\n",
      "Dist 333.516116552 outSpeed 70 at 35.3579425797 degrees: 28,107\n",
      "Dist 309.919344346 outSpeed 70 at 42.9079337205 degrees: 73,89\n",
      "Dist 293.00170648 outSpeed 70 at 53.3256503304 degrees: 125,65\n",
      "Dist 272.882758708 outSpeed 70 at 62.0263200876 degrees: 172,59\n",
      "Dist 254.907826479 outSpeed 70 at 72.4180270575 degrees: 223,57\n",
      "Dist 239.207023308 outSpeed 60 at 84.2417398356 degrees: 276,62\n",
      "Dist 221.903132019 outSpeed 60 at 95.171052418 degrees: 320,79\n",
      "Dist 211.740407103 outSpeed 60 at 104.495649953 degrees: 353,95\n",
      "Dist 194.65353837 outSpeed 60 at 114.590117166 degrees: 381,123\n",
      "Dist 181.37254478 outSpeed 60 at 131.423665625 degrees: 420,164\n",
      "Dist 161.895027719 outSpeed 60 at 149.15763265 degrees: 439,217\n",
      "Stopped at 443,264, with dist 147.461859476\n"
     ]
    }
   ],
   "source": [
    "# I think the key is small timeouts\n",
    "bot_to_point(bots[0], offsets[0], 150, 150, TIMEOUT=400)\n",
    "\n",
    "bot_to_point(bots[0], offsets[0], 300, 300, TIMEOUT=400)"
   ]
  },
  {
   "cell_type": "markdown",
   "metadata": {},
   "source": [
    "Maybe bots wiggle around to move into position, and then use blunt force to rush the target??!! \n",
    "\n",
    "Anyways this now works with 1 robot!!! WOOHOO\n",
    "\n",
    "Worry about robots bumping into each other later\n"
   ]
  }
 ],
 "metadata": {
  "kernelspec": {
   "display_name": "Python [default]",
   "language": "python",
   "name": "python2"
  },
  "language_info": {
   "codemirror_mode": {
    "name": "ipython",
    "version": 2
   },
   "file_extension": ".py",
   "mimetype": "text/x-python",
   "name": "python",
   "nbconvert_exporter": "python",
   "pygments_lexer": "ipython2",
   "version": "2.7.12"
  }
 },
 "nbformat": 4,
 "nbformat_minor": 2
}
