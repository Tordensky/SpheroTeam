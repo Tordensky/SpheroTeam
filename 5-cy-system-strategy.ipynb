{
 "cells": [
  {
   "cell_type": "markdown",
   "metadata": {},
   "source": [
    "### Limitations of Spheros\n",
    "\n",
    "- Heading gets messed up when it bumps into things\n",
    "- Very limited sensors\n",
    "    - Gyro\n",
    "    - Accelerometer\n",
    "    \n",
    "- Unusable location sensors\n",
    "    - bot.read_locator()\n",
    "        - x,y position\n",
    "        - 'sog' (speed on ground)\n",
    "        \n",
    "- Limited gripping friction (smooth surface) robot shell means it cannot push from a standstill effectively unless the target weighs significantly less than the sphero (physics)\n",
    "\n",
    "\n"
   ]
  },
  {
   "cell_type": "markdown",
   "metadata": {},
   "source": [
    "### Videos\n",
    "\n",
    "- Embed here\n"
   ]
  },
  {
   "cell_type": "markdown",
   "metadata": {},
   "source": [
    "### Proposed Strategy\n",
    "\n",
    "Based on testing with the blocks on 4/22 to overcome above limitations, I believe that the optimal pushing strategy looks something like this. \n",
    "\n",
    "\n",
    "Note that we work with objects with low surface friction, i.e. putting wooden blocks on top of a plastic tray.\n",
    "\n",
    "- Camera detects \"pushing plane\" of the target: the line on the object that the robots should be pushing against. The pushing plane is perpendicular to a direct line between the object and the target destination.\n",
    "\n",
    "- Robots move into a formation so that they are symmetrically about a line perpendicular to the \"pushing plane\"\n",
    "- Robots then roll rapidly towards the pushing plane. Camera begins tracking them.\n",
    "\n",
    "At this point, we know there are significant latency issues when more than 3 robots are being tracked at once. I propose the following modification to the traditional full tracking algorithm.\n",
    "\n",
    "\n",
    "    - On each frame, track the camera and just 1 of the robots. (Note the camera captures 20 FPS). Take turns re: which robot is being tracked.\n",
    "    \n",
    "    - If a robot is behind the pushing plane, let it drive at constant speed towards the target, and update its pushing heading. (Only use PID controller if we are worried about the robots pushing the box too far/ with inertia). Status is \"PUSHING\"\n",
    "    - If robot is ahead of the pushing plane, set status to \"RETREATING\".\n",
    "\n",
    "\n",
    "After each frame has been processed, we then send a roll command to each robot based on its status.\n",
    "\n",
    "\n",
    "    - If status is \"PUSHING\", push it along the current heading\n",
    "    - If status is \"RETREATING\", somehow get robot away from other robots, and pilot it back towards some fixed distance behind the pushing plane. (Maybe at 45 degree angles or something? They might bump towards each other.\n",
    "    - Break when object has reached its target destination.\n",
    "    "
   ]
  }
 ],
 "metadata": {
  "kernelspec": {
   "display_name": "Python [default]",
   "language": "python",
   "name": "python2"
  },
  "language_info": {
   "codemirror_mode": {
    "name": "ipython",
    "version": 2
   },
   "file_extension": ".py",
   "mimetype": "text/x-python",
   "name": "python",
   "nbconvert_exporter": "python",
   "pygments_lexer": "ipython2",
   "version": "2.7.12"
  }
 },
 "nbformat": 4,
 "nbformat_minor": 2
}
