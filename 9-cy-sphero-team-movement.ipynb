{
 "cells": [
  {
   "cell_type": "markdown",
   "metadata": {},
   "source": [
    "In which I attempt to control multiple robots simultaneously!\n"
   ]
  },
  {
   "cell_type": "code",
   "execution_count": 1,
   "metadata": {
    "collapsed": true
   },
   "outputs": [],
   "source": [
    "# Foundational Sphero API, forked from Simon's Library\n",
    "import sphero"
   ]
  },
  {
   "cell_type": "code",
   "execution_count": 2,
   "metadata": {
    "collapsed": true
   },
   "outputs": [],
   "source": [
    "# Tracking code\n",
    "import cv2\n",
    "# SpheroNav base classes\n",
    "from tracker.trackingfilter import FilterSpheroBlueCover, FilterSpheroYellowCover, FilterGlow\n",
    "\n",
    "\n",
    "from tracker.traceable import TraceableObject\n",
    "from tracker.trackerbase import ColorTracker\n",
    "from util import Vector2D"
   ]
  },
  {
   "cell_type": "code",
   "execution_count": 3,
   "metadata": {},
   "outputs": [],
   "source": [
    "import SpheroTeam\n",
    "\n",
    "# If project is rearchitected, rethink how to make functions accessible\n",
    "# Look into python module / api design\n",
    "from SpheroTeam.teamutil import readJsonFile, normalize_angle, angle_between_points\n",
    "from SpheroTeam.navigation import calibrate_bot_direction, get_bot_position, get_team_offsets\n",
    "\n",
    "from SpheroTeam.formations import roll_polygon, roll_push\n",
    "from SpheroTeam.director import bot_go_to_point"
   ]
  },
  {
   "cell_type": "code",
   "execution_count": 4,
   "metadata": {
    "collapsed": true
   },
   "outputs": [],
   "source": [
    "# General Python Imports\n",
    "import time\n",
    "import os\n",
    "import logging"
   ]
  },
  {
   "cell_type": "markdown",
   "metadata": {},
   "source": [
    "#### SpheroTeam Setup\n",
    "\n",
    "\n",
    "For more details about what each line does, refer to the previous notebook (6)\n"
   ]
  },
  {
   "cell_type": "code",
   "execution_count": 5,
   "metadata": {
    "collapsed": true
   },
   "outputs": [],
   "source": [
    "# This is a list of the colored \"initial names\" of the spheros you want to work with in this session\n",
    "ACTIVEBOTS = ['RPB', 'RWR', 'ORG']"
   ]
  },
  {
   "cell_type": "code",
   "execution_count": 6,
   "metadata": {},
   "outputs": [
    {
     "name": "stdout",
     "output_type": "stream",
     "text": [
      "Sphero-RPB Try #0\n",
      "IOError Occurred. Trying to connect again.\n",
      "Sphero-RPB Try #1\n",
      "Connected!\n",
      "Sphero-RWR Try #0\n",
      "Connected!\n",
      "Sphero-ORG Try #0\n",
      "Connected!\n"
     ]
    }
   ],
   "source": [
    "PROJ_ROOT = os.getcwd()\n",
    "CONFIG = os.path.join(PROJ_ROOT, \"config.json\")\n",
    "config = readJsonFile(CONFIG)\n",
    "TEAM_COLORS = config['teamColors']\n",
    "\n",
    "\n",
    "manager = sphero.SpheroManager()\n",
    "\n",
    "# Initialize Sphero manager using options provided in the config file\n",
    "manager= SpheroTeam.initialize.load_sphero_roster(manager, CONFIG)\n",
    "\n",
    "# Connect to robots\n",
    "bots = SpheroTeam.initialize.connect_sphero_team(manager, ACTIVEBOTS)"
   ]
  },
  {
   "cell_type": "code",
   "execution_count": 7,
   "metadata": {},
   "outputs": [
    {
     "name": "stdout",
     "output_type": "stream",
     "text": [
      "Sphero-RPB:Battery OK | 8.03 V\n",
      "NOTE! Removes wrong byte in start of header! Byte:  13\n",
      "Sphero-RWR:Battery OK | 7.96 V\n",
      "NOTE! Removes wrong byte in start of header! Byte:  13\n",
      "Sphero-ORG:Battery OK | 8.05 V\n"
     ]
    }
   ],
   "source": [
    "# Check power, robots shut down after dropping below 7 volts\n",
    "SpheroTeam.print_team_status(bots)"
   ]
  },
  {
   "cell_type": "code",
   "execution_count": 8,
   "metadata": {},
   "outputs": [
    {
     "data": {
      "text/plain": [
       "[[255, 0, 0],\n",
       " [0, 255, 0],\n",
       " [0, 0, 255],\n",
       " [255, 0, 255],\n",
       " [255, 255, 0],\n",
       " [255, 133, 0],\n",
       " [255, 192, 203]]"
      ]
     },
     "execution_count": 8,
     "metadata": {},
     "output_type": "execute_result"
    }
   ],
   "source": [
    "TEAM_COLORS = config['teamColors']\n",
    "TEAM_COLORS"
   ]
  },
  {
   "cell_type": "markdown",
   "metadata": {},
   "source": [
    "#### Camera Tracker Setup\n",
    "\n"
   ]
  },
  {
   "cell_type": "markdown",
   "metadata": {},
   "source": [
    "In which I try custom filters for yellow, red, green, and orange, find that the camera has trouble seeing ANY of them besides blue\n"
   ]
  },
  {
   "cell_type": "code",
   "execution_count": 9,
   "metadata": {},
   "outputs": [],
   "source": [
    "tracker = ColorTracker(config['cameraID'])"
   ]
  },
  {
   "cell_type": "code",
   "execution_count": 10,
   "metadata": {},
   "outputs": [
    {
     "name": "stdout",
     "output_type": "stream",
     "text": [
      "Image: 640 x 480 pixels\n"
     ]
    }
   ],
   "source": [
    "imageX, imageY = tracker.image_size\n",
    "print \"Image: {} x {} pixels\".format(imageX, imageY)"
   ]
  },
  {
   "cell_type": "code",
   "execution_count": 11,
   "metadata": {
    "collapsed": true
   },
   "outputs": [],
   "source": [
    "traceable_color = [0, 0, 255]  # RGB Blue\n",
    "traceable_blue = TraceableObject(\"BLUE\")\n",
    "traceable_blue.filter = FilterSpheroBlueCover()"
   ]
  },
  {
   "cell_type": "code",
   "execution_count": 12,
   "metadata": {
    "collapsed": true
   },
   "outputs": [],
   "source": [
    "# make sure everyone is off before calibrating.\n",
    "for bot in bots:\n",
    "    bot.set_rgb(0,0,0)"
   ]
  },
  {
   "cell_type": "code",
   "execution_count": 19,
   "metadata": {},
   "outputs": [
    {
     "name": "stdout",
     "output_type": "stream",
     "text": [
      "Start (270,236)\n",
      "End   (231,248)\n",
      "Angle 162.897271031\n",
      "'q' to quit, else calibrate next robot a\n",
      "Start (352,270)\n",
      "End   (422,285)\n",
      "Angle 12.094757077\n",
      "'q' to quit, else calibrate next robot a\n",
      "Start (358,216)\n",
      "End   (321,136)\n",
      "Angle 245.179458665\n",
      "'q' to quit, else calibrate next robot a\n"
     ]
    }
   ],
   "source": [
    "# Blue seems to be the most reliable color to track with.\n",
    "# Be suspicious if any of the offsets are 0!!!\n",
    "offsets = get_team_offsets(bots, traceable_blue, traceable_color, tracker)"
   ]
  },
  {
   "cell_type": "code",
   "execution_count": 7,
   "metadata": {
    "collapsed": true
   },
   "outputs": [],
   "source": [
    "?roll_polygon"
   ]
  },
  {
   "cell_type": "code",
   "execution_count": 17,
   "metadata": {},
   "outputs": [
    {
     "name": "stdout",
     "output_type": "stream",
     "text": [
      "Dispatch Time 0.161999940872\n"
     ]
    }
   ],
   "source": [
    "# Roll in a square to show it's working\n",
    "# can roll in single direction using roll-push.\n",
    "roll_polygon(bots, 1, offsets, 180, speed=120, TIMEOUT=1000)"
   ]
  },
  {
   "cell_type": "code",
   "execution_count": 20,
   "metadata": {},
   "outputs": [
    {
     "name": "stdout",
     "output_type": "stream",
     "text": [
      "Dispatch Time 0.213999986649\n"
     ]
    }
   ],
   "source": [
    "roll_polygon(bots, 1, offsets, 180, speed=50, TIMEOUT=1000)"
   ]
  },
  {
   "cell_type": "markdown",
   "metadata": {},
   "source": [
    "### Finally: Group sending of robots to points\n",
    "\n",
    "\n"
   ]
  },
  {
   "cell_type": "markdown",
   "metadata": {},
   "source": [
    "One problem: when robot rolls off the viewing field. Maybe when a robot cannot be seen, it should roll in the opposite of the last angle it rolled in.\n"
   ]
  },
  {
   "cell_type": "code",
   "execution_count": 15,
   "metadata": {
    "collapsed": true
   },
   "outputs": [],
   "source": [
    "?get_bot_position()"
   ]
  },
  {
   "cell_type": "code",
   "execution_count": null,
   "metadata": {
    "collapsed": true
   },
   "outputs": [],
   "source": [
    "print imageX\n",
    "print imageY"
   ]
  },
  {
   "cell_type": "code",
   "execution_count": 23,
   "metadata": {},
   "outputs": [],
   "source": [
    "def team_go_to_points(bots, targets, offsets, traceable_object, traceable_color,\n",
    "                      MAX_X=imageX, MAX_Y=imageY, TIMEOUT=200, stopRadius=25):\n",
    "    '''\n",
    "        Send each bot in the team to its designated point. \n",
    "        Bots drive in a straight line to\n",
    "        each point.\n",
    "        \n",
    "        Alternate function would send each robot along paths (sequences of points)\n",
    "        Perhaps each point might have its own Kp or timeout or speed.\n",
    "    '''\n",
    "    \n",
    "    for bot in bots:\n",
    "        bot.set_rgb(0,0,0)\n",
    "    \n",
    "    for i, bot in enumerate(bots):\n",
    "        print(\"Bot {}\".format(bot.bt_name))\n",
    "        bot.set_rgb(traceable_color[0], traceable_color[1], traceable_color[2])\n",
    "        time.sleep(2.5)\n",
    "        \n",
    "        targetX, targetY = targets[i]\n",
    "        bot_go_to_point(bot, offsets[i], targetX, targetY,          \n",
    "                        traceable_object, traceable_color, MAX_X, MAX_Y, tracker, \n",
    "                        TIMEOUT=250, stopRadius=stopRadius)  \n",
    "        \n",
    "        bot.set_rgb(0,0,0)\n",
    "        "
   ]
  },
  {
   "cell_type": "code",
   "execution_count": 24,
   "metadata": {
    "collapsed": true
   },
   "outputs": [],
   "source": [
    "def team_go_to_paths(bots, paths, offsets, traceable_object, traceable_color,\n",
    "                      MAX_X=imageX, MAX_Y=imageY, TIMEOUT=200, stopRadius=25):\n",
    "    '''\n",
    "        Send each bot in the team some points!\n",
    "    '''\n",
    "    \n",
    "    for bot in bots:\n",
    "        bot.set_rgb(0,0,0)\n",
    "    \n",
    "    for i, bot in enumerate(bots):\n",
    "        print(\"Bot {}\".format(bot.bt_name))\n",
    "        bot.set_rgb(traceable_color[0], traceable_color[1], traceable_color[2])\n",
    "        time.sleep(2)\n",
    "        \n",
    "\n",
    "        for target in paths[i]:\n",
    "            targetX, targetY = target\n",
    "            bot_go_to_point(bot, offsets[i], targetX, targetY,          \n",
    "                traceable_object, traceable_color, MAX_X, MAX_Y, tracker, TIMEOUT=250,\n",
    "                           stopRadius=stopRadius)  \n",
    "        \n",
    "        # Turn robot off when done\n",
    "        bot.set_rgb(0,0,0) "
   ]
  },
  {
   "cell_type": "code",
   "execution_count": 26,
   "metadata": {
    "collapsed": true
   },
   "outputs": [],
   "source": [
    "# Every robot, after some pushing activity, will use this path to skirt the perimeter\n",
    "recoveryPaths = [\n",
    "    [\n",
    "        [320, 400],  # \n",
    "        [100, 245]\n",
    "    ],\n",
    "    \n",
    "    [\n",
    "        [320, 100],\n",
    "        [100, 235]\n",
    "    ],\n",
    "    \n",
    "    [\n",
    "        [320, 400],  # \n",
    "        [100, 250]\n",
    "    ],\n",
    "    \n",
    "    [\n",
    "        [320, 100],\n",
    "        [100, 230]\n",
    "    ],\n",
    "    \n",
    "    [\n",
    "        [320, 400],  # \n",
    "        [100, 255]\n",
    "    ],\n",
    "    [\n",
    "        \n",
    "        [320, 100],\n",
    "        [100, 225]\n",
    "    ],\n",
    "    [\n",
    "        [320, 100],\n",
    "        [100, 225]\n",
    "    ]\n",
    "]"
   ]
  },
  {
   "cell_type": "code",
   "execution_count": 27,
   "metadata": {
    "scrolled": true
   },
   "outputs": [
    {
     "name": "stdout",
     "output_type": "stream",
     "text": [
      "Bot Sphero-RPB\n",
      "Get from 311,102 to 300,150| Distance 49.244289009 / 102.907408671\n",
      "Stopped at 324,131, with dist 30.61045573\n",
      "Bot Sphero-RWR\n",
      "Get from 301,117 to 300,155| Distance 38.0131556175 / 91.5074357588\n",
      "Stopped at 302,148, with dist 7.28010988928\n",
      "Bot Sphero-ORG\n",
      "Get from 287,138 to 300,160| Distance 25.5538646784 / 59.4207731275\n"
     ]
    },
    {
     "name": "stderr",
     "output_type": "stream",
     "text": [
      "WARNING:root:Robot not in view, make sure it's on?\n",
      "WARNING:root:Robot not in view, make sure it's on?\n",
      "WARNING:root:Robot not in view, make sure it's on?\n",
      "WARNING:root:Robot not in view, make sure it's on?\n"
     ]
    },
    {
     "name": "stdout",
     "output_type": "stream",
     "text": [
      "Stopped at 248,130, with dist 60.0333240792\n"
     ]
    }
   ],
   "source": [
    "# Send robots to a cluster around 300, 150\n",
    "targets = [ [300, 150 + i*5] for i in range(len(bots))] # space out the robots along x = 100\n",
    "\n",
    "team_go_to_points(bots, targets, offsets, traceable_blue, traceable_color, stopRadius=15, )"
   ]
  },
  {
   "cell_type": "markdown",
   "metadata": {},
   "source": [
    "### Now, move them together\n",
    "\n",
    "\n"
   ]
  },
  {
   "cell_type": "code",
   "execution_count": 28,
   "metadata": {},
   "outputs": [],
   "source": [
    "SpheroTeam.set_team_colors(bots, TEAM_COLORS)    "
   ]
  },
  {
   "cell_type": "code",
   "execution_count": 29,
   "metadata": {},
   "outputs": [
    {
     "name": "stdout",
     "output_type": "stream",
     "text": [
      "Dispatch Time 0.162999868393\n",
      "Dispatch Time 0.181999921799\n",
      "Dispatch Time 0.164999961853\n",
      "Dispatch Time 0.197000026703\n",
      "Dispatch Time 0.164000034332\n"
     ]
    }
   ],
   "source": [
    "# Test a pentagon\n",
    "roll_polygon(bots, 5, offsets, 180, speed=60, TIMEOUT=1200)"
   ]
  },
  {
   "cell_type": "code",
   "execution_count": 61,
   "metadata": {
    "run_control": {
     "marked": true
    }
   },
   "outputs": [],
   "source": [
    "# Bring a lost sphero back if it rolled away (consider making an arena wall in future)\n",
    "# SpheroTeam.roll_sphero(bots[0], 40, 180, offsets[0])"
   ]
  },
  {
   "cell_type": "code",
   "execution_count": null,
   "metadata": {
    "collapsed": true
   },
   "outputs": [],
   "source": [
    "# Roll all team along angle 0 at a speed of 70 for 3 seconds\n",
    "roll_push(bots, 0, 70, offsets, TIMEOUT=3000)"
   ]
  },
  {
   "cell_type": "code",
   "execution_count": 30,
   "metadata": {},
   "outputs": [
    {
     "name": "stdout",
     "output_type": "stream",
     "text": [
      "Bot Sphero-RPB\n",
      "Get from 248,130 to 320,400| Distance 279.435144533 / 75.0685828219\n",
      "Stopped at 358,408, with dist 38.8329756779\n",
      "Get from 355,387 to 100,245| Distance 291.871547089 / -150.888195474\n",
      "Stopped at 135,253, with dist 35.902646142\n",
      "Bot Sphero-RWR\n",
      "Get from 134,236 to 320,100| Distance 230.417013261 / -36.1736290458\n",
      "Stopped at 319,82, with dist 18.0277563773\n",
      "Get from 317,87 to 100,235| Distance 262.665186121 / 145.70493089\n",
      "Stopped at 103,219, with dist 16.2788205961\n",
      "Bot Sphero-ORG\n",
      "Get from 90,237 to 320,400| Distance 281.902465402 / 35.3250346381\n",
      "Stopped at 302,417, with dist 24.7588368063\n",
      "Get from 326,432 to 100,250| Distance 290.172362571 / -141.155168343\n",
      "Stopped at 92,232, with dist 19.6977156036\n"
     ]
    },
    {
     "name": "stderr",
     "output_type": "stream",
     "text": [
      "Exception in thread SpheroReceiverThread:\n",
      "Traceback (most recent call last):\n",
      "  File \"C:\\Users\\cyick\\Anaconda2\\lib\\threading.py\", line 801, in __bootstrap_inner\n",
      "    self.run()\n",
      "  File \"C:\\Users\\cyick\\Anaconda2\\lib\\threading.py\", line 754, in run\n",
      "    self.__target(*self.__args, **self.__kwargs)\n",
      "  File \"C:\\Users\\cyick\\AppData\\Roaming\\Python\\Python27\\site-packages\\sphero\\core.py\", line 422, in _receiver\n",
      "    header = self._receive_header()\n",
      "  File \"C:\\Users\\cyick\\AppData\\Roaming\\Python\\Python27\\site-packages\\sphero\\core.py\", line 306, in _receive_header\n",
      "    first_byte = struct.unpack('B', raw_data)[0]\n",
      "error: unpack requires a string argument of length 1\n",
      "\n",
      "Exception in thread SpheroReceiverThread:\n",
      "Traceback (most recent call last):\n",
      "  File \"C:\\Users\\cyick\\Anaconda2\\lib\\threading.py\", line 801, in __bootstrap_inner\n",
      "    self.run()\n",
      "  File \"C:\\Users\\cyick\\Anaconda2\\lib\\threading.py\", line 754, in run\n",
      "    self.__target(*self.__args, **self.__kwargs)\n",
      "  File \"C:\\Users\\cyick\\AppData\\Roaming\\Python\\Python27\\site-packages\\sphero\\core.py\", line 422, in _receiver\n",
      "    header = self._receive_header()\n",
      "  File \"C:\\Users\\cyick\\AppData\\Roaming\\Python\\Python27\\site-packages\\sphero\\core.py\", line 306, in _receive_header\n",
      "    first_byte = struct.unpack('B', raw_data)[0]\n",
      "error: unpack requires a string argument of length 1\n",
      "\n",
      "Exception in thread SpheroReceiverThread:\n",
      "Traceback (most recent call last):\n",
      "  File \"C:\\Users\\cyick\\Anaconda2\\lib\\threading.py\", line 801, in __bootstrap_inner\n",
      "    self.run()\n",
      "  File \"C:\\Users\\cyick\\Anaconda2\\lib\\threading.py\", line 754, in run\n",
      "    self.__target(*self.__args, **self.__kwargs)\n",
      "  File \"C:\\Users\\cyick\\AppData\\Roaming\\Python\\Python27\\site-packages\\sphero\\core.py\", line 422, in _receiver\n",
      "    header = self._receive_header()\n",
      "  File \"C:\\Users\\cyick\\AppData\\Roaming\\Python\\Python27\\site-packages\\sphero\\core.py\", line 306, in _receive_header\n",
      "    first_byte = struct.unpack('B', raw_data)[0]\n",
      "error: unpack requires a string argument of length 1\n",
      "\n"
     ]
    }
   ],
   "source": [
    "# Show how robots would recover from \"overshooting\" the target by going to the outside of the arena\n",
    "#, and then returning to a home area.\n",
    "team_go_to_paths(bots, recoveryPaths, offsets, traceable_blue, traceable_color)"
   ]
  },
  {
   "cell_type": "markdown",
   "metadata": {},
   "source": [
    "Challenges: \n",
    "\n",
    "- Path planning is not the same thing as simply choosing to arrive at a point.\n",
    "    - Need to come up with algorithm to avoid obstacles, knowing that you may miss goal points by 10-20 centimeters.\n",
    "    \n",
    "- Tuning the right KP parameter is tricky\n",
    "- Coming up with recovery paths is tricky\n",
    "\n",
    "- How to stop robots from bumping into each other\n",
    "\n",
    "\n",
    "- When robot runs out of bounds, we can't see it... need to create a \"fence\" around the arena and that would fix it.\n",
    "\n",
    "- Tracker can only reliably \"see\" 1 color at once, so workaround is only using that 1 color for tracking.\n",
    "\n",
    "Alternate ideas that weren't implemented due to lack of time\n",
    "\n",
    "- When swarm needs to converge on 1 point: have everyone drive at fixed speed\n",
    "\n",
    "- drive for however long that distance takes in pixels\n",
    "\n",
    "- Let everyone drive simultaneously by giving each robot a blind directive, and not using any feedback to tune its behavior (aka a \"formation\")\n",
    "\n",
    "\n",
    "- Write a function that given a singular (x,y) point, generates a list of pixels that each robot would aim for, along with an \"shape\" and relevant parameters for how the robots should be arranged (aka box, line, circle, hexagon, etc)\n",
    "\n",
    "- Write a function that given a singular target (x,y) point and a robot, define a list of points that the robot should visit before reaching the target points\n",
    "\n"
   ]
  }
 ],
 "metadata": {
  "kernelspec": {
   "display_name": "Python [default]",
   "language": "python",
   "name": "python2"
  },
  "language_info": {
   "codemirror_mode": {
    "name": "ipython",
    "version": 2
   },
   "file_extension": ".py",
   "mimetype": "text/x-python",
   "name": "python",
   "nbconvert_exporter": "python",
   "pygments_lexer": "ipython2",
   "version": "2.7.12"
  }
 },
 "nbformat": 4,
 "nbformat_minor": 2
}
